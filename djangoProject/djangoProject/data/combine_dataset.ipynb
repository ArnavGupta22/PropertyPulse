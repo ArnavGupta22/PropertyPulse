{
  "nbformat": 4,
  "nbformat_minor": 0,
  "metadata": {
    "colab": {
      "provenance": []
    },
    "kernelspec": {
      "name": "ir",
      "display_name": "R"
    },
    "language_info": {
      "name": "R"
    }
  },
  "cells": [
    {
      "cell_type": "code",
      "execution_count": 2,
      "metadata": {
        "colab": {
          "base_uri": "https://localhost:8080/"
        },
        "id": "J2e6SjYiQgP-",
        "outputId": "7d3346e2-e4a2-4924-efa1-38127b3d2a4b"
      },
      "outputs": [
        {
          "output_type": "stream",
          "name": "stderr",
          "text": [
            "── \u001b[1mAttaching core tidyverse packages\u001b[22m ──────────────────────── tidyverse 2.0.0 ──\n",
            "\u001b[32m✔\u001b[39m \u001b[34mdplyr    \u001b[39m 1.1.4     \u001b[32m✔\u001b[39m \u001b[34mreadr    \u001b[39m 2.1.5\n",
            "\u001b[32m✔\u001b[39m \u001b[34mforcats  \u001b[39m 1.0.0     \u001b[32m✔\u001b[39m \u001b[34mstringr  \u001b[39m 1.5.1\n",
            "\u001b[32m✔\u001b[39m \u001b[34mggplot2  \u001b[39m 3.5.1     \u001b[32m✔\u001b[39m \u001b[34mtibble   \u001b[39m 3.2.1\n",
            "\u001b[32m✔\u001b[39m \u001b[34mlubridate\u001b[39m 1.9.3     \u001b[32m✔\u001b[39m \u001b[34mtidyr    \u001b[39m 1.3.1\n",
            "\u001b[32m✔\u001b[39m \u001b[34mpurrr    \u001b[39m 1.0.2     \n",
            "── \u001b[1mConflicts\u001b[22m ────────────────────────────────────────── tidyverse_conflicts() ──\n",
            "\u001b[31m✖\u001b[39m \u001b[34mdplyr\u001b[39m::\u001b[32mfilter()\u001b[39m masks \u001b[34mstats\u001b[39m::filter()\n",
            "\u001b[31m✖\u001b[39m \u001b[34mdplyr\u001b[39m::\u001b[32mlag()\u001b[39m    masks \u001b[34mstats\u001b[39m::lag()\n",
            "\u001b[36mℹ\u001b[39m Use the conflicted package (\u001b[3m\u001b[34m<http://conflicted.r-lib.org/>\u001b[39m\u001b[23m) to force all conflicts to become errors\n"
          ]
        }
      ],
      "source": [
        "library(tidyverse)"
      ]
    },
    {
      "cell_type": "code",
      "source": [
        "crime <- read.csv(\"crime_rate_35cities.csv\")\n",
        "price <- read.csv(\"houseprice_35cities.csv\")\n",
        "income <- read.csv(\"income_35cities.csv\")\n",
        "age <- read.csv(\"medianage_35cities.csv\")\n",
        "unemployment <- read.csv(\"unemployment_35cities.csv\")"
      ],
      "metadata": {
        "id": "37BXeT1qUMwS"
      },
      "execution_count": 8,
      "outputs": []
    },
    {
      "cell_type": "code",
      "source": [
        "crime <- select(crime, -X)\n",
        "price <- select(price, -X)\n",
        "income <- select(income, -X)\n",
        "age <- select(age, -X)\n",
        "unemployment <- select(unemployment, -X)"
      ],
      "metadata": {
        "id": "TZNvUWehUgFM"
      },
      "execution_count": 9,
      "outputs": []
    },
    {
      "cell_type": "code",
      "source": [
        "colnames(crime) <- c('City', '2005','2006','2007','2008','2009','2010','2011','2012','2013','2014','2015')\n",
        "colnames(price) <- c('City', '2005','2006','2007','2008','2009','2010','2011','2012','2013','2014','2015')\n",
        "colnames(income) <- c('City', '2005','2006','2007','2008','2009','2010','2011','2012','2013','2014','2015')\n",
        "colnames(age) <- c('City', '2005','2006','2007','2008','2009','2010','2011','2012','2013','2014','2015')\n",
        "colnames(unemployment) <- c('City', '2005','2006','2007','2008','2009','2010','2011','2012','2013','2014','2015')"
      ],
      "metadata": {
        "id": "UCyx93BTXDDW"
      },
      "execution_count": 12,
      "outputs": []
    },
    {
      "cell_type": "code",
      "source": [
        "crime <- pivot_longer(crime, cols = c('2005','2006','2007','2008','2009','2010','2011','2012','2013','2014','2015'), names_to = \"year\", values_to = \"crime\")\n",
        "price <- pivot_longer(price, cols = c('2005','2006','2007','2008','2009','2010','2011','2012','2013','2014','2015'), names_to = \"year\", values_to = \"price\")\n",
        "income <- pivot_longer(income, cols = c('2005','2006','2007','2008','2009','2010','2011','2012','2013','2014','2015'), names_to = \"year\", values_to = \"income\")\n",
        "age <- pivot_longer(age, cols = c('2005','2006','2007','2008','2009','2010','2011','2012','2013','2014','2015'), names_to = \"year\", values_to = \"age\")\n",
        "unemployment <- pivot_longer(unemployment, cols = c('2005','2006','2007','2008','2009','2010','2011','2012','2013','2014','2015'), names_to = \"year\", values_to = \"unemployment\")"
      ],
      "metadata": {
        "id": "O_E0v3k8VP8V"
      },
      "execution_count": 16,
      "outputs": []
    },
    {
      "cell_type": "code",
      "source": [
        "crime$year = as.integer(crime$year)\n",
        "price$year = as.integer(price$year)\n",
        "income$year = as.integer(income$year)\n",
        "age$year = as.integer(age$year)\n",
        "unemployment$year = as.integer(unemployment$year)"
      ],
      "metadata": {
        "id": "5OPE3uXjZoTG"
      },
      "execution_count": 18,
      "outputs": []
    },
    {
      "cell_type": "code",
      "source": [
        "head(crime)\n",
        "head(price)\n",
        "head(income)\n",
        "head(age)\n",
        "head(unemployment)"
      ],
      "metadata": {
        "colab": {
          "base_uri": "https://localhost:8080/",
          "height": 1000
        },
        "id": "uu9j-n2SUvlS",
        "outputId": "1c758f95-cd15-455b-ff9d-4deedbc3ceb3"
      },
      "execution_count": 19,
      "outputs": [
        {
          "output_type": "display_data",
          "data": {
            "text/html": [
              "<table class=\"dataframe\">\n",
              "<caption>A tibble: 6 × 3</caption>\n",
              "<thead>\n",
              "\t<tr><th scope=col>City</th><th scope=col>year</th><th scope=col>crime</th></tr>\n",
              "\t<tr><th scope=col>&lt;chr&gt;</th><th scope=col>&lt;int&gt;</th><th scope=col>&lt;dbl&gt;</th></tr>\n",
              "</thead>\n",
              "<tbody>\n",
              "\t<tr><td>Albuquerque, NM</td><td>2005</td><td>0.01903671</td></tr>\n",
              "\t<tr><td>Albuquerque, NM</td><td>2006</td><td>0.01816530</td></tr>\n",
              "\t<tr><td>Albuquerque, NM</td><td>2007</td><td>0.01980028</td></tr>\n",
              "\t<tr><td>Albuquerque, NM</td><td>2008</td><td>0.01788937</td></tr>\n",
              "\t<tr><td>Albuquerque, NM</td><td>2009</td><td>0.01538531</td></tr>\n",
              "\t<tr><td>Albuquerque, NM</td><td>2010</td><td>0.01572221</td></tr>\n",
              "</tbody>\n",
              "</table>\n"
            ],
            "text/markdown": "\nA tibble: 6 × 3\n\n| City &lt;chr&gt; | year &lt;int&gt; | crime &lt;dbl&gt; |\n|---|---|---|\n| Albuquerque, NM | 2005 | 0.01903671 |\n| Albuquerque, NM | 2006 | 0.01816530 |\n| Albuquerque, NM | 2007 | 0.01980028 |\n| Albuquerque, NM | 2008 | 0.01788937 |\n| Albuquerque, NM | 2009 | 0.01538531 |\n| Albuquerque, NM | 2010 | 0.01572221 |\n\n",
            "text/latex": "A tibble: 6 × 3\n\\begin{tabular}{lll}\n City & year & crime\\\\\n <chr> & <int> & <dbl>\\\\\n\\hline\n\t Albuquerque, NM & 2005 & 0.01903671\\\\\n\t Albuquerque, NM & 2006 & 0.01816530\\\\\n\t Albuquerque, NM & 2007 & 0.01980028\\\\\n\t Albuquerque, NM & 2008 & 0.01788937\\\\\n\t Albuquerque, NM & 2009 & 0.01538531\\\\\n\t Albuquerque, NM & 2010 & 0.01572221\\\\\n\\end{tabular}\n",
            "text/plain": [
              "  City            year crime     \n",
              "1 Albuquerque, NM 2005 0.01903671\n",
              "2 Albuquerque, NM 2006 0.01816530\n",
              "3 Albuquerque, NM 2007 0.01980028\n",
              "4 Albuquerque, NM 2008 0.01788937\n",
              "5 Albuquerque, NM 2009 0.01538531\n",
              "6 Albuquerque, NM 2010 0.01572221"
            ]
          },
          "metadata": {}
        },
        {
          "output_type": "display_data",
          "data": {
            "text/html": [
              "<table class=\"dataframe\">\n",
              "<caption>A tibble: 6 × 3</caption>\n",
              "<thead>\n",
              "\t<tr><th scope=col>City</th><th scope=col>year</th><th scope=col>price</th></tr>\n",
              "\t<tr><th scope=col>&lt;chr&gt;</th><th scope=col>&lt;int&gt;</th><th scope=col>&lt;dbl&gt;</th></tr>\n",
              "</thead>\n",
              "<tbody>\n",
              "\t<tr><td>Albuquerque, NM</td><td>2005</td><td>153134.1</td></tr>\n",
              "\t<tr><td>Albuquerque, NM</td><td>2006</td><td>170259.0</td></tr>\n",
              "\t<tr><td>Albuquerque, NM</td><td>2007</td><td>193305.9</td></tr>\n",
              "\t<tr><td>Albuquerque, NM</td><td>2008</td><td>200215.2</td></tr>\n",
              "\t<tr><td>Albuquerque, NM</td><td>2009</td><td>187486.9</td></tr>\n",
              "\t<tr><td>Albuquerque, NM</td><td>2010</td><td>180903.8</td></tr>\n",
              "</tbody>\n",
              "</table>\n"
            ],
            "text/markdown": "\nA tibble: 6 × 3\n\n| City &lt;chr&gt; | year &lt;int&gt; | price &lt;dbl&gt; |\n|---|---|---|\n| Albuquerque, NM | 2005 | 153134.1 |\n| Albuquerque, NM | 2006 | 170259.0 |\n| Albuquerque, NM | 2007 | 193305.9 |\n| Albuquerque, NM | 2008 | 200215.2 |\n| Albuquerque, NM | 2009 | 187486.9 |\n| Albuquerque, NM | 2010 | 180903.8 |\n\n",
            "text/latex": "A tibble: 6 × 3\n\\begin{tabular}{lll}\n City & year & price\\\\\n <chr> & <int> & <dbl>\\\\\n\\hline\n\t Albuquerque, NM & 2005 & 153134.1\\\\\n\t Albuquerque, NM & 2006 & 170259.0\\\\\n\t Albuquerque, NM & 2007 & 193305.9\\\\\n\t Albuquerque, NM & 2008 & 200215.2\\\\\n\t Albuquerque, NM & 2009 & 187486.9\\\\\n\t Albuquerque, NM & 2010 & 180903.8\\\\\n\\end{tabular}\n",
            "text/plain": [
              "  City            year price   \n",
              "1 Albuquerque, NM 2005 153134.1\n",
              "2 Albuquerque, NM 2006 170259.0\n",
              "3 Albuquerque, NM 2007 193305.9\n",
              "4 Albuquerque, NM 2008 200215.2\n",
              "5 Albuquerque, NM 2009 187486.9\n",
              "6 Albuquerque, NM 2010 180903.8"
            ]
          },
          "metadata": {}
        },
        {
          "output_type": "display_data",
          "data": {
            "text/html": [
              "<table class=\"dataframe\">\n",
              "<caption>A tibble: 6 × 3</caption>\n",
              "<thead>\n",
              "\t<tr><th scope=col>City</th><th scope=col>year</th><th scope=col>income</th></tr>\n",
              "\t<tr><th scope=col>&lt;chr&gt;</th><th scope=col>&lt;int&gt;</th><th scope=col>&lt;dbl&gt;</th></tr>\n",
              "</thead>\n",
              "<tbody>\n",
              "\t<tr><td>Albuquerque, NM</td><td>2005</td><td>41820</td></tr>\n",
              "\t<tr><td>Albuquerque, NM</td><td>2006</td><td>43021</td></tr>\n",
              "\t<tr><td>Albuquerque, NM</td><td>2007</td><td>43677</td></tr>\n",
              "\t<tr><td>Albuquerque, NM</td><td>2008</td><td>46437</td></tr>\n",
              "\t<tr><td>Albuquerque, NM</td><td>2009</td><td>44594</td></tr>\n",
              "\t<tr><td>Albuquerque, NM</td><td>2010</td><td>46079</td></tr>\n",
              "</tbody>\n",
              "</table>\n"
            ],
            "text/markdown": "\nA tibble: 6 × 3\n\n| City &lt;chr&gt; | year &lt;int&gt; | income &lt;dbl&gt; |\n|---|---|---|\n| Albuquerque, NM | 2005 | 41820 |\n| Albuquerque, NM | 2006 | 43021 |\n| Albuquerque, NM | 2007 | 43677 |\n| Albuquerque, NM | 2008 | 46437 |\n| Albuquerque, NM | 2009 | 44594 |\n| Albuquerque, NM | 2010 | 46079 |\n\n",
            "text/latex": "A tibble: 6 × 3\n\\begin{tabular}{lll}\n City & year & income\\\\\n <chr> & <int> & <dbl>\\\\\n\\hline\n\t Albuquerque, NM & 2005 & 41820\\\\\n\t Albuquerque, NM & 2006 & 43021\\\\\n\t Albuquerque, NM & 2007 & 43677\\\\\n\t Albuquerque, NM & 2008 & 46437\\\\\n\t Albuquerque, NM & 2009 & 44594\\\\\n\t Albuquerque, NM & 2010 & 46079\\\\\n\\end{tabular}\n",
            "text/plain": [
              "  City            year income\n",
              "1 Albuquerque, NM 2005 41820 \n",
              "2 Albuquerque, NM 2006 43021 \n",
              "3 Albuquerque, NM 2007 43677 \n",
              "4 Albuquerque, NM 2008 46437 \n",
              "5 Albuquerque, NM 2009 44594 \n",
              "6 Albuquerque, NM 2010 46079 "
            ]
          },
          "metadata": {}
        },
        {
          "output_type": "display_data",
          "data": {
            "text/html": [
              "<table class=\"dataframe\">\n",
              "<caption>A tibble: 6 × 3</caption>\n",
              "<thead>\n",
              "\t<tr><th scope=col>City</th><th scope=col>year</th><th scope=col>age</th></tr>\n",
              "\t<tr><th scope=col>&lt;chr&gt;</th><th scope=col>&lt;int&gt;</th><th scope=col>&lt;dbl&gt;</th></tr>\n",
              "</thead>\n",
              "<tbody>\n",
              "\t<tr><td>Albuquerque, NM</td><td>2005</td><td>35.8</td></tr>\n",
              "\t<tr><td>Albuquerque, NM</td><td>2006</td><td>35.3</td></tr>\n",
              "\t<tr><td>Albuquerque, NM</td><td>2007</td><td>35.2</td></tr>\n",
              "\t<tr><td>Albuquerque, NM</td><td>2008</td><td>35.5</td></tr>\n",
              "\t<tr><td>Albuquerque, NM</td><td>2009</td><td>34.0</td></tr>\n",
              "\t<tr><td>Albuquerque, NM</td><td>2010</td><td>35.2</td></tr>\n",
              "</tbody>\n",
              "</table>\n"
            ],
            "text/markdown": "\nA tibble: 6 × 3\n\n| City &lt;chr&gt; | year &lt;int&gt; | age &lt;dbl&gt; |\n|---|---|---|\n| Albuquerque, NM | 2005 | 35.8 |\n| Albuquerque, NM | 2006 | 35.3 |\n| Albuquerque, NM | 2007 | 35.2 |\n| Albuquerque, NM | 2008 | 35.5 |\n| Albuquerque, NM | 2009 | 34.0 |\n| Albuquerque, NM | 2010 | 35.2 |\n\n",
            "text/latex": "A tibble: 6 × 3\n\\begin{tabular}{lll}\n City & year & age\\\\\n <chr> & <int> & <dbl>\\\\\n\\hline\n\t Albuquerque, NM & 2005 & 35.8\\\\\n\t Albuquerque, NM & 2006 & 35.3\\\\\n\t Albuquerque, NM & 2007 & 35.2\\\\\n\t Albuquerque, NM & 2008 & 35.5\\\\\n\t Albuquerque, NM & 2009 & 34.0\\\\\n\t Albuquerque, NM & 2010 & 35.2\\\\\n\\end{tabular}\n",
            "text/plain": [
              "  City            year age \n",
              "1 Albuquerque, NM 2005 35.8\n",
              "2 Albuquerque, NM 2006 35.3\n",
              "3 Albuquerque, NM 2007 35.2\n",
              "4 Albuquerque, NM 2008 35.5\n",
              "5 Albuquerque, NM 2009 34.0\n",
              "6 Albuquerque, NM 2010 35.2"
            ]
          },
          "metadata": {}
        },
        {
          "output_type": "display_data",
          "data": {
            "text/html": [
              "<table class=\"dataframe\">\n",
              "<caption>A tibble: 6 × 3</caption>\n",
              "<thead>\n",
              "\t<tr><th scope=col>City</th><th scope=col>year</th><th scope=col>unemployment</th></tr>\n",
              "\t<tr><th scope=col>&lt;chr&gt;</th><th scope=col>&lt;int&gt;</th><th scope=col>&lt;dbl&gt;</th></tr>\n",
              "</thead>\n",
              "<tbody>\n",
              "\t<tr><td>Albuquerque, NM</td><td>2005</td><td>14.53370</td></tr>\n",
              "\t<tr><td>Albuquerque, NM</td><td>2006</td><td>18.78602</td></tr>\n",
              "\t<tr><td>Albuquerque, NM</td><td>2007</td><td>19.91113</td></tr>\n",
              "\t<tr><td>Albuquerque, NM</td><td>2008</td><td>19.15097</td></tr>\n",
              "\t<tr><td>Albuquerque, NM</td><td>2009</td><td>13.87797</td></tr>\n",
              "\t<tr><td>Albuquerque, NM</td><td>2010</td><td>12.43643</td></tr>\n",
              "</tbody>\n",
              "</table>\n"
            ],
            "text/markdown": "\nA tibble: 6 × 3\n\n| City &lt;chr&gt; | year &lt;int&gt; | unemployment &lt;dbl&gt; |\n|---|---|---|\n| Albuquerque, NM | 2005 | 14.53370 |\n| Albuquerque, NM | 2006 | 18.78602 |\n| Albuquerque, NM | 2007 | 19.91113 |\n| Albuquerque, NM | 2008 | 19.15097 |\n| Albuquerque, NM | 2009 | 13.87797 |\n| Albuquerque, NM | 2010 | 12.43643 |\n\n",
            "text/latex": "A tibble: 6 × 3\n\\begin{tabular}{lll}\n City & year & unemployment\\\\\n <chr> & <int> & <dbl>\\\\\n\\hline\n\t Albuquerque, NM & 2005 & 14.53370\\\\\n\t Albuquerque, NM & 2006 & 18.78602\\\\\n\t Albuquerque, NM & 2007 & 19.91113\\\\\n\t Albuquerque, NM & 2008 & 19.15097\\\\\n\t Albuquerque, NM & 2009 & 13.87797\\\\\n\t Albuquerque, NM & 2010 & 12.43643\\\\\n\\end{tabular}\n",
            "text/plain": [
              "  City            year unemployment\n",
              "1 Albuquerque, NM 2005 14.53370    \n",
              "2 Albuquerque, NM 2006 18.78602    \n",
              "3 Albuquerque, NM 2007 19.91113    \n",
              "4 Albuquerque, NM 2008 19.15097    \n",
              "5 Albuquerque, NM 2009 13.87797    \n",
              "6 Albuquerque, NM 2010 12.43643    "
            ]
          },
          "metadata": {}
        }
      ]
    },
    {
      "cell_type": "code",
      "source": [
        "df_list <- list(crime, price, income, age, unemployment)\n",
        "merged_data <- Reduce(function(x, y) merge(x, y, by = c('City', 'year')), df_list)"
      ],
      "metadata": {
        "id": "yiQ_6lViaJm6"
      },
      "execution_count": 21,
      "outputs": []
    },
    {
      "cell_type": "code",
      "source": [
        "colnames(merged_data) = c('city', 'year', 'crime_rate', 'housing_price', 'income', 'median_age', 'unemployment')"
      ],
      "metadata": {
        "id": "9emmI5l1aua2"
      },
      "execution_count": 23,
      "outputs": []
    },
    {
      "cell_type": "code",
      "source": [
        "merged_data"
      ],
      "metadata": {
        "colab": {
          "base_uri": "https://localhost:8080/",
          "height": 1000
        },
        "id": "U4C_Y2iieI9n",
        "outputId": "c779e999-f336-4b9b-d4bf-860e627210dd"
      },
      "execution_count": 24,
      "outputs": [
        {
          "output_type": "display_data",
          "data": {
            "text/html": [
              "<table class=\"dataframe\">\n",
              "<caption>A data.frame: 385 × 7</caption>\n",
              "<thead>\n",
              "\t<tr><th scope=col>city</th><th scope=col>year</th><th scope=col>crime_rate</th><th scope=col>housing_price</th><th scope=col>income</th><th scope=col>median_age</th><th scope=col>unemployment</th></tr>\n",
              "\t<tr><th scope=col>&lt;chr&gt;</th><th scope=col>&lt;int&gt;</th><th scope=col>&lt;dbl&gt;</th><th scope=col>&lt;dbl&gt;</th><th scope=col>&lt;dbl&gt;</th><th scope=col>&lt;dbl&gt;</th><th scope=col>&lt;dbl&gt;</th></tr>\n",
              "</thead>\n",
              "<tbody>\n",
              "\t<tr><td>Albuquerque, NM</td><td>2005</td><td>0.019036710</td><td>153134.1</td><td>41820</td><td>35.8</td><td>14.533702</td></tr>\n",
              "\t<tr><td>Albuquerque, NM</td><td>2006</td><td>0.018165304</td><td>170259.0</td><td>43021</td><td>35.3</td><td>18.786019</td></tr>\n",
              "\t<tr><td>Albuquerque, NM</td><td>2007</td><td>0.019800282</td><td>193305.9</td><td>43677</td><td>35.2</td><td>19.911130</td></tr>\n",
              "\t<tr><td>Albuquerque, NM</td><td>2008</td><td>0.017889373</td><td>200215.2</td><td>46437</td><td>35.5</td><td>19.150972</td></tr>\n",
              "\t<tr><td>Albuquerque, NM</td><td>2009</td><td>0.015385311</td><td>187486.9</td><td>44594</td><td>34.0</td><td>13.877965</td></tr>\n",
              "\t<tr><td>Albuquerque, NM</td><td>2010</td><td>0.015722210</td><td>180903.8</td><td>46079</td><td>35.2</td><td>12.436434</td></tr>\n",
              "\t<tr><td>Albuquerque, NM</td><td>2011</td><td>0.015254701</td><td>171329.0</td><td>43606</td><td>35.5</td><td>10.542100</td></tr>\n",
              "\t<tr><td>Albuquerque, NM</td><td>2012</td><td>0.014994112</td><td>164757.2</td><td>45373</td><td>35.3</td><td> 8.817330</td></tr>\n",
              "\t<tr><td>Albuquerque, NM</td><td>2013</td><td>0.015497210</td><td>163877.8</td><td>48357</td><td>35.8</td><td> 7.260191</td></tr>\n",
              "\t<tr><td>Albuquerque, NM</td><td>2014</td><td>0.017656932</td><td>166668.6</td><td>46433</td><td>35.7</td><td> 8.308843</td></tr>\n",
              "\t<tr><td>Albuquerque, NM</td><td>2015</td><td>0.019316767</td><td>169546.4</td><td>47096</td><td>36.0</td><td> 6.681222</td></tr>\n",
              "\t<tr><td>Atlanta, GA    </td><td>2005</td><td>0.033496956</td><td>179505.7</td><td>39752</td><td>34.7</td><td>10.534444</td></tr>\n",
              "\t<tr><td>Atlanta, GA    </td><td>2006</td><td>0.031074260</td><td>186545.6</td><td>41612</td><td>35.0</td><td>10.190236</td></tr>\n",
              "\t<tr><td>Atlanta, GA    </td><td>2007</td><td>0.032476020</td><td>192300.5</td><td>47153</td><td>35.0</td><td>10.807414</td></tr>\n",
              "\t<tr><td>Atlanta, GA    </td><td>2008</td><td>0.027777778</td><td>191047.2</td><td>48865</td><td>35.7</td><td>11.776196</td></tr>\n",
              "\t<tr><td>Atlanta, GA    </td><td>2009</td><td>0.023002310</td><td>171838.8</td><td>49981</td><td>33.4</td><td> 7.966137</td></tr>\n",
              "\t<tr><td>Atlanta, GA    </td><td>2010</td><td>0.027375995</td><td>152781.2</td><td>41631</td><td>33.2</td><td> 6.696835</td></tr>\n",
              "\t<tr><td>Atlanta, GA    </td><td>2011</td><td>0.028655827</td><td>139138.9</td><td>43903</td><td>32.7</td><td>13.222761</td></tr>\n",
              "\t<tr><td>Atlanta, GA    </td><td>2012</td><td>0.027580936</td><td>125489.5</td><td>46466</td><td>33.1</td><td>14.661379</td></tr>\n",
              "\t<tr><td>Atlanta, GA    </td><td>2013</td><td>0.024460113</td><td>131061.1</td><td>46485</td><td>33.1</td><td>11.253640</td></tr>\n",
              "\t<tr><td>Atlanta, GA    </td><td>2014</td><td>0.024548654</td><td>154395.4</td><td>46777</td><td>33.5</td><td>10.482968</td></tr>\n",
              "\t<tr><td>Atlanta, GA    </td><td>2015</td><td>0.022392460</td><td>169023.9</td><td>50210</td><td>33.8</td><td> 7.382863</td></tr>\n",
              "\t<tr><td>Austin, TX     </td><td>2005</td><td>0.009791939</td><td>186656.9</td><td>43731</td><td>31.4</td><td>14.198369</td></tr>\n",
              "\t<tr><td>Austin, TX     </td><td>2006</td><td>0.010306940</td><td>192941.4</td><td>47212</td><td>31.2</td><td>16.347289</td></tr>\n",
              "\t<tr><td>Austin, TX     </td><td>2007</td><td>0.010800525</td><td>199710.0</td><td>48966</td><td>31.4</td><td>19.592060</td></tr>\n",
              "\t<tr><td>Austin, TX     </td><td>2008</td><td>0.010444107</td><td>207084.2</td><td>51372</td><td>31.7</td><td>19.434976</td></tr>\n",
              "\t<tr><td>Austin, TX     </td><td>2009</td><td>0.010465948</td><td>201617.9</td><td>50132</td><td>31.2</td><td>13.391173</td></tr>\n",
              "\t<tr><td>Austin, TX     </td><td>2010</td><td>0.009590202</td><td>198154.6</td><td>47434</td><td>30.9</td><td>11.853359</td></tr>\n",
              "\t<tr><td>Austin, TX     </td><td>2011</td><td>0.008599518</td><td>192188.5</td><td>49987</td><td>31.3</td><td> 8.251289</td></tr>\n",
              "\t<tr><td>Austin, TX     </td><td>2012</td><td>0.008176242</td><td>190162.6</td><td>52453</td><td>31.7</td><td> 7.106502</td></tr>\n",
              "\t<tr><td>⋮</td><td>⋮</td><td>⋮</td><td>⋮</td><td>⋮</td><td>⋮</td><td>⋮</td></tr>\n",
              "\t<tr><td>Tulsa, OK     </td><td>2008</td><td>0.02570544</td><td>128703.7</td><td>39657</td><td>35.8</td><td>21.912674</td></tr>\n",
              "\t<tr><td>Tulsa, OK     </td><td>2009</td><td>0.02232033</td><td>128249.3</td><td>38426</td><td>34.9</td><td>13.843573</td></tr>\n",
              "\t<tr><td>Tulsa, OK     </td><td>2010</td><td>0.02196445</td><td>128489.3</td><td>38220</td><td>35.1</td><td>10.640480</td></tr>\n",
              "\t<tr><td>Tulsa, OK     </td><td>2011</td><td>0.01999490</td><td>126555.3</td><td>40123</td><td>34.8</td><td> 8.010352</td></tr>\n",
              "\t<tr><td>Tulsa, OK     </td><td>2012</td><td>0.01979925</td><td>122320.6</td><td>40440</td><td>34.8</td><td> 7.862066</td></tr>\n",
              "\t<tr><td>Tulsa, OK     </td><td>2013</td><td>0.01940187</td><td>124317.4</td><td>41495</td><td>34.7</td><td> 7.173986</td></tr>\n",
              "\t<tr><td>Tulsa, OK     </td><td>2014</td><td>0.01610287</td><td>127282.2</td><td>42803</td><td>35.4</td><td> 5.581463</td></tr>\n",
              "\t<tr><td>Tulsa, OK     </td><td>2015</td><td>0.01807133</td><td>132175.7</td><td>43322</td><td>35.0</td><td> 6.377931</td></tr>\n",
              "\t<tr><td>Washington, DC</td><td>2005</td><td>0.02803163</td><td>353870.3</td><td>47221</td><td>35.9</td><td>10.958860</td></tr>\n",
              "\t<tr><td>Washington, DC</td><td>2006</td><td>0.02891682</td><td>425827.4</td><td>51847</td><td>35.0</td><td>11.788686</td></tr>\n",
              "\t<tr><td>Washington, DC</td><td>2007</td><td>0.02693900</td><td>431580.1</td><td>54317</td><td>34.9</td><td>12.381388</td></tr>\n",
              "\t<tr><td>Washington, DC</td><td>2008</td><td>0.02749086</td><td>401361.7</td><td>57936</td><td>34.9</td><td>12.881559</td></tr>\n",
              "\t<tr><td>Washington, DC</td><td>2009</td><td>0.02530447</td><td>339166.0</td><td>59290</td><td>35.1</td><td> 9.013277</td></tr>\n",
              "\t<tr><td>Washington, DC</td><td>2010</td><td>0.02482205</td><td>319790.1</td><td>60903</td><td>33.9</td><td> 8.060211</td></tr>\n",
              "\t<tr><td>Washington, DC</td><td>2011</td><td>0.02260532</td><td>318414.8</td><td>63124</td><td>33.4</td><td>11.377442</td></tr>\n",
              "\t<tr><td>Washington, DC</td><td>2012</td><td>0.02355758</td><td>314068.1</td><td>66583</td><td>33.7</td><td>10.342908</td></tr>\n",
              "\t<tr><td>Washington, DC</td><td>2013</td><td>0.02437934</td><td>336099.6</td><td>67572</td><td>33.8</td><td>10.446569</td></tr>\n",
              "\t<tr><td>Washington, DC</td><td>2014</td><td>0.02370643</td><td>362697.9</td><td>71648</td><td>33.8</td><td> 8.859504</td></tr>\n",
              "\t<tr><td>Washington, DC</td><td>2015</td><td>0.02405136</td><td>373022.7</td><td>75628</td><td>33.8</td><td> 7.250638</td></tr>\n",
              "\t<tr><td>Wichita, KS   </td><td>2005</td><td>0.01489531</td><td>109902.9</td><td>40115</td><td>34.2</td><td>12.318049</td></tr>\n",
              "\t<tr><td>Wichita, KS   </td><td>2006</td><td>0.01860806</td><td>107354.1</td><td>41089</td><td>34.8</td><td>13.096823</td></tr>\n",
              "\t<tr><td>Wichita, KS   </td><td>2007</td><td>0.01892859</td><td>111378.1</td><td>42696</td><td>35.0</td><td>15.245344</td></tr>\n",
              "\t<tr><td>Wichita, KS   </td><td>2008</td><td>0.01708209</td><td>114261.8</td><td>44211</td><td>34.0</td><td>16.408939</td></tr>\n",
              "\t<tr><td>Wichita, KS   </td><td>2009</td><td>0.01770778</td><td>115047.3</td><td>44405</td><td>34.3</td><td> 9.897806</td></tr>\n",
              "\t<tr><td>Wichita, KS   </td><td>2010</td><td>0.01589045</td><td>117629.0</td><td>42694</td><td>33.9</td><td> 8.734963</td></tr>\n",
              "\t<tr><td>Wichita, KS   </td><td>2011</td><td>0.01540037</td><td>114371.6</td><td>44184</td><td>34.3</td><td>10.462393</td></tr>\n",
              "\t<tr><td>Wichita, KS   </td><td>2012</td><td>0.01498930</td><td>110632.7</td><td>43776</td><td>35.1</td><td> 8.034788</td></tr>\n",
              "\t<tr><td>Wichita, KS   </td><td>2013</td><td>0.01588156</td><td>111972.3</td><td>43538</td><td>34.0</td><td> 7.482116</td></tr>\n",
              "\t<tr><td>Wichita, KS   </td><td>2014</td><td>0.01516931</td><td>112149.6</td><td>45477</td><td>34.0</td><td> 6.848021</td></tr>\n",
              "\t<tr><td>Wichita, KS   </td><td>2015</td><td>0.01969607</td><td>115130.5</td><td>46894</td><td>34.6</td><td> 4.994331</td></tr>\n",
              "</tbody>\n",
              "</table>\n"
            ],
            "text/markdown": "\nA data.frame: 385 × 7\n\n| city &lt;chr&gt; | year &lt;int&gt; | crime_rate &lt;dbl&gt; | housing_price &lt;dbl&gt; | income &lt;dbl&gt; | median_age &lt;dbl&gt; | unemployment &lt;dbl&gt; |\n|---|---|---|---|---|---|---|\n| Albuquerque, NM | 2005 | 0.019036710 | 153134.1 | 41820 | 35.8 | 14.533702 |\n| Albuquerque, NM | 2006 | 0.018165304 | 170259.0 | 43021 | 35.3 | 18.786019 |\n| Albuquerque, NM | 2007 | 0.019800282 | 193305.9 | 43677 | 35.2 | 19.911130 |\n| Albuquerque, NM | 2008 | 0.017889373 | 200215.2 | 46437 | 35.5 | 19.150972 |\n| Albuquerque, NM | 2009 | 0.015385311 | 187486.9 | 44594 | 34.0 | 13.877965 |\n| Albuquerque, NM | 2010 | 0.015722210 | 180903.8 | 46079 | 35.2 | 12.436434 |\n| Albuquerque, NM | 2011 | 0.015254701 | 171329.0 | 43606 | 35.5 | 10.542100 |\n| Albuquerque, NM | 2012 | 0.014994112 | 164757.2 | 45373 | 35.3 |  8.817330 |\n| Albuquerque, NM | 2013 | 0.015497210 | 163877.8 | 48357 | 35.8 |  7.260191 |\n| Albuquerque, NM | 2014 | 0.017656932 | 166668.6 | 46433 | 35.7 |  8.308843 |\n| Albuquerque, NM | 2015 | 0.019316767 | 169546.4 | 47096 | 36.0 |  6.681222 |\n| Atlanta, GA     | 2005 | 0.033496956 | 179505.7 | 39752 | 34.7 | 10.534444 |\n| Atlanta, GA     | 2006 | 0.031074260 | 186545.6 | 41612 | 35.0 | 10.190236 |\n| Atlanta, GA     | 2007 | 0.032476020 | 192300.5 | 47153 | 35.0 | 10.807414 |\n| Atlanta, GA     | 2008 | 0.027777778 | 191047.2 | 48865 | 35.7 | 11.776196 |\n| Atlanta, GA     | 2009 | 0.023002310 | 171838.8 | 49981 | 33.4 |  7.966137 |\n| Atlanta, GA     | 2010 | 0.027375995 | 152781.2 | 41631 | 33.2 |  6.696835 |\n| Atlanta, GA     | 2011 | 0.028655827 | 139138.9 | 43903 | 32.7 | 13.222761 |\n| Atlanta, GA     | 2012 | 0.027580936 | 125489.5 | 46466 | 33.1 | 14.661379 |\n| Atlanta, GA     | 2013 | 0.024460113 | 131061.1 | 46485 | 33.1 | 11.253640 |\n| Atlanta, GA     | 2014 | 0.024548654 | 154395.4 | 46777 | 33.5 | 10.482968 |\n| Atlanta, GA     | 2015 | 0.022392460 | 169023.9 | 50210 | 33.8 |  7.382863 |\n| Austin, TX      | 2005 | 0.009791939 | 186656.9 | 43731 | 31.4 | 14.198369 |\n| Austin, TX      | 2006 | 0.010306940 | 192941.4 | 47212 | 31.2 | 16.347289 |\n| Austin, TX      | 2007 | 0.010800525 | 199710.0 | 48966 | 31.4 | 19.592060 |\n| Austin, TX      | 2008 | 0.010444107 | 207084.2 | 51372 | 31.7 | 19.434976 |\n| Austin, TX      | 2009 | 0.010465948 | 201617.9 | 50132 | 31.2 | 13.391173 |\n| Austin, TX      | 2010 | 0.009590202 | 198154.6 | 47434 | 30.9 | 11.853359 |\n| Austin, TX      | 2011 | 0.008599518 | 192188.5 | 49987 | 31.3 |  8.251289 |\n| Austin, TX      | 2012 | 0.008176242 | 190162.6 | 52453 | 31.7 |  7.106502 |\n| ⋮ | ⋮ | ⋮ | ⋮ | ⋮ | ⋮ | ⋮ |\n| Tulsa, OK      | 2008 | 0.02570544 | 128703.7 | 39657 | 35.8 | 21.912674 |\n| Tulsa, OK      | 2009 | 0.02232033 | 128249.3 | 38426 | 34.9 | 13.843573 |\n| Tulsa, OK      | 2010 | 0.02196445 | 128489.3 | 38220 | 35.1 | 10.640480 |\n| Tulsa, OK      | 2011 | 0.01999490 | 126555.3 | 40123 | 34.8 |  8.010352 |\n| Tulsa, OK      | 2012 | 0.01979925 | 122320.6 | 40440 | 34.8 |  7.862066 |\n| Tulsa, OK      | 2013 | 0.01940187 | 124317.4 | 41495 | 34.7 |  7.173986 |\n| Tulsa, OK      | 2014 | 0.01610287 | 127282.2 | 42803 | 35.4 |  5.581463 |\n| Tulsa, OK      | 2015 | 0.01807133 | 132175.7 | 43322 | 35.0 |  6.377931 |\n| Washington, DC | 2005 | 0.02803163 | 353870.3 | 47221 | 35.9 | 10.958860 |\n| Washington, DC | 2006 | 0.02891682 | 425827.4 | 51847 | 35.0 | 11.788686 |\n| Washington, DC | 2007 | 0.02693900 | 431580.1 | 54317 | 34.9 | 12.381388 |\n| Washington, DC | 2008 | 0.02749086 | 401361.7 | 57936 | 34.9 | 12.881559 |\n| Washington, DC | 2009 | 0.02530447 | 339166.0 | 59290 | 35.1 |  9.013277 |\n| Washington, DC | 2010 | 0.02482205 | 319790.1 | 60903 | 33.9 |  8.060211 |\n| Washington, DC | 2011 | 0.02260532 | 318414.8 | 63124 | 33.4 | 11.377442 |\n| Washington, DC | 2012 | 0.02355758 | 314068.1 | 66583 | 33.7 | 10.342908 |\n| Washington, DC | 2013 | 0.02437934 | 336099.6 | 67572 | 33.8 | 10.446569 |\n| Washington, DC | 2014 | 0.02370643 | 362697.9 | 71648 | 33.8 |  8.859504 |\n| Washington, DC | 2015 | 0.02405136 | 373022.7 | 75628 | 33.8 |  7.250638 |\n| Wichita, KS    | 2005 | 0.01489531 | 109902.9 | 40115 | 34.2 | 12.318049 |\n| Wichita, KS    | 2006 | 0.01860806 | 107354.1 | 41089 | 34.8 | 13.096823 |\n| Wichita, KS    | 2007 | 0.01892859 | 111378.1 | 42696 | 35.0 | 15.245344 |\n| Wichita, KS    | 2008 | 0.01708209 | 114261.8 | 44211 | 34.0 | 16.408939 |\n| Wichita, KS    | 2009 | 0.01770778 | 115047.3 | 44405 | 34.3 |  9.897806 |\n| Wichita, KS    | 2010 | 0.01589045 | 117629.0 | 42694 | 33.9 |  8.734963 |\n| Wichita, KS    | 2011 | 0.01540037 | 114371.6 | 44184 | 34.3 | 10.462393 |\n| Wichita, KS    | 2012 | 0.01498930 | 110632.7 | 43776 | 35.1 |  8.034788 |\n| Wichita, KS    | 2013 | 0.01588156 | 111972.3 | 43538 | 34.0 |  7.482116 |\n| Wichita, KS    | 2014 | 0.01516931 | 112149.6 | 45477 | 34.0 |  6.848021 |\n| Wichita, KS    | 2015 | 0.01969607 | 115130.5 | 46894 | 34.6 |  4.994331 |\n\n",
            "text/latex": "A data.frame: 385 × 7\n\\begin{tabular}{lllllll}\n city & year & crime\\_rate & housing\\_price & income & median\\_age & unemployment\\\\\n <chr> & <int> & <dbl> & <dbl> & <dbl> & <dbl> & <dbl>\\\\\n\\hline\n\t Albuquerque, NM & 2005 & 0.019036710 & 153134.1 & 41820 & 35.8 & 14.533702\\\\\n\t Albuquerque, NM & 2006 & 0.018165304 & 170259.0 & 43021 & 35.3 & 18.786019\\\\\n\t Albuquerque, NM & 2007 & 0.019800282 & 193305.9 & 43677 & 35.2 & 19.911130\\\\\n\t Albuquerque, NM & 2008 & 0.017889373 & 200215.2 & 46437 & 35.5 & 19.150972\\\\\n\t Albuquerque, NM & 2009 & 0.015385311 & 187486.9 & 44594 & 34.0 & 13.877965\\\\\n\t Albuquerque, NM & 2010 & 0.015722210 & 180903.8 & 46079 & 35.2 & 12.436434\\\\\n\t Albuquerque, NM & 2011 & 0.015254701 & 171329.0 & 43606 & 35.5 & 10.542100\\\\\n\t Albuquerque, NM & 2012 & 0.014994112 & 164757.2 & 45373 & 35.3 &  8.817330\\\\\n\t Albuquerque, NM & 2013 & 0.015497210 & 163877.8 & 48357 & 35.8 &  7.260191\\\\\n\t Albuquerque, NM & 2014 & 0.017656932 & 166668.6 & 46433 & 35.7 &  8.308843\\\\\n\t Albuquerque, NM & 2015 & 0.019316767 & 169546.4 & 47096 & 36.0 &  6.681222\\\\\n\t Atlanta, GA     & 2005 & 0.033496956 & 179505.7 & 39752 & 34.7 & 10.534444\\\\\n\t Atlanta, GA     & 2006 & 0.031074260 & 186545.6 & 41612 & 35.0 & 10.190236\\\\\n\t Atlanta, GA     & 2007 & 0.032476020 & 192300.5 & 47153 & 35.0 & 10.807414\\\\\n\t Atlanta, GA     & 2008 & 0.027777778 & 191047.2 & 48865 & 35.7 & 11.776196\\\\\n\t Atlanta, GA     & 2009 & 0.023002310 & 171838.8 & 49981 & 33.4 &  7.966137\\\\\n\t Atlanta, GA     & 2010 & 0.027375995 & 152781.2 & 41631 & 33.2 &  6.696835\\\\\n\t Atlanta, GA     & 2011 & 0.028655827 & 139138.9 & 43903 & 32.7 & 13.222761\\\\\n\t Atlanta, GA     & 2012 & 0.027580936 & 125489.5 & 46466 & 33.1 & 14.661379\\\\\n\t Atlanta, GA     & 2013 & 0.024460113 & 131061.1 & 46485 & 33.1 & 11.253640\\\\\n\t Atlanta, GA     & 2014 & 0.024548654 & 154395.4 & 46777 & 33.5 & 10.482968\\\\\n\t Atlanta, GA     & 2015 & 0.022392460 & 169023.9 & 50210 & 33.8 &  7.382863\\\\\n\t Austin, TX      & 2005 & 0.009791939 & 186656.9 & 43731 & 31.4 & 14.198369\\\\\n\t Austin, TX      & 2006 & 0.010306940 & 192941.4 & 47212 & 31.2 & 16.347289\\\\\n\t Austin, TX      & 2007 & 0.010800525 & 199710.0 & 48966 & 31.4 & 19.592060\\\\\n\t Austin, TX      & 2008 & 0.010444107 & 207084.2 & 51372 & 31.7 & 19.434976\\\\\n\t Austin, TX      & 2009 & 0.010465948 & 201617.9 & 50132 & 31.2 & 13.391173\\\\\n\t Austin, TX      & 2010 & 0.009590202 & 198154.6 & 47434 & 30.9 & 11.853359\\\\\n\t Austin, TX      & 2011 & 0.008599518 & 192188.5 & 49987 & 31.3 &  8.251289\\\\\n\t Austin, TX      & 2012 & 0.008176242 & 190162.6 & 52453 & 31.7 &  7.106502\\\\\n\t ⋮ & ⋮ & ⋮ & ⋮ & ⋮ & ⋮ & ⋮\\\\\n\t Tulsa, OK      & 2008 & 0.02570544 & 128703.7 & 39657 & 35.8 & 21.912674\\\\\n\t Tulsa, OK      & 2009 & 0.02232033 & 128249.3 & 38426 & 34.9 & 13.843573\\\\\n\t Tulsa, OK      & 2010 & 0.02196445 & 128489.3 & 38220 & 35.1 & 10.640480\\\\\n\t Tulsa, OK      & 2011 & 0.01999490 & 126555.3 & 40123 & 34.8 &  8.010352\\\\\n\t Tulsa, OK      & 2012 & 0.01979925 & 122320.6 & 40440 & 34.8 &  7.862066\\\\\n\t Tulsa, OK      & 2013 & 0.01940187 & 124317.4 & 41495 & 34.7 &  7.173986\\\\\n\t Tulsa, OK      & 2014 & 0.01610287 & 127282.2 & 42803 & 35.4 &  5.581463\\\\\n\t Tulsa, OK      & 2015 & 0.01807133 & 132175.7 & 43322 & 35.0 &  6.377931\\\\\n\t Washington, DC & 2005 & 0.02803163 & 353870.3 & 47221 & 35.9 & 10.958860\\\\\n\t Washington, DC & 2006 & 0.02891682 & 425827.4 & 51847 & 35.0 & 11.788686\\\\\n\t Washington, DC & 2007 & 0.02693900 & 431580.1 & 54317 & 34.9 & 12.381388\\\\\n\t Washington, DC & 2008 & 0.02749086 & 401361.7 & 57936 & 34.9 & 12.881559\\\\\n\t Washington, DC & 2009 & 0.02530447 & 339166.0 & 59290 & 35.1 &  9.013277\\\\\n\t Washington, DC & 2010 & 0.02482205 & 319790.1 & 60903 & 33.9 &  8.060211\\\\\n\t Washington, DC & 2011 & 0.02260532 & 318414.8 & 63124 & 33.4 & 11.377442\\\\\n\t Washington, DC & 2012 & 0.02355758 & 314068.1 & 66583 & 33.7 & 10.342908\\\\\n\t Washington, DC & 2013 & 0.02437934 & 336099.6 & 67572 & 33.8 & 10.446569\\\\\n\t Washington, DC & 2014 & 0.02370643 & 362697.9 & 71648 & 33.8 &  8.859504\\\\\n\t Washington, DC & 2015 & 0.02405136 & 373022.7 & 75628 & 33.8 &  7.250638\\\\\n\t Wichita, KS    & 2005 & 0.01489531 & 109902.9 & 40115 & 34.2 & 12.318049\\\\\n\t Wichita, KS    & 2006 & 0.01860806 & 107354.1 & 41089 & 34.8 & 13.096823\\\\\n\t Wichita, KS    & 2007 & 0.01892859 & 111378.1 & 42696 & 35.0 & 15.245344\\\\\n\t Wichita, KS    & 2008 & 0.01708209 & 114261.8 & 44211 & 34.0 & 16.408939\\\\\n\t Wichita, KS    & 2009 & 0.01770778 & 115047.3 & 44405 & 34.3 &  9.897806\\\\\n\t Wichita, KS    & 2010 & 0.01589045 & 117629.0 & 42694 & 33.9 &  8.734963\\\\\n\t Wichita, KS    & 2011 & 0.01540037 & 114371.6 & 44184 & 34.3 & 10.462393\\\\\n\t Wichita, KS    & 2012 & 0.01498930 & 110632.7 & 43776 & 35.1 &  8.034788\\\\\n\t Wichita, KS    & 2013 & 0.01588156 & 111972.3 & 43538 & 34.0 &  7.482116\\\\\n\t Wichita, KS    & 2014 & 0.01516931 & 112149.6 & 45477 & 34.0 &  6.848021\\\\\n\t Wichita, KS    & 2015 & 0.01969607 & 115130.5 & 46894 & 34.6 &  4.994331\\\\\n\\end{tabular}\n",
            "text/plain": [
              "    city            year crime_rate  housing_price income median_age\n",
              "1   Albuquerque, NM 2005 0.019036710 153134.1      41820  35.8      \n",
              "2   Albuquerque, NM 2006 0.018165304 170259.0      43021  35.3      \n",
              "3   Albuquerque, NM 2007 0.019800282 193305.9      43677  35.2      \n",
              "4   Albuquerque, NM 2008 0.017889373 200215.2      46437  35.5      \n",
              "5   Albuquerque, NM 2009 0.015385311 187486.9      44594  34.0      \n",
              "6   Albuquerque, NM 2010 0.015722210 180903.8      46079  35.2      \n",
              "7   Albuquerque, NM 2011 0.015254701 171329.0      43606  35.5      \n",
              "8   Albuquerque, NM 2012 0.014994112 164757.2      45373  35.3      \n",
              "9   Albuquerque, NM 2013 0.015497210 163877.8      48357  35.8      \n",
              "10  Albuquerque, NM 2014 0.017656932 166668.6      46433  35.7      \n",
              "11  Albuquerque, NM 2015 0.019316767 169546.4      47096  36.0      \n",
              "12  Atlanta, GA     2005 0.033496956 179505.7      39752  34.7      \n",
              "13  Atlanta, GA     2006 0.031074260 186545.6      41612  35.0      \n",
              "14  Atlanta, GA     2007 0.032476020 192300.5      47153  35.0      \n",
              "15  Atlanta, GA     2008 0.027777778 191047.2      48865  35.7      \n",
              "16  Atlanta, GA     2009 0.023002310 171838.8      49981  33.4      \n",
              "17  Atlanta, GA     2010 0.027375995 152781.2      41631  33.2      \n",
              "18  Atlanta, GA     2011 0.028655827 139138.9      43903  32.7      \n",
              "19  Atlanta, GA     2012 0.027580936 125489.5      46466  33.1      \n",
              "20  Atlanta, GA     2013 0.024460113 131061.1      46485  33.1      \n",
              "21  Atlanta, GA     2014 0.024548654 154395.4      46777  33.5      \n",
              "22  Atlanta, GA     2015 0.022392460 169023.9      50210  33.8      \n",
              "23  Austin, TX      2005 0.009791939 186656.9      43731  31.4      \n",
              "24  Austin, TX      2006 0.010306940 192941.4      47212  31.2      \n",
              "25  Austin, TX      2007 0.010800525 199710.0      48966  31.4      \n",
              "26  Austin, TX      2008 0.010444107 207084.2      51372  31.7      \n",
              "27  Austin, TX      2009 0.010465948 201617.9      50132  31.2      \n",
              "28  Austin, TX      2010 0.009590202 198154.6      47434  30.9      \n",
              "29  Austin, TX      2011 0.008599518 192188.5      49987  31.3      \n",
              "30  Austin, TX      2012 0.008176242 190162.6      52453  31.7      \n",
              "⋮   ⋮               ⋮    ⋮           ⋮             ⋮      ⋮         \n",
              "356 Tulsa, OK       2008 0.02570544  128703.7      39657  35.8      \n",
              "357 Tulsa, OK       2009 0.02232033  128249.3      38426  34.9      \n",
              "358 Tulsa, OK       2010 0.02196445  128489.3      38220  35.1      \n",
              "359 Tulsa, OK       2011 0.01999490  126555.3      40123  34.8      \n",
              "360 Tulsa, OK       2012 0.01979925  122320.6      40440  34.8      \n",
              "361 Tulsa, OK       2013 0.01940187  124317.4      41495  34.7      \n",
              "362 Tulsa, OK       2014 0.01610287  127282.2      42803  35.4      \n",
              "363 Tulsa, OK       2015 0.01807133  132175.7      43322  35.0      \n",
              "364 Washington, DC  2005 0.02803163  353870.3      47221  35.9      \n",
              "365 Washington, DC  2006 0.02891682  425827.4      51847  35.0      \n",
              "366 Washington, DC  2007 0.02693900  431580.1      54317  34.9      \n",
              "367 Washington, DC  2008 0.02749086  401361.7      57936  34.9      \n",
              "368 Washington, DC  2009 0.02530447  339166.0      59290  35.1      \n",
              "369 Washington, DC  2010 0.02482205  319790.1      60903  33.9      \n",
              "370 Washington, DC  2011 0.02260532  318414.8      63124  33.4      \n",
              "371 Washington, DC  2012 0.02355758  314068.1      66583  33.7      \n",
              "372 Washington, DC  2013 0.02437934  336099.6      67572  33.8      \n",
              "373 Washington, DC  2014 0.02370643  362697.9      71648  33.8      \n",
              "374 Washington, DC  2015 0.02405136  373022.7      75628  33.8      \n",
              "375 Wichita, KS     2005 0.01489531  109902.9      40115  34.2      \n",
              "376 Wichita, KS     2006 0.01860806  107354.1      41089  34.8      \n",
              "377 Wichita, KS     2007 0.01892859  111378.1      42696  35.0      \n",
              "378 Wichita, KS     2008 0.01708209  114261.8      44211  34.0      \n",
              "379 Wichita, KS     2009 0.01770778  115047.3      44405  34.3      \n",
              "380 Wichita, KS     2010 0.01589045  117629.0      42694  33.9      \n",
              "381 Wichita, KS     2011 0.01540037  114371.6      44184  34.3      \n",
              "382 Wichita, KS     2012 0.01498930  110632.7      43776  35.1      \n",
              "383 Wichita, KS     2013 0.01588156  111972.3      43538  34.0      \n",
              "384 Wichita, KS     2014 0.01516931  112149.6      45477  34.0      \n",
              "385 Wichita, KS     2015 0.01969607  115130.5      46894  34.6      \n",
              "    unemployment\n",
              "1   14.533702   \n",
              "2   18.786019   \n",
              "3   19.911130   \n",
              "4   19.150972   \n",
              "5   13.877965   \n",
              "6   12.436434   \n",
              "7   10.542100   \n",
              "8    8.817330   \n",
              "9    7.260191   \n",
              "10   8.308843   \n",
              "11   6.681222   \n",
              "12  10.534444   \n",
              "13  10.190236   \n",
              "14  10.807414   \n",
              "15  11.776196   \n",
              "16   7.966137   \n",
              "17   6.696835   \n",
              "18  13.222761   \n",
              "19  14.661379   \n",
              "20  11.253640   \n",
              "21  10.482968   \n",
              "22   7.382863   \n",
              "23  14.198369   \n",
              "24  16.347289   \n",
              "25  19.592060   \n",
              "26  19.434976   \n",
              "27  13.391173   \n",
              "28  11.853359   \n",
              "29   8.251289   \n",
              "30   7.106502   \n",
              "⋮   ⋮           \n",
              "356 21.912674   \n",
              "357 13.843573   \n",
              "358 10.640480   \n",
              "359  8.010352   \n",
              "360  7.862066   \n",
              "361  7.173986   \n",
              "362  5.581463   \n",
              "363  6.377931   \n",
              "364 10.958860   \n",
              "365 11.788686   \n",
              "366 12.381388   \n",
              "367 12.881559   \n",
              "368  9.013277   \n",
              "369  8.060211   \n",
              "370 11.377442   \n",
              "371 10.342908   \n",
              "372 10.446569   \n",
              "373  8.859504   \n",
              "374  7.250638   \n",
              "375 12.318049   \n",
              "376 13.096823   \n",
              "377 15.245344   \n",
              "378 16.408939   \n",
              "379  9.897806   \n",
              "380  8.734963   \n",
              "381 10.462393   \n",
              "382  8.034788   \n",
              "383  7.482116   \n",
              "384  6.848021   \n",
              "385  4.994331   "
            ]
          },
          "metadata": {}
        }
      ]
    },
    {
      "cell_type": "code",
      "source": [
        "write.csv(merged_data, \"merged_data.csv\")"
      ],
      "metadata": {
        "id": "PsGwyTT6eLwy"
      },
      "execution_count": 25,
      "outputs": []
    }
  ]
}