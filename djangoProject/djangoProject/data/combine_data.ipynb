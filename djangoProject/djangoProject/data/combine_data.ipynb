{
  "nbformat": 4,
  "nbformat_minor": 0,
  "metadata": {
    "colab": {
      "provenance": []
    },
    "kernelspec": {
      "name": "ir",
      "display_name": "R"
    },
    "language_info": {
      "name": "R"
    }
  },
  "cells": [
    {
      "cell_type": "code",
      "execution_count": 95,
      "metadata": {
        "id": "J2e6SjYiQgP-"
      },
      "outputs": [],
      "source": [
        "library(tidyverse)"
      ]
    },
    {
      "cell_type": "code",
      "source": [
        "geo <- read.csv(\"geomob.csv\")\n",
        "price <- read.csv(\"housingprice.csv\")\n",
        "income <- read.csv(\"income.csv\")\n",
        "age <- read.csv(\"medianage.csv\")\n",
        "unemployment <- read.csv(\"unemployment.csv\")"
      ],
      "metadata": {
        "id": "37BXeT1qUMwS"
      },
      "execution_count": 96,
      "outputs": []
    },
    {
      "cell_type": "code",
      "source": [
        "geo <- select(geo, -X)\n",
        "price <- select(price, -X, -X2020.1)\n",
        "income <- select(income, -X)\n",
        "age <- select(age, -X)\n",
        "unemployment <- select(unemployment, -X)"
      ],
      "metadata": {
        "id": "TZNvUWehUgFM"
      },
      "execution_count": 98,
      "outputs": []
    },
    {
      "cell_type": "code",
      "source": [
        "colnames(geo) <- c('city', '2005','2006','2007','2008','2009','2010','2011','2012','2013','2014','2015', '2016', '2017', '2018', '2019', '2020', '2021', '2022', '2023')\n",
        "colnames(price) <- c('city', '2005','2006','2007','2008','2009','2010','2011','2012','2013','2014','2015', '2016', '2017', '2018', '2019', '2020', '2021', '2022', '2023')\n",
        "colnames(income) <- c('city', '2005','2006','2007','2008','2009','2010','2011','2012','2013','2014','2015', '2016', '2017', '2018', '2019', '2020', '2021', '2022', '2023')\n",
        "colnames(age) <- c('city', '2005','2006','2007','2008','2009','2010','2011','2012','2013','2014','2015', '2016', '2017', '2018', '2019', '2020', '2021', '2022', '2023')\n",
        "colnames(unemployment) <- c('city', '2005','2006','2007','2008','2009','2010','2011','2012','2013','2014','2015', '2016', '2017', '2018', '2019', '2020', '2021', '2022', '2023')"
      ],
      "metadata": {
        "id": "UCyx93BTXDDW"
      },
      "execution_count": 100,
      "outputs": []
    },
    {
      "cell_type": "code",
      "source": [
        "geo <- pivot_longer(geo, cols = c('2005','2006','2007','2008','2009','2010','2011','2012','2013','2014','2015', '2016', '2017', '2018', '2019', '2020', '2021', '2022', '2023'), names_to = \"year\", values_to = \"geo\")\n",
        "price <- pivot_longer(price, cols = c('2005','2006','2007','2008','2009','2010','2011','2012','2013','2014','2015', '2016', '2017', '2018', '2019', '2020', '2021', '2022', '2023'), names_to = \"year\", values_to = \"price\")\n",
        "income <- pivot_longer(income, cols = c('2005','2006','2007','2008','2009','2010','2011','2012','2013','2014','2015', '2016', '2017', '2018', '2019', '2020', '2021', '2022', '2023'), names_to = \"year\", values_to = \"income\")\n",
        "age <- pivot_longer(age, cols = c('2005','2006','2007','2008','2009','2010','2011','2012','2013','2014','2015', '2016', '2017', '2018', '2019', '2020', '2021', '2022', '2023'), names_to = \"year\", values_to = \"age\")\n",
        "unemployment <- pivot_longer(unemployment, cols = c('2005','2006','2007','2008','2009','2010','2011','2012','2013','2014','2015', '2016', '2017', '2018', '2019', '2020', '2021', '2022', '2023'), names_to = \"year\", values_to = \"unemployment\")"
      ],
      "metadata": {
        "id": "O_E0v3k8VP8V"
      },
      "execution_count": 101,
      "outputs": []
    },
    {
      "cell_type": "code",
      "source": [
        "geo$year = as.integer(geo$year)\n",
        "price$year = as.integer(price$year)\n",
        "income$year = as.integer(income$year)\n",
        "age$year = as.integer(age$year)\n",
        "unemployment$year = as.integer(unemployment$year)"
      ],
      "metadata": {
        "id": "5OPE3uXjZoTG"
      },
      "execution_count": 102,
      "outputs": []
    },
    {
      "cell_type": "code",
      "source": [
        "head(geo)\n",
        "head(price)\n",
        "head(income)\n",
        "head(age)\n",
        "head(unemployment)"
      ],
      "metadata": {
        "colab": {
          "base_uri": "https://localhost:8080/",
          "height": 1000
        },
        "id": "uu9j-n2SUvlS",
        "outputId": "556a6b6c-87f9-42b5-ae47-6cdfcaa22bef"
      },
      "execution_count": 103,
      "outputs": [
        {
          "output_type": "display_data",
          "data": {
            "text/html": [
              "<table class=\"dataframe\">\n",
              "<caption>A tibble: 6 × 3</caption>\n",
              "<thead>\n",
              "\t<tr><th scope=col>city</th><th scope=col>year</th><th scope=col>geo</th></tr>\n",
              "\t<tr><th scope=col>&lt;chr&gt;</th><th scope=col>&lt;int&gt;</th><th scope=col>&lt;dbl&gt;</th></tr>\n",
              "</thead>\n",
              "<tbody>\n",
              "\t<tr><td>Albuquerque, NM</td><td>2005</td><td>482442</td></tr>\n",
              "\t<tr><td>Albuquerque, NM</td><td>2006</td><td>485982</td></tr>\n",
              "\t<tr><td>Albuquerque, NM</td><td>2007</td><td>505490</td></tr>\n",
              "\t<tr><td>Albuquerque, NM</td><td>2008</td><td>506706</td></tr>\n",
              "\t<tr><td>Albuquerque, NM</td><td>2009</td><td>519532</td></tr>\n",
              "\t<tr><td>Albuquerque, NM</td><td>2010</td><td>540574</td></tr>\n",
              "</tbody>\n",
              "</table>\n"
            ],
            "text/markdown": "\nA tibble: 6 × 3\n\n| city &lt;chr&gt; | year &lt;int&gt; | geo &lt;dbl&gt; |\n|---|---|---|\n| Albuquerque, NM | 2005 | 482442 |\n| Albuquerque, NM | 2006 | 485982 |\n| Albuquerque, NM | 2007 | 505490 |\n| Albuquerque, NM | 2008 | 506706 |\n| Albuquerque, NM | 2009 | 519532 |\n| Albuquerque, NM | 2010 | 540574 |\n\n",
            "text/latex": "A tibble: 6 × 3\n\\begin{tabular}{lll}\n city & year & geo\\\\\n <chr> & <int> & <dbl>\\\\\n\\hline\n\t Albuquerque, NM & 2005 & 482442\\\\\n\t Albuquerque, NM & 2006 & 485982\\\\\n\t Albuquerque, NM & 2007 & 505490\\\\\n\t Albuquerque, NM & 2008 & 506706\\\\\n\t Albuquerque, NM & 2009 & 519532\\\\\n\t Albuquerque, NM & 2010 & 540574\\\\\n\\end{tabular}\n",
            "text/plain": [
              "  city            year geo   \n",
              "1 Albuquerque, NM 2005 482442\n",
              "2 Albuquerque, NM 2006 485982\n",
              "3 Albuquerque, NM 2007 505490\n",
              "4 Albuquerque, NM 2008 506706\n",
              "5 Albuquerque, NM 2009 519532\n",
              "6 Albuquerque, NM 2010 540574"
            ]
          },
          "metadata": {}
        },
        {
          "output_type": "display_data",
          "data": {
            "text/html": [
              "<table class=\"dataframe\">\n",
              "<caption>A tibble: 6 × 3</caption>\n",
              "<thead>\n",
              "\t<tr><th scope=col>city</th><th scope=col>year</th><th scope=col>price</th></tr>\n",
              "\t<tr><th scope=col>&lt;chr&gt;</th><th scope=col>&lt;int&gt;</th><th scope=col>&lt;dbl&gt;</th></tr>\n",
              "</thead>\n",
              "<tbody>\n",
              "\t<tr><td>Albuquerque, NM</td><td>2005</td><td>153134.1</td></tr>\n",
              "\t<tr><td>Albuquerque, NM</td><td>2006</td><td>170259.0</td></tr>\n",
              "\t<tr><td>Albuquerque, NM</td><td>2007</td><td>193305.9</td></tr>\n",
              "\t<tr><td>Albuquerque, NM</td><td>2008</td><td>200215.2</td></tr>\n",
              "\t<tr><td>Albuquerque, NM</td><td>2009</td><td>187486.9</td></tr>\n",
              "\t<tr><td>Albuquerque, NM</td><td>2010</td><td>180903.8</td></tr>\n",
              "</tbody>\n",
              "</table>\n"
            ],
            "text/markdown": "\nA tibble: 6 × 3\n\n| city &lt;chr&gt; | year &lt;int&gt; | price &lt;dbl&gt; |\n|---|---|---|\n| Albuquerque, NM | 2005 | 153134.1 |\n| Albuquerque, NM | 2006 | 170259.0 |\n| Albuquerque, NM | 2007 | 193305.9 |\n| Albuquerque, NM | 2008 | 200215.2 |\n| Albuquerque, NM | 2009 | 187486.9 |\n| Albuquerque, NM | 2010 | 180903.8 |\n\n",
            "text/latex": "A tibble: 6 × 3\n\\begin{tabular}{lll}\n city & year & price\\\\\n <chr> & <int> & <dbl>\\\\\n\\hline\n\t Albuquerque, NM & 2005 & 153134.1\\\\\n\t Albuquerque, NM & 2006 & 170259.0\\\\\n\t Albuquerque, NM & 2007 & 193305.9\\\\\n\t Albuquerque, NM & 2008 & 200215.2\\\\\n\t Albuquerque, NM & 2009 & 187486.9\\\\\n\t Albuquerque, NM & 2010 & 180903.8\\\\\n\\end{tabular}\n",
            "text/plain": [
              "  city            year price   \n",
              "1 Albuquerque, NM 2005 153134.1\n",
              "2 Albuquerque, NM 2006 170259.0\n",
              "3 Albuquerque, NM 2007 193305.9\n",
              "4 Albuquerque, NM 2008 200215.2\n",
              "5 Albuquerque, NM 2009 187486.9\n",
              "6 Albuquerque, NM 2010 180903.8"
            ]
          },
          "metadata": {}
        },
        {
          "output_type": "display_data",
          "data": {
            "text/html": [
              "<table class=\"dataframe\">\n",
              "<caption>A tibble: 6 × 3</caption>\n",
              "<thead>\n",
              "\t<tr><th scope=col>city</th><th scope=col>year</th><th scope=col>income</th></tr>\n",
              "\t<tr><th scope=col>&lt;chr&gt;</th><th scope=col>&lt;int&gt;</th><th scope=col>&lt;dbl&gt;</th></tr>\n",
              "</thead>\n",
              "<tbody>\n",
              "\t<tr><td>Albuquerque, NM</td><td>2005</td><td>41820</td></tr>\n",
              "\t<tr><td>Albuquerque, NM</td><td>2006</td><td>43021</td></tr>\n",
              "\t<tr><td>Albuquerque, NM</td><td>2007</td><td>43677</td></tr>\n",
              "\t<tr><td>Albuquerque, NM</td><td>2008</td><td>46437</td></tr>\n",
              "\t<tr><td>Albuquerque, NM</td><td>2009</td><td>44594</td></tr>\n",
              "\t<tr><td>Albuquerque, NM</td><td>2010</td><td>46079</td></tr>\n",
              "</tbody>\n",
              "</table>\n"
            ],
            "text/markdown": "\nA tibble: 6 × 3\n\n| city &lt;chr&gt; | year &lt;int&gt; | income &lt;dbl&gt; |\n|---|---|---|\n| Albuquerque, NM | 2005 | 41820 |\n| Albuquerque, NM | 2006 | 43021 |\n| Albuquerque, NM | 2007 | 43677 |\n| Albuquerque, NM | 2008 | 46437 |\n| Albuquerque, NM | 2009 | 44594 |\n| Albuquerque, NM | 2010 | 46079 |\n\n",
            "text/latex": "A tibble: 6 × 3\n\\begin{tabular}{lll}\n city & year & income\\\\\n <chr> & <int> & <dbl>\\\\\n\\hline\n\t Albuquerque, NM & 2005 & 41820\\\\\n\t Albuquerque, NM & 2006 & 43021\\\\\n\t Albuquerque, NM & 2007 & 43677\\\\\n\t Albuquerque, NM & 2008 & 46437\\\\\n\t Albuquerque, NM & 2009 & 44594\\\\\n\t Albuquerque, NM & 2010 & 46079\\\\\n\\end{tabular}\n",
            "text/plain": [
              "  city            year income\n",
              "1 Albuquerque, NM 2005 41820 \n",
              "2 Albuquerque, NM 2006 43021 \n",
              "3 Albuquerque, NM 2007 43677 \n",
              "4 Albuquerque, NM 2008 46437 \n",
              "5 Albuquerque, NM 2009 44594 \n",
              "6 Albuquerque, NM 2010 46079 "
            ]
          },
          "metadata": {}
        },
        {
          "output_type": "display_data",
          "data": {
            "text/html": [
              "<table class=\"dataframe\">\n",
              "<caption>A tibble: 6 × 3</caption>\n",
              "<thead>\n",
              "\t<tr><th scope=col>city</th><th scope=col>year</th><th scope=col>age</th></tr>\n",
              "\t<tr><th scope=col>&lt;chr&gt;</th><th scope=col>&lt;int&gt;</th><th scope=col>&lt;dbl&gt;</th></tr>\n",
              "</thead>\n",
              "<tbody>\n",
              "\t<tr><td>Albuquerque, NM</td><td>2005</td><td>35.8</td></tr>\n",
              "\t<tr><td>Albuquerque, NM</td><td>2006</td><td>35.3</td></tr>\n",
              "\t<tr><td>Albuquerque, NM</td><td>2007</td><td>35.2</td></tr>\n",
              "\t<tr><td>Albuquerque, NM</td><td>2008</td><td>35.5</td></tr>\n",
              "\t<tr><td>Albuquerque, NM</td><td>2009</td><td>34.0</td></tr>\n",
              "\t<tr><td>Albuquerque, NM</td><td>2010</td><td>35.2</td></tr>\n",
              "</tbody>\n",
              "</table>\n"
            ],
            "text/markdown": "\nA tibble: 6 × 3\n\n| city &lt;chr&gt; | year &lt;int&gt; | age &lt;dbl&gt; |\n|---|---|---|\n| Albuquerque, NM | 2005 | 35.8 |\n| Albuquerque, NM | 2006 | 35.3 |\n| Albuquerque, NM | 2007 | 35.2 |\n| Albuquerque, NM | 2008 | 35.5 |\n| Albuquerque, NM | 2009 | 34.0 |\n| Albuquerque, NM | 2010 | 35.2 |\n\n",
            "text/latex": "A tibble: 6 × 3\n\\begin{tabular}{lll}\n city & year & age\\\\\n <chr> & <int> & <dbl>\\\\\n\\hline\n\t Albuquerque, NM & 2005 & 35.8\\\\\n\t Albuquerque, NM & 2006 & 35.3\\\\\n\t Albuquerque, NM & 2007 & 35.2\\\\\n\t Albuquerque, NM & 2008 & 35.5\\\\\n\t Albuquerque, NM & 2009 & 34.0\\\\\n\t Albuquerque, NM & 2010 & 35.2\\\\\n\\end{tabular}\n",
            "text/plain": [
              "  city            year age \n",
              "1 Albuquerque, NM 2005 35.8\n",
              "2 Albuquerque, NM 2006 35.3\n",
              "3 Albuquerque, NM 2007 35.2\n",
              "4 Albuquerque, NM 2008 35.5\n",
              "5 Albuquerque, NM 2009 34.0\n",
              "6 Albuquerque, NM 2010 35.2"
            ]
          },
          "metadata": {}
        },
        {
          "output_type": "display_data",
          "data": {
            "text/html": [
              "<table class=\"dataframe\">\n",
              "<caption>A tibble: 6 × 3</caption>\n",
              "<thead>\n",
              "\t<tr><th scope=col>city</th><th scope=col>year</th><th scope=col>unemployment</th></tr>\n",
              "\t<tr><th scope=col>&lt;chr&gt;</th><th scope=col>&lt;int&gt;</th><th scope=col>&lt;dbl&gt;</th></tr>\n",
              "</thead>\n",
              "<tbody>\n",
              "\t<tr><td>Albuquerque, NM</td><td>2005</td><td>14.53370</td></tr>\n",
              "\t<tr><td>Albuquerque, NM</td><td>2006</td><td>18.78602</td></tr>\n",
              "\t<tr><td>Albuquerque, NM</td><td>2007</td><td>19.91113</td></tr>\n",
              "\t<tr><td>Albuquerque, NM</td><td>2008</td><td>19.15097</td></tr>\n",
              "\t<tr><td>Albuquerque, NM</td><td>2009</td><td>13.87797</td></tr>\n",
              "\t<tr><td>Albuquerque, NM</td><td>2010</td><td>12.43643</td></tr>\n",
              "</tbody>\n",
              "</table>\n"
            ],
            "text/markdown": "\nA tibble: 6 × 3\n\n| city &lt;chr&gt; | year &lt;int&gt; | unemployment &lt;dbl&gt; |\n|---|---|---|\n| Albuquerque, NM | 2005 | 14.53370 |\n| Albuquerque, NM | 2006 | 18.78602 |\n| Albuquerque, NM | 2007 | 19.91113 |\n| Albuquerque, NM | 2008 | 19.15097 |\n| Albuquerque, NM | 2009 | 13.87797 |\n| Albuquerque, NM | 2010 | 12.43643 |\n\n",
            "text/latex": "A tibble: 6 × 3\n\\begin{tabular}{lll}\n city & year & unemployment\\\\\n <chr> & <int> & <dbl>\\\\\n\\hline\n\t Albuquerque, NM & 2005 & 14.53370\\\\\n\t Albuquerque, NM & 2006 & 18.78602\\\\\n\t Albuquerque, NM & 2007 & 19.91113\\\\\n\t Albuquerque, NM & 2008 & 19.15097\\\\\n\t Albuquerque, NM & 2009 & 13.87797\\\\\n\t Albuquerque, NM & 2010 & 12.43643\\\\\n\\end{tabular}\n",
            "text/plain": [
              "  city            year unemployment\n",
              "1 Albuquerque, NM 2005 14.53370    \n",
              "2 Albuquerque, NM 2006 18.78602    \n",
              "3 Albuquerque, NM 2007 19.91113    \n",
              "4 Albuquerque, NM 2008 19.15097    \n",
              "5 Albuquerque, NM 2009 13.87797    \n",
              "6 Albuquerque, NM 2010 12.43643    "
            ]
          },
          "metadata": {}
        }
      ]
    },
    {
      "cell_type": "code",
      "source": [
        "df_list <- list(geo, price, income, age, unemployment)\n",
        "merged_data <- Reduce(function(x, y) merge(x, y, by = c('city', 'year')), df_list)"
      ],
      "metadata": {
        "id": "yiQ_6lViaJm6"
      },
      "execution_count": 104,
      "outputs": []
    },
    {
      "cell_type": "code",
      "source": [
        "colnames(merged_data) = c('city', 'year', 'geomobility', 'housing_price', 'income', 'median_age', 'unemployment')"
      ],
      "metadata": {
        "id": "9emmI5l1aua2"
      },
      "execution_count": 105,
      "outputs": []
    },
    {
      "cell_type": "code",
      "source": [
        "merged_data"
      ],
      "metadata": {
        "colab": {
          "base_uri": "https://localhost:8080/",
          "height": 1000
        },
        "id": "U4C_Y2iieI9n",
        "outputId": "8922f74c-9340-48b0-b42d-91a44dd19b77"
      },
      "execution_count": 106,
      "outputs": [
        {
          "output_type": "display_data",
          "data": {
            "text/html": [
              "<table class=\"dataframe\">\n",
              "<caption>A data.frame: 627 × 7</caption>\n",
              "<thead>\n",
              "\t<tr><th scope=col>city</th><th scope=col>year</th><th scope=col>geomobility</th><th scope=col>housing_price</th><th scope=col>income</th><th scope=col>median_age</th><th scope=col>unemployment</th></tr>\n",
              "\t<tr><th scope=col>&lt;chr&gt;</th><th scope=col>&lt;int&gt;</th><th scope=col>&lt;dbl&gt;</th><th scope=col>&lt;dbl&gt;</th><th scope=col>&lt;dbl&gt;</th><th scope=col>&lt;dbl&gt;</th><th scope=col>&lt;dbl&gt;</th></tr>\n",
              "</thead>\n",
              "<tbody>\n",
              "\t<tr><td>Albuquerque, NM</td><td>2005</td><td>482442</td><td>153134.1</td><td>41820</td><td>35.8</td><td>14.533702</td></tr>\n",
              "\t<tr><td>Albuquerque, NM</td><td>2006</td><td>485982</td><td>170259.0</td><td>43021</td><td>35.3</td><td>18.786019</td></tr>\n",
              "\t<tr><td>Albuquerque, NM</td><td>2007</td><td>505490</td><td>193305.9</td><td>43677</td><td>35.2</td><td>19.911130</td></tr>\n",
              "\t<tr><td>Albuquerque, NM</td><td>2008</td><td>506706</td><td>200215.2</td><td>46437</td><td>35.5</td><td>19.150972</td></tr>\n",
              "\t<tr><td>Albuquerque, NM</td><td>2009</td><td>519532</td><td>187486.9</td><td>44594</td><td>34.0</td><td>13.877965</td></tr>\n",
              "\t<tr><td>Albuquerque, NM</td><td>2010</td><td>540574</td><td>180903.8</td><td>46079</td><td>35.2</td><td>12.436434</td></tr>\n",
              "\t<tr><td>Albuquerque, NM</td><td>2011</td><td>544579</td><td>171329.0</td><td>43606</td><td>35.5</td><td>10.542100</td></tr>\n",
              "\t<tr><td>Albuquerque, NM</td><td>2012</td><td>548340</td><td>164757.2</td><td>45373</td><td>35.3</td><td> 8.817330</td></tr>\n",
              "\t<tr><td>Albuquerque, NM</td><td>2013</td><td>549629</td><td>163877.8</td><td>48357</td><td>35.8</td><td> 7.260191</td></tr>\n",
              "\t<tr><td>Albuquerque, NM</td><td>2014</td><td>550317</td><td>166668.6</td><td>46433</td><td>35.7</td><td> 8.308843</td></tr>\n",
              "\t<tr><td>Albuquerque, NM</td><td>2015</td><td>552275</td><td>169546.4</td><td>47096</td><td>36.0</td><td> 6.681222</td></tr>\n",
              "\t<tr><td>Albuquerque, NM</td><td>2016</td><td>553849</td><td>176038.3</td><td>50522</td><td>36.5</td><td> 5.212342</td></tr>\n",
              "\t<tr><td>Albuquerque, NM</td><td>2017</td><td>551049</td><td>183130.7</td><td>50456</td><td>37.0</td><td> 4.805098</td></tr>\n",
              "\t<tr><td>Albuquerque, NM</td><td>2018</td><td>553759</td><td>189542.2</td><td>51099</td><td>37.2</td><td> 5.734425</td></tr>\n",
              "\t<tr><td>Albuquerque, NM</td><td>2019</td><td>553804</td><td>198026.6</td><td>55567</td><td>37.3</td><td> 5.082790</td></tr>\n",
              "\t<tr><td>Albuquerque, NM</td><td>2020</td><td>554784</td><td>212967.8</td><td>53936</td><td>37.1</td><td> 5.594741</td></tr>\n",
              "\t<tr><td>Albuquerque, NM</td><td>2021</td><td>558997</td><td>241066.3</td><td>58512</td><td>38.9</td><td> 6.105605</td></tr>\n",
              "\t<tr><td>Albuquerque, NM</td><td>2022</td><td>554890</td><td>280587.6</td><td>64757</td><td>38.4</td><td> 4.188383</td></tr>\n",
              "\t<tr><td>Albuquerque, NM</td><td>2023</td><td>555391</td><td>308189.9</td><td>67907</td><td>39.2</td><td> 4.337847</td></tr>\n",
              "\t<tr><td>Atlanta, GA    </td><td>2005</td><td>388422</td><td>179505.7</td><td>39752</td><td>34.7</td><td>10.534444</td></tr>\n",
              "\t<tr><td>Atlanta, GA    </td><td>2006</td><td>438135</td><td>186545.6</td><td>41612</td><td>35.0</td><td>10.190236</td></tr>\n",
              "\t<tr><td>Atlanta, GA    </td><td>2007</td><td>425366</td><td>192300.5</td><td>47153</td><td>35.0</td><td>10.807414</td></tr>\n",
              "\t<tr><td>Atlanta, GA    </td><td>2008</td><td>447703</td><td>191047.2</td><td>48865</td><td>35.7</td><td>11.776196</td></tr>\n",
              "\t<tr><td>Atlanta, GA    </td><td>2009</td><td>532685</td><td>171838.8</td><td>49981</td><td>33.4</td><td> 7.966137</td></tr>\n",
              "\t<tr><td>Atlanta, GA    </td><td>2010</td><td>416670</td><td>152781.2</td><td>41631</td><td>33.2</td><td> 6.696835</td></tr>\n",
              "\t<tr><td>Atlanta, GA    </td><td>2011</td><td>427164</td><td>139138.9</td><td>43903</td><td>32.7</td><td>13.222761</td></tr>\n",
              "\t<tr><td>Atlanta, GA    </td><td>2012</td><td>438201</td><td>125489.5</td><td>46466</td><td>33.1</td><td>14.661379</td></tr>\n",
              "\t<tr><td>Atlanta, GA    </td><td>2013</td><td>441997</td><td>131061.1</td><td>46485</td><td>33.1</td><td>11.253640</td></tr>\n",
              "\t<tr><td>Atlanta, GA    </td><td>2014</td><td>449800</td><td>154395.4</td><td>46777</td><td>33.5</td><td>10.482968</td></tr>\n",
              "\t<tr><td>Atlanta, GA    </td><td>2015</td><td>460327</td><td>169023.9</td><td>50210</td><td>33.8</td><td> 7.382863</td></tr>\n",
              "\t<tr><td>⋮</td><td>⋮</td><td>⋮</td><td>⋮</td><td>⋮</td><td>⋮</td><td>⋮</td></tr>\n",
              "\t<tr><td>Washington, DC</td><td>2013</td><td>636535</td><td>336099.6</td><td> 67572</td><td>33.8</td><td>10.446569</td></tr>\n",
              "\t<tr><td>Washington, DC</td><td>2014</td><td>648586</td><td>362697.9</td><td> 71648</td><td>33.8</td><td> 8.859504</td></tr>\n",
              "\t<tr><td>Washington, DC</td><td>2015</td><td>663006</td><td>373022.7</td><td> 75628</td><td>33.8</td><td> 7.250638</td></tr>\n",
              "\t<tr><td>Washington, DC</td><td>2016</td><td>672022</td><td>383018.4</td><td> 75506</td><td>33.9</td><td> 6.919595</td></tr>\n",
              "\t<tr><td>Washington, DC</td><td>2017</td><td>684810</td><td>391994.5</td><td> 82372</td><td>34.0</td><td> 6.590778</td></tr>\n",
              "\t<tr><td>Washington, DC</td><td>2018</td><td>693798</td><td>405671.3</td><td> 85203</td><td>33.9</td><td> 7.541190</td></tr>\n",
              "\t<tr><td>Washington, DC</td><td>2019</td><td>697556</td><td>418772.4</td><td> 92266</td><td>34.3</td><td> 6.263807</td></tr>\n",
              "\t<tr><td>Washington, DC</td><td>2020</td><td>693253</td><td>434866.2</td><td> 90842</td><td>34.1</td><td> 7.119626</td></tr>\n",
              "\t<tr><td>Washington, DC</td><td>2021</td><td>661026</td><td>473189.9</td><td> 90088</td><td>34.8</td><td> 8.200761</td></tr>\n",
              "\t<tr><td>Washington, DC</td><td>2022</td><td>660942</td><td>514291.0</td><td>101027</td><td>34.9</td><td> 5.112622</td></tr>\n",
              "\t<tr><td>Washington, DC</td><td>2023</td><td>670127</td><td>532275.5</td><td>108210</td><td>34.9</td><td> 5.258939</td></tr>\n",
              "\t<tr><td>Wichita, KS   </td><td>2005</td><td>347984</td><td>109902.9</td><td> 40115</td><td>34.2</td><td>12.318049</td></tr>\n",
              "\t<tr><td>Wichita, KS   </td><td>2006</td><td>351349</td><td>107354.1</td><td> 41089</td><td>34.8</td><td>13.096823</td></tr>\n",
              "\t<tr><td>Wichita, KS   </td><td>2007</td><td>355266</td><td>111378.1</td><td> 42696</td><td>35.0</td><td>15.245344</td></tr>\n",
              "\t<tr><td>Wichita, KS   </td><td>2008</td><td>358047</td><td>114261.8</td><td> 44211</td><td>34.0</td><td>16.408939</td></tr>\n",
              "\t<tr><td>Wichita, KS   </td><td>2009</td><td>364108</td><td>115047.3</td><td> 44405</td><td>34.3</td><td> 9.897806</td></tr>\n",
              "\t<tr><td>Wichita, KS   </td><td>2010</td><td>378148</td><td>117629.0</td><td> 42694</td><td>33.9</td><td> 8.734963</td></tr>\n",
              "\t<tr><td>Wichita, KS   </td><td>2011</td><td>379792</td><td>114371.6</td><td> 44184</td><td>34.3</td><td>10.462393</td></tr>\n",
              "\t<tr><td>Wichita, KS   </td><td>2012</td><td>380372</td><td>110632.7</td><td> 43776</td><td>35.1</td><td> 8.034788</td></tr>\n",
              "\t<tr><td>Wichita, KS   </td><td>2013</td><td>380784</td><td>111972.3</td><td> 43538</td><td>34.0</td><td> 7.482116</td></tr>\n",
              "\t<tr><td>Wichita, KS   </td><td>2014</td><td>382385</td><td>112149.6</td><td> 45477</td><td>34.0</td><td> 6.848021</td></tr>\n",
              "\t<tr><td>Wichita, KS   </td><td>2015</td><td>383590</td><td>115130.5</td><td> 46894</td><td>34.6</td><td> 4.994331</td></tr>\n",
              "\t<tr><td>Wichita, KS   </td><td>2016</td><td>385045</td><td>121298.5</td><td> 49202</td><td>34.7</td><td> 5.754310</td></tr>\n",
              "\t<tr><td>Wichita, KS   </td><td>2017</td><td>385843</td><td>124458.6</td><td> 50504</td><td>35.9</td><td> 6.689720</td></tr>\n",
              "\t<tr><td>Wichita, KS   </td><td>2018</td><td>382995</td><td>128795.6</td><td> 51051</td><td>35.3</td><td> 4.901292</td></tr>\n",
              "\t<tr><td>Wichita, KS   </td><td>2019</td><td>384278</td><td>134578.1</td><td> 55056</td><td>35.3</td><td> 5.507219</td></tr>\n",
              "\t<tr><td>Wichita, KS   </td><td>2020</td><td>385454</td><td>144699.0</td><td> 53466</td><td>35.3</td><td> 5.570981</td></tr>\n",
              "\t<tr><td>Wichita, KS   </td><td>2021</td><td>390384</td><td>158485.9</td><td> 56293</td><td>35.6</td><td> 7.203338</td></tr>\n",
              "\t<tr><td>Wichita, KS   </td><td>2022</td><td>393547</td><td>177256.4</td><td> 59277</td><td>36.2</td><td> 6.025616</td></tr>\n",
              "\t<tr><td>Wichita, KS   </td><td>2023</td><td>392189</td><td>194398.3</td><td> 61281</td><td>36.8</td><td> 4.093885</td></tr>\n",
              "</tbody>\n",
              "</table>\n"
            ],
            "text/markdown": "\nA data.frame: 627 × 7\n\n| city &lt;chr&gt; | year &lt;int&gt; | geomobility &lt;dbl&gt; | housing_price &lt;dbl&gt; | income &lt;dbl&gt; | median_age &lt;dbl&gt; | unemployment &lt;dbl&gt; |\n|---|---|---|---|---|---|---|\n| Albuquerque, NM | 2005 | 482442 | 153134.1 | 41820 | 35.8 | 14.533702 |\n| Albuquerque, NM | 2006 | 485982 | 170259.0 | 43021 | 35.3 | 18.786019 |\n| Albuquerque, NM | 2007 | 505490 | 193305.9 | 43677 | 35.2 | 19.911130 |\n| Albuquerque, NM | 2008 | 506706 | 200215.2 | 46437 | 35.5 | 19.150972 |\n| Albuquerque, NM | 2009 | 519532 | 187486.9 | 44594 | 34.0 | 13.877965 |\n| Albuquerque, NM | 2010 | 540574 | 180903.8 | 46079 | 35.2 | 12.436434 |\n| Albuquerque, NM | 2011 | 544579 | 171329.0 | 43606 | 35.5 | 10.542100 |\n| Albuquerque, NM | 2012 | 548340 | 164757.2 | 45373 | 35.3 |  8.817330 |\n| Albuquerque, NM | 2013 | 549629 | 163877.8 | 48357 | 35.8 |  7.260191 |\n| Albuquerque, NM | 2014 | 550317 | 166668.6 | 46433 | 35.7 |  8.308843 |\n| Albuquerque, NM | 2015 | 552275 | 169546.4 | 47096 | 36.0 |  6.681222 |\n| Albuquerque, NM | 2016 | 553849 | 176038.3 | 50522 | 36.5 |  5.212342 |\n| Albuquerque, NM | 2017 | 551049 | 183130.7 | 50456 | 37.0 |  4.805098 |\n| Albuquerque, NM | 2018 | 553759 | 189542.2 | 51099 | 37.2 |  5.734425 |\n| Albuquerque, NM | 2019 | 553804 | 198026.6 | 55567 | 37.3 |  5.082790 |\n| Albuquerque, NM | 2020 | 554784 | 212967.8 | 53936 | 37.1 |  5.594741 |\n| Albuquerque, NM | 2021 | 558997 | 241066.3 | 58512 | 38.9 |  6.105605 |\n| Albuquerque, NM | 2022 | 554890 | 280587.6 | 64757 | 38.4 |  4.188383 |\n| Albuquerque, NM | 2023 | 555391 | 308189.9 | 67907 | 39.2 |  4.337847 |\n| Atlanta, GA     | 2005 | 388422 | 179505.7 | 39752 | 34.7 | 10.534444 |\n| Atlanta, GA     | 2006 | 438135 | 186545.6 | 41612 | 35.0 | 10.190236 |\n| Atlanta, GA     | 2007 | 425366 | 192300.5 | 47153 | 35.0 | 10.807414 |\n| Atlanta, GA     | 2008 | 447703 | 191047.2 | 48865 | 35.7 | 11.776196 |\n| Atlanta, GA     | 2009 | 532685 | 171838.8 | 49981 | 33.4 |  7.966137 |\n| Atlanta, GA     | 2010 | 416670 | 152781.2 | 41631 | 33.2 |  6.696835 |\n| Atlanta, GA     | 2011 | 427164 | 139138.9 | 43903 | 32.7 | 13.222761 |\n| Atlanta, GA     | 2012 | 438201 | 125489.5 | 46466 | 33.1 | 14.661379 |\n| Atlanta, GA     | 2013 | 441997 | 131061.1 | 46485 | 33.1 | 11.253640 |\n| Atlanta, GA     | 2014 | 449800 | 154395.4 | 46777 | 33.5 | 10.482968 |\n| Atlanta, GA     | 2015 | 460327 | 169023.9 | 50210 | 33.8 |  7.382863 |\n| ⋮ | ⋮ | ⋮ | ⋮ | ⋮ | ⋮ | ⋮ |\n| Washington, DC | 2013 | 636535 | 336099.6 |  67572 | 33.8 | 10.446569 |\n| Washington, DC | 2014 | 648586 | 362697.9 |  71648 | 33.8 |  8.859504 |\n| Washington, DC | 2015 | 663006 | 373022.7 |  75628 | 33.8 |  7.250638 |\n| Washington, DC | 2016 | 672022 | 383018.4 |  75506 | 33.9 |  6.919595 |\n| Washington, DC | 2017 | 684810 | 391994.5 |  82372 | 34.0 |  6.590778 |\n| Washington, DC | 2018 | 693798 | 405671.3 |  85203 | 33.9 |  7.541190 |\n| Washington, DC | 2019 | 697556 | 418772.4 |  92266 | 34.3 |  6.263807 |\n| Washington, DC | 2020 | 693253 | 434866.2 |  90842 | 34.1 |  7.119626 |\n| Washington, DC | 2021 | 661026 | 473189.9 |  90088 | 34.8 |  8.200761 |\n| Washington, DC | 2022 | 660942 | 514291.0 | 101027 | 34.9 |  5.112622 |\n| Washington, DC | 2023 | 670127 | 532275.5 | 108210 | 34.9 |  5.258939 |\n| Wichita, KS    | 2005 | 347984 | 109902.9 |  40115 | 34.2 | 12.318049 |\n| Wichita, KS    | 2006 | 351349 | 107354.1 |  41089 | 34.8 | 13.096823 |\n| Wichita, KS    | 2007 | 355266 | 111378.1 |  42696 | 35.0 | 15.245344 |\n| Wichita, KS    | 2008 | 358047 | 114261.8 |  44211 | 34.0 | 16.408939 |\n| Wichita, KS    | 2009 | 364108 | 115047.3 |  44405 | 34.3 |  9.897806 |\n| Wichita, KS    | 2010 | 378148 | 117629.0 |  42694 | 33.9 |  8.734963 |\n| Wichita, KS    | 2011 | 379792 | 114371.6 |  44184 | 34.3 | 10.462393 |\n| Wichita, KS    | 2012 | 380372 | 110632.7 |  43776 | 35.1 |  8.034788 |\n| Wichita, KS    | 2013 | 380784 | 111972.3 |  43538 | 34.0 |  7.482116 |\n| Wichita, KS    | 2014 | 382385 | 112149.6 |  45477 | 34.0 |  6.848021 |\n| Wichita, KS    | 2015 | 383590 | 115130.5 |  46894 | 34.6 |  4.994331 |\n| Wichita, KS    | 2016 | 385045 | 121298.5 |  49202 | 34.7 |  5.754310 |\n| Wichita, KS    | 2017 | 385843 | 124458.6 |  50504 | 35.9 |  6.689720 |\n| Wichita, KS    | 2018 | 382995 | 128795.6 |  51051 | 35.3 |  4.901292 |\n| Wichita, KS    | 2019 | 384278 | 134578.1 |  55056 | 35.3 |  5.507219 |\n| Wichita, KS    | 2020 | 385454 | 144699.0 |  53466 | 35.3 |  5.570981 |\n| Wichita, KS    | 2021 | 390384 | 158485.9 |  56293 | 35.6 |  7.203338 |\n| Wichita, KS    | 2022 | 393547 | 177256.4 |  59277 | 36.2 |  6.025616 |\n| Wichita, KS    | 2023 | 392189 | 194398.3 |  61281 | 36.8 |  4.093885 |\n\n",
            "text/latex": "A data.frame: 627 × 7\n\\begin{tabular}{lllllll}\n city & year & geomobility & housing\\_price & income & median\\_age & unemployment\\\\\n <chr> & <int> & <dbl> & <dbl> & <dbl> & <dbl> & <dbl>\\\\\n\\hline\n\t Albuquerque, NM & 2005 & 482442 & 153134.1 & 41820 & 35.8 & 14.533702\\\\\n\t Albuquerque, NM & 2006 & 485982 & 170259.0 & 43021 & 35.3 & 18.786019\\\\\n\t Albuquerque, NM & 2007 & 505490 & 193305.9 & 43677 & 35.2 & 19.911130\\\\\n\t Albuquerque, NM & 2008 & 506706 & 200215.2 & 46437 & 35.5 & 19.150972\\\\\n\t Albuquerque, NM & 2009 & 519532 & 187486.9 & 44594 & 34.0 & 13.877965\\\\\n\t Albuquerque, NM & 2010 & 540574 & 180903.8 & 46079 & 35.2 & 12.436434\\\\\n\t Albuquerque, NM & 2011 & 544579 & 171329.0 & 43606 & 35.5 & 10.542100\\\\\n\t Albuquerque, NM & 2012 & 548340 & 164757.2 & 45373 & 35.3 &  8.817330\\\\\n\t Albuquerque, NM & 2013 & 549629 & 163877.8 & 48357 & 35.8 &  7.260191\\\\\n\t Albuquerque, NM & 2014 & 550317 & 166668.6 & 46433 & 35.7 &  8.308843\\\\\n\t Albuquerque, NM & 2015 & 552275 & 169546.4 & 47096 & 36.0 &  6.681222\\\\\n\t Albuquerque, NM & 2016 & 553849 & 176038.3 & 50522 & 36.5 &  5.212342\\\\\n\t Albuquerque, NM & 2017 & 551049 & 183130.7 & 50456 & 37.0 &  4.805098\\\\\n\t Albuquerque, NM & 2018 & 553759 & 189542.2 & 51099 & 37.2 &  5.734425\\\\\n\t Albuquerque, NM & 2019 & 553804 & 198026.6 & 55567 & 37.3 &  5.082790\\\\\n\t Albuquerque, NM & 2020 & 554784 & 212967.8 & 53936 & 37.1 &  5.594741\\\\\n\t Albuquerque, NM & 2021 & 558997 & 241066.3 & 58512 & 38.9 &  6.105605\\\\\n\t Albuquerque, NM & 2022 & 554890 & 280587.6 & 64757 & 38.4 &  4.188383\\\\\n\t Albuquerque, NM & 2023 & 555391 & 308189.9 & 67907 & 39.2 &  4.337847\\\\\n\t Atlanta, GA     & 2005 & 388422 & 179505.7 & 39752 & 34.7 & 10.534444\\\\\n\t Atlanta, GA     & 2006 & 438135 & 186545.6 & 41612 & 35.0 & 10.190236\\\\\n\t Atlanta, GA     & 2007 & 425366 & 192300.5 & 47153 & 35.0 & 10.807414\\\\\n\t Atlanta, GA     & 2008 & 447703 & 191047.2 & 48865 & 35.7 & 11.776196\\\\\n\t Atlanta, GA     & 2009 & 532685 & 171838.8 & 49981 & 33.4 &  7.966137\\\\\n\t Atlanta, GA     & 2010 & 416670 & 152781.2 & 41631 & 33.2 &  6.696835\\\\\n\t Atlanta, GA     & 2011 & 427164 & 139138.9 & 43903 & 32.7 & 13.222761\\\\\n\t Atlanta, GA     & 2012 & 438201 & 125489.5 & 46466 & 33.1 & 14.661379\\\\\n\t Atlanta, GA     & 2013 & 441997 & 131061.1 & 46485 & 33.1 & 11.253640\\\\\n\t Atlanta, GA     & 2014 & 449800 & 154395.4 & 46777 & 33.5 & 10.482968\\\\\n\t Atlanta, GA     & 2015 & 460327 & 169023.9 & 50210 & 33.8 &  7.382863\\\\\n\t ⋮ & ⋮ & ⋮ & ⋮ & ⋮ & ⋮ & ⋮\\\\\n\t Washington, DC & 2013 & 636535 & 336099.6 &  67572 & 33.8 & 10.446569\\\\\n\t Washington, DC & 2014 & 648586 & 362697.9 &  71648 & 33.8 &  8.859504\\\\\n\t Washington, DC & 2015 & 663006 & 373022.7 &  75628 & 33.8 &  7.250638\\\\\n\t Washington, DC & 2016 & 672022 & 383018.4 &  75506 & 33.9 &  6.919595\\\\\n\t Washington, DC & 2017 & 684810 & 391994.5 &  82372 & 34.0 &  6.590778\\\\\n\t Washington, DC & 2018 & 693798 & 405671.3 &  85203 & 33.9 &  7.541190\\\\\n\t Washington, DC & 2019 & 697556 & 418772.4 &  92266 & 34.3 &  6.263807\\\\\n\t Washington, DC & 2020 & 693253 & 434866.2 &  90842 & 34.1 &  7.119626\\\\\n\t Washington, DC & 2021 & 661026 & 473189.9 &  90088 & 34.8 &  8.200761\\\\\n\t Washington, DC & 2022 & 660942 & 514291.0 & 101027 & 34.9 &  5.112622\\\\\n\t Washington, DC & 2023 & 670127 & 532275.5 & 108210 & 34.9 &  5.258939\\\\\n\t Wichita, KS    & 2005 & 347984 & 109902.9 &  40115 & 34.2 & 12.318049\\\\\n\t Wichita, KS    & 2006 & 351349 & 107354.1 &  41089 & 34.8 & 13.096823\\\\\n\t Wichita, KS    & 2007 & 355266 & 111378.1 &  42696 & 35.0 & 15.245344\\\\\n\t Wichita, KS    & 2008 & 358047 & 114261.8 &  44211 & 34.0 & 16.408939\\\\\n\t Wichita, KS    & 2009 & 364108 & 115047.3 &  44405 & 34.3 &  9.897806\\\\\n\t Wichita, KS    & 2010 & 378148 & 117629.0 &  42694 & 33.9 &  8.734963\\\\\n\t Wichita, KS    & 2011 & 379792 & 114371.6 &  44184 & 34.3 & 10.462393\\\\\n\t Wichita, KS    & 2012 & 380372 & 110632.7 &  43776 & 35.1 &  8.034788\\\\\n\t Wichita, KS    & 2013 & 380784 & 111972.3 &  43538 & 34.0 &  7.482116\\\\\n\t Wichita, KS    & 2014 & 382385 & 112149.6 &  45477 & 34.0 &  6.848021\\\\\n\t Wichita, KS    & 2015 & 383590 & 115130.5 &  46894 & 34.6 &  4.994331\\\\\n\t Wichita, KS    & 2016 & 385045 & 121298.5 &  49202 & 34.7 &  5.754310\\\\\n\t Wichita, KS    & 2017 & 385843 & 124458.6 &  50504 & 35.9 &  6.689720\\\\\n\t Wichita, KS    & 2018 & 382995 & 128795.6 &  51051 & 35.3 &  4.901292\\\\\n\t Wichita, KS    & 2019 & 384278 & 134578.1 &  55056 & 35.3 &  5.507219\\\\\n\t Wichita, KS    & 2020 & 385454 & 144699.0 &  53466 & 35.3 &  5.570981\\\\\n\t Wichita, KS    & 2021 & 390384 & 158485.9 &  56293 & 35.6 &  7.203338\\\\\n\t Wichita, KS    & 2022 & 393547 & 177256.4 &  59277 & 36.2 &  6.025616\\\\\n\t Wichita, KS    & 2023 & 392189 & 194398.3 &  61281 & 36.8 &  4.093885\\\\\n\\end{tabular}\n",
            "text/plain": [
              "    city            year geomobility housing_price income median_age\n",
              "1   Albuquerque, NM 2005 482442      153134.1      41820  35.8      \n",
              "2   Albuquerque, NM 2006 485982      170259.0      43021  35.3      \n",
              "3   Albuquerque, NM 2007 505490      193305.9      43677  35.2      \n",
              "4   Albuquerque, NM 2008 506706      200215.2      46437  35.5      \n",
              "5   Albuquerque, NM 2009 519532      187486.9      44594  34.0      \n",
              "6   Albuquerque, NM 2010 540574      180903.8      46079  35.2      \n",
              "7   Albuquerque, NM 2011 544579      171329.0      43606  35.5      \n",
              "8   Albuquerque, NM 2012 548340      164757.2      45373  35.3      \n",
              "9   Albuquerque, NM 2013 549629      163877.8      48357  35.8      \n",
              "10  Albuquerque, NM 2014 550317      166668.6      46433  35.7      \n",
              "11  Albuquerque, NM 2015 552275      169546.4      47096  36.0      \n",
              "12  Albuquerque, NM 2016 553849      176038.3      50522  36.5      \n",
              "13  Albuquerque, NM 2017 551049      183130.7      50456  37.0      \n",
              "14  Albuquerque, NM 2018 553759      189542.2      51099  37.2      \n",
              "15  Albuquerque, NM 2019 553804      198026.6      55567  37.3      \n",
              "16  Albuquerque, NM 2020 554784      212967.8      53936  37.1      \n",
              "17  Albuquerque, NM 2021 558997      241066.3      58512  38.9      \n",
              "18  Albuquerque, NM 2022 554890      280587.6      64757  38.4      \n",
              "19  Albuquerque, NM 2023 555391      308189.9      67907  39.2      \n",
              "20  Atlanta, GA     2005 388422      179505.7      39752  34.7      \n",
              "21  Atlanta, GA     2006 438135      186545.6      41612  35.0      \n",
              "22  Atlanta, GA     2007 425366      192300.5      47153  35.0      \n",
              "23  Atlanta, GA     2008 447703      191047.2      48865  35.7      \n",
              "24  Atlanta, GA     2009 532685      171838.8      49981  33.4      \n",
              "25  Atlanta, GA     2010 416670      152781.2      41631  33.2      \n",
              "26  Atlanta, GA     2011 427164      139138.9      43903  32.7      \n",
              "27  Atlanta, GA     2012 438201      125489.5      46466  33.1      \n",
              "28  Atlanta, GA     2013 441997      131061.1      46485  33.1      \n",
              "29  Atlanta, GA     2014 449800      154395.4      46777  33.5      \n",
              "30  Atlanta, GA     2015 460327      169023.9      50210  33.8      \n",
              "⋮   ⋮               ⋮    ⋮           ⋮             ⋮      ⋮         \n",
              "598 Washington, DC  2013 636535      336099.6       67572 33.8      \n",
              "599 Washington, DC  2014 648586      362697.9       71648 33.8      \n",
              "600 Washington, DC  2015 663006      373022.7       75628 33.8      \n",
              "601 Washington, DC  2016 672022      383018.4       75506 33.9      \n",
              "602 Washington, DC  2017 684810      391994.5       82372 34.0      \n",
              "603 Washington, DC  2018 693798      405671.3       85203 33.9      \n",
              "604 Washington, DC  2019 697556      418772.4       92266 34.3      \n",
              "605 Washington, DC  2020 693253      434866.2       90842 34.1      \n",
              "606 Washington, DC  2021 661026      473189.9       90088 34.8      \n",
              "607 Washington, DC  2022 660942      514291.0      101027 34.9      \n",
              "608 Washington, DC  2023 670127      532275.5      108210 34.9      \n",
              "609 Wichita, KS     2005 347984      109902.9       40115 34.2      \n",
              "610 Wichita, KS     2006 351349      107354.1       41089 34.8      \n",
              "611 Wichita, KS     2007 355266      111378.1       42696 35.0      \n",
              "612 Wichita, KS     2008 358047      114261.8       44211 34.0      \n",
              "613 Wichita, KS     2009 364108      115047.3       44405 34.3      \n",
              "614 Wichita, KS     2010 378148      117629.0       42694 33.9      \n",
              "615 Wichita, KS     2011 379792      114371.6       44184 34.3      \n",
              "616 Wichita, KS     2012 380372      110632.7       43776 35.1      \n",
              "617 Wichita, KS     2013 380784      111972.3       43538 34.0      \n",
              "618 Wichita, KS     2014 382385      112149.6       45477 34.0      \n",
              "619 Wichita, KS     2015 383590      115130.5       46894 34.6      \n",
              "620 Wichita, KS     2016 385045      121298.5       49202 34.7      \n",
              "621 Wichita, KS     2017 385843      124458.6       50504 35.9      \n",
              "622 Wichita, KS     2018 382995      128795.6       51051 35.3      \n",
              "623 Wichita, KS     2019 384278      134578.1       55056 35.3      \n",
              "624 Wichita, KS     2020 385454      144699.0       53466 35.3      \n",
              "625 Wichita, KS     2021 390384      158485.9       56293 35.6      \n",
              "626 Wichita, KS     2022 393547      177256.4       59277 36.2      \n",
              "627 Wichita, KS     2023 392189      194398.3       61281 36.8      \n",
              "    unemployment\n",
              "1   14.533702   \n",
              "2   18.786019   \n",
              "3   19.911130   \n",
              "4   19.150972   \n",
              "5   13.877965   \n",
              "6   12.436434   \n",
              "7   10.542100   \n",
              "8    8.817330   \n",
              "9    7.260191   \n",
              "10   8.308843   \n",
              "11   6.681222   \n",
              "12   5.212342   \n",
              "13   4.805098   \n",
              "14   5.734425   \n",
              "15   5.082790   \n",
              "16   5.594741   \n",
              "17   6.105605   \n",
              "18   4.188383   \n",
              "19   4.337847   \n",
              "20  10.534444   \n",
              "21  10.190236   \n",
              "22  10.807414   \n",
              "23  11.776196   \n",
              "24   7.966137   \n",
              "25   6.696835   \n",
              "26  13.222761   \n",
              "27  14.661379   \n",
              "28  11.253640   \n",
              "29  10.482968   \n",
              "30   7.382863   \n",
              "⋮   ⋮           \n",
              "598 10.446569   \n",
              "599  8.859504   \n",
              "600  7.250638   \n",
              "601  6.919595   \n",
              "602  6.590778   \n",
              "603  7.541190   \n",
              "604  6.263807   \n",
              "605  7.119626   \n",
              "606  8.200761   \n",
              "607  5.112622   \n",
              "608  5.258939   \n",
              "609 12.318049   \n",
              "610 13.096823   \n",
              "611 15.245344   \n",
              "612 16.408939   \n",
              "613  9.897806   \n",
              "614  8.734963   \n",
              "615 10.462393   \n",
              "616  8.034788   \n",
              "617  7.482116   \n",
              "618  6.848021   \n",
              "619  4.994331   \n",
              "620  5.754310   \n",
              "621  6.689720   \n",
              "622  4.901292   \n",
              "623  5.507219   \n",
              "624  5.570981   \n",
              "625  7.203338   \n",
              "626  6.025616   \n",
              "627  4.093885   "
            ]
          },
          "metadata": {}
        }
      ]
    },
    {
      "cell_type": "code",
      "source": [
        "truck <- read.csv(\"truckindex.csv\")"
      ],
      "metadata": {
        "id": "hgJ2HQGmZMOV"
      },
      "execution_count": 107,
      "outputs": []
    },
    {
      "cell_type": "code",
      "source": [
        "colnames(truck) = c('year', 'price_index')"
      ],
      "metadata": {
        "id": "_MVSo3mSZhPk"
      },
      "execution_count": 108,
      "outputs": []
    },
    {
      "cell_type": "code",
      "source": [
        "merged_data <- merge(merged_data, truck, by = 'year')"
      ],
      "metadata": {
        "id": "iSH2evK3ZPBX"
      },
      "execution_count": 109,
      "outputs": []
    },
    {
      "cell_type": "code",
      "source": [
        "merged_data"
      ],
      "metadata": {
        "colab": {
          "base_uri": "https://localhost:8080/",
          "height": 1000
        },
        "id": "7drVYqXZaNZ4",
        "outputId": "df244ee6-8bdb-4a4e-8cc1-07d06edebb31"
      },
      "execution_count": 110,
      "outputs": [
        {
          "output_type": "display_data",
          "data": {
            "text/html": [
              "<table class=\"dataframe\">\n",
              "<caption>A data.frame: 627 × 8</caption>\n",
              "<thead>\n",
              "\t<tr><th scope=col>year</th><th scope=col>city</th><th scope=col>geomobility</th><th scope=col>housing_price</th><th scope=col>income</th><th scope=col>median_age</th><th scope=col>unemployment</th><th scope=col>price_index</th></tr>\n",
              "\t<tr><th scope=col>&lt;int&gt;</th><th scope=col>&lt;chr&gt;</th><th scope=col>&lt;dbl&gt;</th><th scope=col>&lt;dbl&gt;</th><th scope=col>&lt;dbl&gt;</th><th scope=col>&lt;dbl&gt;</th><th scope=col>&lt;dbl&gt;</th><th scope=col>&lt;dbl&gt;</th></tr>\n",
              "</thead>\n",
              "<tbody>\n",
              "\t<tr><td>2005</td><td>Albuquerque, NM </td><td> 482442</td><td>153134.1</td><td>41820</td><td>35.8</td><td>14.533702</td><td>1.244</td></tr>\n",
              "\t<tr><td>2005</td><td>Milwaukee, WI   </td><td> 547275</td><td>201911.4</td><td>32666</td><td>31.8</td><td> 8.054780</td><td>1.244</td></tr>\n",
              "\t<tr><td>2005</td><td>Phoenix, AZ     </td><td>1354304</td><td>200405.1</td><td>42353</td><td>30.9</td><td>17.948402</td><td>1.244</td></tr>\n",
              "\t<tr><td>2005</td><td>Wichita, KS     </td><td> 347984</td><td>109902.9</td><td>40115</td><td>34.2</td><td>12.318049</td><td>1.244</td></tr>\n",
              "\t<tr><td>2005</td><td>Orlando, FL     </td><td> 216837</td><td>182152.5</td><td>36699</td><td>33.2</td><td>15.234550</td><td>1.244</td></tr>\n",
              "\t<tr><td>2005</td><td>Fresno, CA      </td><td> 468823</td><td>228079.7</td><td>37800</td><td>28.1</td><td>11.785306</td><td>1.244</td></tr>\n",
              "\t<tr><td>2005</td><td>Tulsa, OK       </td><td> 365149</td><td>119011.4</td><td>35966</td><td>35.3</td><td>14.075982</td><td>1.244</td></tr>\n",
              "\t<tr><td>2005</td><td>Minneapolis, MN </td><td> 344377</td><td>238437.5</td><td>41829</td><td>32.1</td><td>11.372941</td><td>1.244</td></tr>\n",
              "\t<tr><td>2005</td><td>Tampa, FL       </td><td> 307714</td><td>169048.3</td><td>38568</td><td>36.2</td><td>14.331608</td><td>1.244</td></tr>\n",
              "\t<tr><td>2005</td><td>Memphis, TN     </td><td> 630694</td><td>126389.1</td><td>33244</td><td>33.0</td><td> 9.374621</td><td>1.244</td></tr>\n",
              "\t<tr><td>2005</td><td>Sacramento, CA  </td><td> 438313</td><td>370444.2</td><td>44867</td><td>33.0</td><td>11.973465</td><td>1.244</td></tr>\n",
              "\t<tr><td>2005</td><td>Houston, TX     </td><td>1905895</td><td>143523.2</td><td>36894</td><td>32.3</td><td>10.978751</td><td>1.244</td></tr>\n",
              "\t<tr><td>2005</td><td>Cincinnati, OH  </td><td> 281470</td><td>152092.5</td><td>29554</td><td>33.3</td><td> 9.548108</td><td>1.244</td></tr>\n",
              "\t<tr><td>2005</td><td>Portland, OR    </td><td> 505427</td><td>224313.3</td><td>42287</td><td>36.4</td><td>12.636709</td><td>1.244</td></tr>\n",
              "\t<tr><td>2005</td><td>Tucson, AZ      </td><td> 497334</td><td>174185.1</td><td>34241</td><td>32.4</td><td>13.450424</td><td>1.244</td></tr>\n",
              "\t<tr><td>2005</td><td>Detroit, MI     </td><td> 823511</td><td>158142.2</td><td>28069</td><td>32.5</td><td> 4.870206</td><td>1.244</td></tr>\n",
              "\t<tr><td>2005</td><td>Seattle, WA     </td><td> 529917</td><td>299643.2</td><td>49297</td><td>36.8</td><td>15.637811</td><td>1.244</td></tr>\n",
              "\t<tr><td>2005</td><td>Jacksonville, FL</td><td> 757882</td><td>174047.4</td><td>44173</td><td>35.2</td><td>15.460328</td><td>1.244</td></tr>\n",
              "\t<tr><td>2005</td><td>Cleveland, OH   </td><td> 409774</td><td>142794.3</td><td>24105</td><td>35.3</td><td> 5.852770</td><td>1.244</td></tr>\n",
              "\t<tr><td>2005</td><td>Atlanta, GA     </td><td> 388422</td><td>179505.7</td><td>39752</td><td>34.7</td><td>10.534444</td><td>1.244</td></tr>\n",
              "\t<tr><td>2005</td><td>Columbus, OH    </td><td> 680756</td><td>151478.7</td><td>40405</td><td>32.1</td><td>12.674405</td><td>1.244</td></tr>\n",
              "\t<tr><td>2005</td><td>Pittsburgh, PA  </td><td> 281188</td><td>108481.2</td><td>30278</td><td>38.4</td><td> 9.562231</td><td>1.244</td></tr>\n",
              "\t<tr><td>2005</td><td>Denver, CO      </td><td> 530860</td><td>245011.2</td><td>42370</td><td>34.3</td><td>15.244506</td><td>1.244</td></tr>\n",
              "\t<tr><td>2005</td><td>Philadelphia, PA</td><td>1384092</td><td>199515.4</td><td>32573</td><td>35.3</td><td> 8.087786</td><td>1.244</td></tr>\n",
              "\t<tr><td>2005</td><td>Raleigh, NC     </td><td> 311788</td><td>192476.6</td><td>48131</td><td>32.6</td><td>17.215081</td><td>1.244</td></tr>\n",
              "\t<tr><td>2005</td><td>Washington, DC  </td><td> 505886</td><td>353870.3</td><td>47221</td><td>35.9</td><td>10.958860</td><td>1.244</td></tr>\n",
              "\t<tr><td>2005</td><td>Omaha, NE       </td><td> 367570</td><td>141894.6</td><td>40484</td><td>34.1</td><td>12.477583</td><td>1.244</td></tr>\n",
              "\t<tr><td>2005</td><td>Baltimore, MD   </td><td> 600543</td><td>240788.3</td><td>32456</td><td>35.7</td><td> 8.795519</td><td>1.244</td></tr>\n",
              "\t<tr><td>2005</td><td>Charlotte, NC   </td><td> 592140</td><td>158158.8</td><td>47131</td><td>33.8</td><td>12.053908</td><td>1.244</td></tr>\n",
              "\t<tr><td>2005</td><td>Dallas, TX      </td><td>1121138</td><td>147163.8</td><td>36403</td><td>31.9</td><td>11.630534</td><td>1.244</td></tr>\n",
              "\t<tr><td>⋮</td><td>⋮</td><td>⋮</td><td>⋮</td><td>⋮</td><td>⋮</td><td>⋮</td><td>⋮</td></tr>\n",
              "\t<tr><td>2023</td><td>Phoenix, AZ     </td><td>1634990</td><td>450270.7</td><td> 79664</td><td>34.9</td><td> 4.391317</td><td>1.1435</td></tr>\n",
              "\t<tr><td>2023</td><td>Seattle, WA     </td><td> 747884</td><td>700059.9</td><td>120608</td><td>35.6</td><td> 4.174967</td><td>1.1435</td></tr>\n",
              "\t<tr><td>2023</td><td>Tucson, AZ      </td><td> 541472</td><td>338931.8</td><td> 55708</td><td>35.6</td><td> 5.056840</td><td>1.1435</td></tr>\n",
              "\t<tr><td>2023</td><td>Fresno, CA      </td><td> 539014</td><td>375936.2</td><td> 67603</td><td>32.8</td><td> 7.001140</td><td>1.1435</td></tr>\n",
              "\t<tr><td>2023</td><td>Atlanta, GA     </td><td> 505496</td><td>366964.2</td><td> 85880</td><td>34.5</td><td> 5.678080</td><td>1.1435</td></tr>\n",
              "\t<tr><td>2023</td><td>Cincinnati, OH  </td><td> 307941</td><td>262513.4</td><td> 54314</td><td>34.1</td><td> 6.347012</td><td>1.1435</td></tr>\n",
              "\t<tr><td>2023</td><td>Denver, CO      </td><td> 708432</td><td>574911.9</td><td> 94157</td><td>35.4</td><td> 3.739818</td><td>1.1435</td></tr>\n",
              "\t<tr><td>2023</td><td>Philadelphia, PA</td><td>1530695</td><td>331912.1</td><td> 60302</td><td>35.6</td><td> 6.199517</td><td>1.1435</td></tr>\n",
              "\t<tr><td>2023</td><td>Columbus, OH    </td><td> 897432</td><td>290552.8</td><td> 62350</td><td>33.4</td><td> 4.388452</td><td>1.1435</td></tr>\n",
              "\t<tr><td>2023</td><td>Pittsburgh, PA  </td><td> 300292</td><td>201647.2</td><td> 66219</td><td>34.1</td><td> 4.922189</td><td>1.1435</td></tr>\n",
              "\t<tr><td>2023</td><td>Washington, DC  </td><td> 670127</td><td>532275.5</td><td>108210</td><td>34.9</td><td> 5.258939</td><td>1.1435</td></tr>\n",
              "\t<tr><td>2023</td><td>Portland, OR    </td><td> 624727</td><td>537346.1</td><td> 86057</td><td>39.4</td><td> 3.824145</td><td>1.1435</td></tr>\n",
              "\t<tr><td>2023</td><td>Milwaukee, WI   </td><td> 555962</td><td>309214.9</td><td> 52992</td><td>32.6</td><td> 5.107649</td><td>1.1435</td></tr>\n",
              "\t<tr><td>2023</td><td>Charlotte, NC   </td><td> 899656</td><td>364816.0</td><td> 80581</td><td>34.7</td><td> 3.527264</td><td>1.1435</td></tr>\n",
              "\t<tr><td>2023</td><td>Orlando, FL     </td><td> 316702</td><td>384214.2</td><td> 69414</td><td>35.3</td><td> 5.204005</td><td>1.1435</td></tr>\n",
              "\t<tr><td>2023</td><td>Baltimore, MD   </td><td> 558241</td><td>363343.5</td><td> 59579</td><td>36.5</td><td> 5.053969</td><td>1.1435</td></tr>\n",
              "\t<tr><td>2023</td><td>Cleveland, OH   </td><td> 358939</td><td>208352.3</td><td> 39041</td><td>36.3</td><td> 9.527910</td><td>1.1435</td></tr>\n",
              "\t<tr><td>2023</td><td>Raleigh, NC     </td><td> 477712</td><td>432802.0</td><td> 86309</td><td>34.9</td><td> 3.022151</td><td>1.1435</td></tr>\n",
              "\t<tr><td>2023</td><td>Minneapolis, MN </td><td> 419780</td><td>367720.6</td><td> 81001</td><td>33.3</td><td> 3.878292</td><td>1.1435</td></tr>\n",
              "\t<tr><td>2023</td><td>Chicago, IL     </td><td>2638357</td><td>295101.4</td><td> 74474</td><td>36.4</td><td> 6.440380</td><td>1.1435</td></tr>\n",
              "\t<tr><td>2023</td><td>Memphis, TN     </td><td> 609736</td><td>236680.9</td><td> 51399</td><td>33.9</td><td> 7.454731</td><td>1.1435</td></tr>\n",
              "\t<tr><td>2023</td><td>Boston, MA      </td><td> 645761</td><td>624716.6</td><td> 96931</td><td>33.7</td><td> 4.171435</td><td>1.1435</td></tr>\n",
              "\t<tr><td>2023</td><td>Houston, TX     </td><td>2276308</td><td>305667.7</td><td> 62637</td><td>34.5</td><td> 6.235925</td><td>1.1435</td></tr>\n",
              "\t<tr><td>2023</td><td>Austin, TX      </td><td> 970338</td><td>499571.6</td><td> 91501</td><td>34.9</td><td> 3.950272</td><td>1.1435</td></tr>\n",
              "\t<tr><td>2023</td><td>Omaha, NE       </td><td> 478300</td><td>269196.7</td><td> 71238</td><td>35.9</td><td> 3.267204</td><td>1.1435</td></tr>\n",
              "\t<tr><td>2023</td><td>Detroit, MI     </td><td> 625759</td><td>234553.5</td><td> 38080</td><td>35.2</td><td>10.694360</td><td>1.1435</td></tr>\n",
              "\t<tr><td>2023</td><td>Albuquerque, NM </td><td> 555391</td><td>308189.9</td><td> 67907</td><td>39.2</td><td> 4.337847</td><td>1.1435</td></tr>\n",
              "\t<tr><td>2023</td><td>Dallas, TX      </td><td>1287866</td><td>373400.8</td><td> 70121</td><td>33.5</td><td> 4.411595</td><td>1.1435</td></tr>\n",
              "\t<tr><td>2023</td><td>Jacksonville, FL</td><td> 974186</td><td>360611.5</td><td> 68069</td><td>36.9</td><td> 4.412098</td><td>1.1435</td></tr>\n",
              "\t<tr><td>2023</td><td>Wichita, KS     </td><td> 392189</td><td>194398.3</td><td> 61281</td><td>36.8</td><td> 4.093885</td><td>1.1435</td></tr>\n",
              "</tbody>\n",
              "</table>\n"
            ],
            "text/markdown": "\nA data.frame: 627 × 8\n\n| year &lt;int&gt; | city &lt;chr&gt; | geomobility &lt;dbl&gt; | housing_price &lt;dbl&gt; | income &lt;dbl&gt; | median_age &lt;dbl&gt; | unemployment &lt;dbl&gt; | price_index &lt;dbl&gt; |\n|---|---|---|---|---|---|---|---|\n| 2005 | Albuquerque, NM  |  482442 | 153134.1 | 41820 | 35.8 | 14.533702 | 1.244 |\n| 2005 | Milwaukee, WI    |  547275 | 201911.4 | 32666 | 31.8 |  8.054780 | 1.244 |\n| 2005 | Phoenix, AZ      | 1354304 | 200405.1 | 42353 | 30.9 | 17.948402 | 1.244 |\n| 2005 | Wichita, KS      |  347984 | 109902.9 | 40115 | 34.2 | 12.318049 | 1.244 |\n| 2005 | Orlando, FL      |  216837 | 182152.5 | 36699 | 33.2 | 15.234550 | 1.244 |\n| 2005 | Fresno, CA       |  468823 | 228079.7 | 37800 | 28.1 | 11.785306 | 1.244 |\n| 2005 | Tulsa, OK        |  365149 | 119011.4 | 35966 | 35.3 | 14.075982 | 1.244 |\n| 2005 | Minneapolis, MN  |  344377 | 238437.5 | 41829 | 32.1 | 11.372941 | 1.244 |\n| 2005 | Tampa, FL        |  307714 | 169048.3 | 38568 | 36.2 | 14.331608 | 1.244 |\n| 2005 | Memphis, TN      |  630694 | 126389.1 | 33244 | 33.0 |  9.374621 | 1.244 |\n| 2005 | Sacramento, CA   |  438313 | 370444.2 | 44867 | 33.0 | 11.973465 | 1.244 |\n| 2005 | Houston, TX      | 1905895 | 143523.2 | 36894 | 32.3 | 10.978751 | 1.244 |\n| 2005 | Cincinnati, OH   |  281470 | 152092.5 | 29554 | 33.3 |  9.548108 | 1.244 |\n| 2005 | Portland, OR     |  505427 | 224313.3 | 42287 | 36.4 | 12.636709 | 1.244 |\n| 2005 | Tucson, AZ       |  497334 | 174185.1 | 34241 | 32.4 | 13.450424 | 1.244 |\n| 2005 | Detroit, MI      |  823511 | 158142.2 | 28069 | 32.5 |  4.870206 | 1.244 |\n| 2005 | Seattle, WA      |  529917 | 299643.2 | 49297 | 36.8 | 15.637811 | 1.244 |\n| 2005 | Jacksonville, FL |  757882 | 174047.4 | 44173 | 35.2 | 15.460328 | 1.244 |\n| 2005 | Cleveland, OH    |  409774 | 142794.3 | 24105 | 35.3 |  5.852770 | 1.244 |\n| 2005 | Atlanta, GA      |  388422 | 179505.7 | 39752 | 34.7 | 10.534444 | 1.244 |\n| 2005 | Columbus, OH     |  680756 | 151478.7 | 40405 | 32.1 | 12.674405 | 1.244 |\n| 2005 | Pittsburgh, PA   |  281188 | 108481.2 | 30278 | 38.4 |  9.562231 | 1.244 |\n| 2005 | Denver, CO       |  530860 | 245011.2 | 42370 | 34.3 | 15.244506 | 1.244 |\n| 2005 | Philadelphia, PA | 1384092 | 199515.4 | 32573 | 35.3 |  8.087786 | 1.244 |\n| 2005 | Raleigh, NC      |  311788 | 192476.6 | 48131 | 32.6 | 17.215081 | 1.244 |\n| 2005 | Washington, DC   |  505886 | 353870.3 | 47221 | 35.9 | 10.958860 | 1.244 |\n| 2005 | Omaha, NE        |  367570 | 141894.6 | 40484 | 34.1 | 12.477583 | 1.244 |\n| 2005 | Baltimore, MD    |  600543 | 240788.3 | 32456 | 35.7 |  8.795519 | 1.244 |\n| 2005 | Charlotte, NC    |  592140 | 158158.8 | 47131 | 33.8 | 12.053908 | 1.244 |\n| 2005 | Dallas, TX       | 1121138 | 147163.8 | 36403 | 31.9 | 11.630534 | 1.244 |\n| ⋮ | ⋮ | ⋮ | ⋮ | ⋮ | ⋮ | ⋮ | ⋮ |\n| 2023 | Phoenix, AZ      | 1634990 | 450270.7 |  79664 | 34.9 |  4.391317 | 1.1435 |\n| 2023 | Seattle, WA      |  747884 | 700059.9 | 120608 | 35.6 |  4.174967 | 1.1435 |\n| 2023 | Tucson, AZ       |  541472 | 338931.8 |  55708 | 35.6 |  5.056840 | 1.1435 |\n| 2023 | Fresno, CA       |  539014 | 375936.2 |  67603 | 32.8 |  7.001140 | 1.1435 |\n| 2023 | Atlanta, GA      |  505496 | 366964.2 |  85880 | 34.5 |  5.678080 | 1.1435 |\n| 2023 | Cincinnati, OH   |  307941 | 262513.4 |  54314 | 34.1 |  6.347012 | 1.1435 |\n| 2023 | Denver, CO       |  708432 | 574911.9 |  94157 | 35.4 |  3.739818 | 1.1435 |\n| 2023 | Philadelphia, PA | 1530695 | 331912.1 |  60302 | 35.6 |  6.199517 | 1.1435 |\n| 2023 | Columbus, OH     |  897432 | 290552.8 |  62350 | 33.4 |  4.388452 | 1.1435 |\n| 2023 | Pittsburgh, PA   |  300292 | 201647.2 |  66219 | 34.1 |  4.922189 | 1.1435 |\n| 2023 | Washington, DC   |  670127 | 532275.5 | 108210 | 34.9 |  5.258939 | 1.1435 |\n| 2023 | Portland, OR     |  624727 | 537346.1 |  86057 | 39.4 |  3.824145 | 1.1435 |\n| 2023 | Milwaukee, WI    |  555962 | 309214.9 |  52992 | 32.6 |  5.107649 | 1.1435 |\n| 2023 | Charlotte, NC    |  899656 | 364816.0 |  80581 | 34.7 |  3.527264 | 1.1435 |\n| 2023 | Orlando, FL      |  316702 | 384214.2 |  69414 | 35.3 |  5.204005 | 1.1435 |\n| 2023 | Baltimore, MD    |  558241 | 363343.5 |  59579 | 36.5 |  5.053969 | 1.1435 |\n| 2023 | Cleveland, OH    |  358939 | 208352.3 |  39041 | 36.3 |  9.527910 | 1.1435 |\n| 2023 | Raleigh, NC      |  477712 | 432802.0 |  86309 | 34.9 |  3.022151 | 1.1435 |\n| 2023 | Minneapolis, MN  |  419780 | 367720.6 |  81001 | 33.3 |  3.878292 | 1.1435 |\n| 2023 | Chicago, IL      | 2638357 | 295101.4 |  74474 | 36.4 |  6.440380 | 1.1435 |\n| 2023 | Memphis, TN      |  609736 | 236680.9 |  51399 | 33.9 |  7.454731 | 1.1435 |\n| 2023 | Boston, MA       |  645761 | 624716.6 |  96931 | 33.7 |  4.171435 | 1.1435 |\n| 2023 | Houston, TX      | 2276308 | 305667.7 |  62637 | 34.5 |  6.235925 | 1.1435 |\n| 2023 | Austin, TX       |  970338 | 499571.6 |  91501 | 34.9 |  3.950272 | 1.1435 |\n| 2023 | Omaha, NE        |  478300 | 269196.7 |  71238 | 35.9 |  3.267204 | 1.1435 |\n| 2023 | Detroit, MI      |  625759 | 234553.5 |  38080 | 35.2 | 10.694360 | 1.1435 |\n| 2023 | Albuquerque, NM  |  555391 | 308189.9 |  67907 | 39.2 |  4.337847 | 1.1435 |\n| 2023 | Dallas, TX       | 1287866 | 373400.8 |  70121 | 33.5 |  4.411595 | 1.1435 |\n| 2023 | Jacksonville, FL |  974186 | 360611.5 |  68069 | 36.9 |  4.412098 | 1.1435 |\n| 2023 | Wichita, KS      |  392189 | 194398.3 |  61281 | 36.8 |  4.093885 | 1.1435 |\n\n",
            "text/latex": "A data.frame: 627 × 8\n\\begin{tabular}{llllllll}\n year & city & geomobility & housing\\_price & income & median\\_age & unemployment & price\\_index\\\\\n <int> & <chr> & <dbl> & <dbl> & <dbl> & <dbl> & <dbl> & <dbl>\\\\\n\\hline\n\t 2005 & Albuquerque, NM  &  482442 & 153134.1 & 41820 & 35.8 & 14.533702 & 1.244\\\\\n\t 2005 & Milwaukee, WI    &  547275 & 201911.4 & 32666 & 31.8 &  8.054780 & 1.244\\\\\n\t 2005 & Phoenix, AZ      & 1354304 & 200405.1 & 42353 & 30.9 & 17.948402 & 1.244\\\\\n\t 2005 & Wichita, KS      &  347984 & 109902.9 & 40115 & 34.2 & 12.318049 & 1.244\\\\\n\t 2005 & Orlando, FL      &  216837 & 182152.5 & 36699 & 33.2 & 15.234550 & 1.244\\\\\n\t 2005 & Fresno, CA       &  468823 & 228079.7 & 37800 & 28.1 & 11.785306 & 1.244\\\\\n\t 2005 & Tulsa, OK        &  365149 & 119011.4 & 35966 & 35.3 & 14.075982 & 1.244\\\\\n\t 2005 & Minneapolis, MN  &  344377 & 238437.5 & 41829 & 32.1 & 11.372941 & 1.244\\\\\n\t 2005 & Tampa, FL        &  307714 & 169048.3 & 38568 & 36.2 & 14.331608 & 1.244\\\\\n\t 2005 & Memphis, TN      &  630694 & 126389.1 & 33244 & 33.0 &  9.374621 & 1.244\\\\\n\t 2005 & Sacramento, CA   &  438313 & 370444.2 & 44867 & 33.0 & 11.973465 & 1.244\\\\\n\t 2005 & Houston, TX      & 1905895 & 143523.2 & 36894 & 32.3 & 10.978751 & 1.244\\\\\n\t 2005 & Cincinnati, OH   &  281470 & 152092.5 & 29554 & 33.3 &  9.548108 & 1.244\\\\\n\t 2005 & Portland, OR     &  505427 & 224313.3 & 42287 & 36.4 & 12.636709 & 1.244\\\\\n\t 2005 & Tucson, AZ       &  497334 & 174185.1 & 34241 & 32.4 & 13.450424 & 1.244\\\\\n\t 2005 & Detroit, MI      &  823511 & 158142.2 & 28069 & 32.5 &  4.870206 & 1.244\\\\\n\t 2005 & Seattle, WA      &  529917 & 299643.2 & 49297 & 36.8 & 15.637811 & 1.244\\\\\n\t 2005 & Jacksonville, FL &  757882 & 174047.4 & 44173 & 35.2 & 15.460328 & 1.244\\\\\n\t 2005 & Cleveland, OH    &  409774 & 142794.3 & 24105 & 35.3 &  5.852770 & 1.244\\\\\n\t 2005 & Atlanta, GA      &  388422 & 179505.7 & 39752 & 34.7 & 10.534444 & 1.244\\\\\n\t 2005 & Columbus, OH     &  680756 & 151478.7 & 40405 & 32.1 & 12.674405 & 1.244\\\\\n\t 2005 & Pittsburgh, PA   &  281188 & 108481.2 & 30278 & 38.4 &  9.562231 & 1.244\\\\\n\t 2005 & Denver, CO       &  530860 & 245011.2 & 42370 & 34.3 & 15.244506 & 1.244\\\\\n\t 2005 & Philadelphia, PA & 1384092 & 199515.4 & 32573 & 35.3 &  8.087786 & 1.244\\\\\n\t 2005 & Raleigh, NC      &  311788 & 192476.6 & 48131 & 32.6 & 17.215081 & 1.244\\\\\n\t 2005 & Washington, DC   &  505886 & 353870.3 & 47221 & 35.9 & 10.958860 & 1.244\\\\\n\t 2005 & Omaha, NE        &  367570 & 141894.6 & 40484 & 34.1 & 12.477583 & 1.244\\\\\n\t 2005 & Baltimore, MD    &  600543 & 240788.3 & 32456 & 35.7 &  8.795519 & 1.244\\\\\n\t 2005 & Charlotte, NC    &  592140 & 158158.8 & 47131 & 33.8 & 12.053908 & 1.244\\\\\n\t 2005 & Dallas, TX       & 1121138 & 147163.8 & 36403 & 31.9 & 11.630534 & 1.244\\\\\n\t ⋮ & ⋮ & ⋮ & ⋮ & ⋮ & ⋮ & ⋮ & ⋮\\\\\n\t 2023 & Phoenix, AZ      & 1634990 & 450270.7 &  79664 & 34.9 &  4.391317 & 1.1435\\\\\n\t 2023 & Seattle, WA      &  747884 & 700059.9 & 120608 & 35.6 &  4.174967 & 1.1435\\\\\n\t 2023 & Tucson, AZ       &  541472 & 338931.8 &  55708 & 35.6 &  5.056840 & 1.1435\\\\\n\t 2023 & Fresno, CA       &  539014 & 375936.2 &  67603 & 32.8 &  7.001140 & 1.1435\\\\\n\t 2023 & Atlanta, GA      &  505496 & 366964.2 &  85880 & 34.5 &  5.678080 & 1.1435\\\\\n\t 2023 & Cincinnati, OH   &  307941 & 262513.4 &  54314 & 34.1 &  6.347012 & 1.1435\\\\\n\t 2023 & Denver, CO       &  708432 & 574911.9 &  94157 & 35.4 &  3.739818 & 1.1435\\\\\n\t 2023 & Philadelphia, PA & 1530695 & 331912.1 &  60302 & 35.6 &  6.199517 & 1.1435\\\\\n\t 2023 & Columbus, OH     &  897432 & 290552.8 &  62350 & 33.4 &  4.388452 & 1.1435\\\\\n\t 2023 & Pittsburgh, PA   &  300292 & 201647.2 &  66219 & 34.1 &  4.922189 & 1.1435\\\\\n\t 2023 & Washington, DC   &  670127 & 532275.5 & 108210 & 34.9 &  5.258939 & 1.1435\\\\\n\t 2023 & Portland, OR     &  624727 & 537346.1 &  86057 & 39.4 &  3.824145 & 1.1435\\\\\n\t 2023 & Milwaukee, WI    &  555962 & 309214.9 &  52992 & 32.6 &  5.107649 & 1.1435\\\\\n\t 2023 & Charlotte, NC    &  899656 & 364816.0 &  80581 & 34.7 &  3.527264 & 1.1435\\\\\n\t 2023 & Orlando, FL      &  316702 & 384214.2 &  69414 & 35.3 &  5.204005 & 1.1435\\\\\n\t 2023 & Baltimore, MD    &  558241 & 363343.5 &  59579 & 36.5 &  5.053969 & 1.1435\\\\\n\t 2023 & Cleveland, OH    &  358939 & 208352.3 &  39041 & 36.3 &  9.527910 & 1.1435\\\\\n\t 2023 & Raleigh, NC      &  477712 & 432802.0 &  86309 & 34.9 &  3.022151 & 1.1435\\\\\n\t 2023 & Minneapolis, MN  &  419780 & 367720.6 &  81001 & 33.3 &  3.878292 & 1.1435\\\\\n\t 2023 & Chicago, IL      & 2638357 & 295101.4 &  74474 & 36.4 &  6.440380 & 1.1435\\\\\n\t 2023 & Memphis, TN      &  609736 & 236680.9 &  51399 & 33.9 &  7.454731 & 1.1435\\\\\n\t 2023 & Boston, MA       &  645761 & 624716.6 &  96931 & 33.7 &  4.171435 & 1.1435\\\\\n\t 2023 & Houston, TX      & 2276308 & 305667.7 &  62637 & 34.5 &  6.235925 & 1.1435\\\\\n\t 2023 & Austin, TX       &  970338 & 499571.6 &  91501 & 34.9 &  3.950272 & 1.1435\\\\\n\t 2023 & Omaha, NE        &  478300 & 269196.7 &  71238 & 35.9 &  3.267204 & 1.1435\\\\\n\t 2023 & Detroit, MI      &  625759 & 234553.5 &  38080 & 35.2 & 10.694360 & 1.1435\\\\\n\t 2023 & Albuquerque, NM  &  555391 & 308189.9 &  67907 & 39.2 &  4.337847 & 1.1435\\\\\n\t 2023 & Dallas, TX       & 1287866 & 373400.8 &  70121 & 33.5 &  4.411595 & 1.1435\\\\\n\t 2023 & Jacksonville, FL &  974186 & 360611.5 &  68069 & 36.9 &  4.412098 & 1.1435\\\\\n\t 2023 & Wichita, KS      &  392189 & 194398.3 &  61281 & 36.8 &  4.093885 & 1.1435\\\\\n\\end{tabular}\n",
            "text/plain": [
              "    year city             geomobility housing_price income median_age\n",
              "1   2005 Albuquerque, NM   482442     153134.1      41820  35.8      \n",
              "2   2005 Milwaukee, WI     547275     201911.4      32666  31.8      \n",
              "3   2005 Phoenix, AZ      1354304     200405.1      42353  30.9      \n",
              "4   2005 Wichita, KS       347984     109902.9      40115  34.2      \n",
              "5   2005 Orlando, FL       216837     182152.5      36699  33.2      \n",
              "6   2005 Fresno, CA        468823     228079.7      37800  28.1      \n",
              "7   2005 Tulsa, OK         365149     119011.4      35966  35.3      \n",
              "8   2005 Minneapolis, MN   344377     238437.5      41829  32.1      \n",
              "9   2005 Tampa, FL         307714     169048.3      38568  36.2      \n",
              "10  2005 Memphis, TN       630694     126389.1      33244  33.0      \n",
              "11  2005 Sacramento, CA    438313     370444.2      44867  33.0      \n",
              "12  2005 Houston, TX      1905895     143523.2      36894  32.3      \n",
              "13  2005 Cincinnati, OH    281470     152092.5      29554  33.3      \n",
              "14  2005 Portland, OR      505427     224313.3      42287  36.4      \n",
              "15  2005 Tucson, AZ        497334     174185.1      34241  32.4      \n",
              "16  2005 Detroit, MI       823511     158142.2      28069  32.5      \n",
              "17  2005 Seattle, WA       529917     299643.2      49297  36.8      \n",
              "18  2005 Jacksonville, FL  757882     174047.4      44173  35.2      \n",
              "19  2005 Cleveland, OH     409774     142794.3      24105  35.3      \n",
              "20  2005 Atlanta, GA       388422     179505.7      39752  34.7      \n",
              "21  2005 Columbus, OH      680756     151478.7      40405  32.1      \n",
              "22  2005 Pittsburgh, PA    281188     108481.2      30278  38.4      \n",
              "23  2005 Denver, CO        530860     245011.2      42370  34.3      \n",
              "24  2005 Philadelphia, PA 1384092     199515.4      32573  35.3      \n",
              "25  2005 Raleigh, NC       311788     192476.6      48131  32.6      \n",
              "26  2005 Washington, DC    505886     353870.3      47221  35.9      \n",
              "27  2005 Omaha, NE         367570     141894.6      40484  34.1      \n",
              "28  2005 Baltimore, MD     600543     240788.3      32456  35.7      \n",
              "29  2005 Charlotte, NC     592140     158158.8      47131  33.8      \n",
              "30  2005 Dallas, TX       1121138     147163.8      36403  31.9      \n",
              "⋮   ⋮    ⋮                ⋮           ⋮             ⋮      ⋮         \n",
              "598 2023 Phoenix, AZ      1634990     450270.7       79664 34.9      \n",
              "599 2023 Seattle, WA       747884     700059.9      120608 35.6      \n",
              "600 2023 Tucson, AZ        541472     338931.8       55708 35.6      \n",
              "601 2023 Fresno, CA        539014     375936.2       67603 32.8      \n",
              "602 2023 Atlanta, GA       505496     366964.2       85880 34.5      \n",
              "603 2023 Cincinnati, OH    307941     262513.4       54314 34.1      \n",
              "604 2023 Denver, CO        708432     574911.9       94157 35.4      \n",
              "605 2023 Philadelphia, PA 1530695     331912.1       60302 35.6      \n",
              "606 2023 Columbus, OH      897432     290552.8       62350 33.4      \n",
              "607 2023 Pittsburgh, PA    300292     201647.2       66219 34.1      \n",
              "608 2023 Washington, DC    670127     532275.5      108210 34.9      \n",
              "609 2023 Portland, OR      624727     537346.1       86057 39.4      \n",
              "610 2023 Milwaukee, WI     555962     309214.9       52992 32.6      \n",
              "611 2023 Charlotte, NC     899656     364816.0       80581 34.7      \n",
              "612 2023 Orlando, FL       316702     384214.2       69414 35.3      \n",
              "613 2023 Baltimore, MD     558241     363343.5       59579 36.5      \n",
              "614 2023 Cleveland, OH     358939     208352.3       39041 36.3      \n",
              "615 2023 Raleigh, NC       477712     432802.0       86309 34.9      \n",
              "616 2023 Minneapolis, MN   419780     367720.6       81001 33.3      \n",
              "617 2023 Chicago, IL      2638357     295101.4       74474 36.4      \n",
              "618 2023 Memphis, TN       609736     236680.9       51399 33.9      \n",
              "619 2023 Boston, MA        645761     624716.6       96931 33.7      \n",
              "620 2023 Houston, TX      2276308     305667.7       62637 34.5      \n",
              "621 2023 Austin, TX        970338     499571.6       91501 34.9      \n",
              "622 2023 Omaha, NE         478300     269196.7       71238 35.9      \n",
              "623 2023 Detroit, MI       625759     234553.5       38080 35.2      \n",
              "624 2023 Albuquerque, NM   555391     308189.9       67907 39.2      \n",
              "625 2023 Dallas, TX       1287866     373400.8       70121 33.5      \n",
              "626 2023 Jacksonville, FL  974186     360611.5       68069 36.9      \n",
              "627 2023 Wichita, KS       392189     194398.3       61281 36.8      \n",
              "    unemployment price_index\n",
              "1   14.533702    1.244      \n",
              "2    8.054780    1.244      \n",
              "3   17.948402    1.244      \n",
              "4   12.318049    1.244      \n",
              "5   15.234550    1.244      \n",
              "6   11.785306    1.244      \n",
              "7   14.075982    1.244      \n",
              "8   11.372941    1.244      \n",
              "9   14.331608    1.244      \n",
              "10   9.374621    1.244      \n",
              "11  11.973465    1.244      \n",
              "12  10.978751    1.244      \n",
              "13   9.548108    1.244      \n",
              "14  12.636709    1.244      \n",
              "15  13.450424    1.244      \n",
              "16   4.870206    1.244      \n",
              "17  15.637811    1.244      \n",
              "18  15.460328    1.244      \n",
              "19   5.852770    1.244      \n",
              "20  10.534444    1.244      \n",
              "21  12.674405    1.244      \n",
              "22   9.562231    1.244      \n",
              "23  15.244506    1.244      \n",
              "24   8.087786    1.244      \n",
              "25  17.215081    1.244      \n",
              "26  10.958860    1.244      \n",
              "27  12.477583    1.244      \n",
              "28   8.795519    1.244      \n",
              "29  12.053908    1.244      \n",
              "30  11.630534    1.244      \n",
              "⋮   ⋮            ⋮          \n",
              "598  4.391317    1.1435     \n",
              "599  4.174967    1.1435     \n",
              "600  5.056840    1.1435     \n",
              "601  7.001140    1.1435     \n",
              "602  5.678080    1.1435     \n",
              "603  6.347012    1.1435     \n",
              "604  3.739818    1.1435     \n",
              "605  6.199517    1.1435     \n",
              "606  4.388452    1.1435     \n",
              "607  4.922189    1.1435     \n",
              "608  5.258939    1.1435     \n",
              "609  3.824145    1.1435     \n",
              "610  5.107649    1.1435     \n",
              "611  3.527264    1.1435     \n",
              "612  5.204005    1.1435     \n",
              "613  5.053969    1.1435     \n",
              "614  9.527910    1.1435     \n",
              "615  3.022151    1.1435     \n",
              "616  3.878292    1.1435     \n",
              "617  6.440380    1.1435     \n",
              "618  7.454731    1.1435     \n",
              "619  4.171435    1.1435     \n",
              "620  6.235925    1.1435     \n",
              "621  3.950272    1.1435     \n",
              "622  3.267204    1.1435     \n",
              "623 10.694360    1.1435     \n",
              "624  4.337847    1.1435     \n",
              "625  4.411595    1.1435     \n",
              "626  4.412098    1.1435     \n",
              "627  4.093885    1.1435     "
            ]
          },
          "metadata": {}
        }
      ]
    },
    {
      "cell_type": "code",
      "source": [
        "write.csv(merged_data, \"merged_data.csv\")"
      ],
      "metadata": {
        "id": "PsGwyTT6eLwy"
      },
      "execution_count": 111,
      "outputs": []
    },
    {
      "cell_type": "code",
      "source": [
        "str(merged_data)"
      ],
      "metadata": {
        "colab": {
          "base_uri": "https://localhost:8080/"
        },
        "id": "Iwnn2H2AuCjP",
        "outputId": "7e74e449-8e3c-4d06-b550-046d962e0950"
      },
      "execution_count": 112,
      "outputs": [
        {
          "output_type": "stream",
          "name": "stdout",
          "text": [
            "'data.frame':\t627 obs. of  8 variables:\n",
            " $ year         : int  2005 2005 2005 2005 2005 2005 2005 2005 2005 2005 ...\n",
            " $ city         : chr  \"Albuquerque, NM\" \"Milwaukee, WI\" \"Phoenix, AZ\" \"Wichita, KS\" ...\n",
            " $ geomobility  : num  482442 547275 1354304 347984 216837 ...\n",
            " $ housing_price: num  153134 201911 200405 109903 182153 ...\n",
            " $ income       : num  41820 32666 42353 40115 36699 ...\n",
            " $ median_age   : num  35.8 31.8 30.9 34.2 33.2 28.1 35.3 32.1 36.2 33 ...\n",
            " $ unemployment : num  14.53 8.05 17.95 12.32 15.23 ...\n",
            " $ price_index  : num  1.24 1.24 1.24 1.24 1.24 ...\n"
          ]
        }
      ]
    }
  ]
}