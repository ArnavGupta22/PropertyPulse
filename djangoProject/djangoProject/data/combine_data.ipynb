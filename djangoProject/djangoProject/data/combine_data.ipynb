{
  "nbformat": 4,
  "nbformat_minor": 0,
  "metadata": {
    "colab": {
      "provenance": []
    },
    "kernelspec": {
      "name": "ir",
      "display_name": "R"
    },
    "language_info": {
      "name": "R"
    }
  },
  "cells": [
    {
      "cell_type": "code",
      "execution_count": 47,
      "metadata": {
        "id": "J2e6SjYiQgP-"
      },
      "outputs": [],
      "source": [
        "library(tidyverse)"
      ]
    },
    {
      "cell_type": "code",
      "source": [
        "geo <- read.csv(\"geomobility_57cities.csv\")\n",
        "price <- read.csv(\"houseprice_57cities.csv\")\n",
        "income <- read.csv(\"income_57cities.csv\")\n",
        "age <- read.csv(\"medianage_57cities.csv\")\n",
        "unemployment <- read.csv(\"unemployment_57cities.csv\")"
      ],
      "metadata": {
        "id": "37BXeT1qUMwS"
      },
      "execution_count": 52,
      "outputs": []
    },
    {
      "cell_type": "code",
      "source": [
        "geo <- select(geo, -X)\n",
        "price <- select(price, -X, -X2020.1)\n",
        "income <- select(income, -X)\n",
        "age <- select(age, -X)\n",
        "unemployment <- select(unemployment, -X)"
      ],
      "metadata": {
        "id": "TZNvUWehUgFM"
      },
      "execution_count": 53,
      "outputs": []
    },
    {
      "cell_type": "code",
      "source": [
        "colnames(geo) <- c('city', '2005','2006','2007','2008','2009','2010','2011','2012','2013','2014','2015', '2016', '2017', '2018', '2019', '2020', '2021', '2022', '2023')\n",
        "colnames(price) <- c('city', '2005','2006','2007','2008','2009','2010','2011','2012','2013','2014','2015', '2016', '2017', '2018', '2019', '2020', '2021', '2022', '2023')\n",
        "colnames(income) <- c('city', '2005','2006','2007','2008','2009','2010','2011','2012','2013','2014','2015', '2016', '2017', '2018', '2019', '2020', '2021', '2022', '2023')\n",
        "colnames(age) <- c('city', '2005','2006','2007','2008','2009','2010','2011','2012','2013','2014','2015', '2016', '2017', '2018', '2019', '2020', '2021', '2022', '2023')\n",
        "colnames(unemployment) <- c('city', '2005','2006','2007','2008','2009','2010','2011','2012','2013','2014','2015', '2016', '2017', '2018', '2019', '2020', '2021', '2022', '2023')"
      ],
      "metadata": {
        "id": "UCyx93BTXDDW"
      },
      "execution_count": 56,
      "outputs": []
    },
    {
      "cell_type": "code",
      "source": [
        "geo <- pivot_longer(geo, cols = c('2005','2006','2007','2008','2009','2010','2011','2012','2013','2014','2015', '2016', '2017', '2018', '2019', '2020', '2021', '2022', '2023'), names_to = \"year\", values_to = \"geo\")\n",
        "price <- pivot_longer(price, cols = c('2005','2006','2007','2008','2009','2010','2011','2012','2013','2014','2015', '2016', '2017', '2018', '2019', '2020', '2021', '2022', '2023'), names_to = \"year\", values_to = \"price\")\n",
        "income <- pivot_longer(income, cols = c('2005','2006','2007','2008','2009','2010','2011','2012','2013','2014','2015', '2016', '2017', '2018', '2019', '2020', '2021', '2022', '2023'), names_to = \"year\", values_to = \"income\")\n",
        "age <- pivot_longer(age, cols = c('2005','2006','2007','2008','2009','2010','2011','2012','2013','2014','2015', '2016', '2017', '2018', '2019', '2020', '2021', '2022', '2023'), names_to = \"year\", values_to = \"age\")\n",
        "unemployment <- pivot_longer(unemployment, cols = c('2005','2006','2007','2008','2009','2010','2011','2012','2013','2014','2015', '2016', '2017', '2018', '2019', '2020', '2021', '2022', '2023'), names_to = \"year\", values_to = \"unemployment\")"
      ],
      "metadata": {
        "id": "O_E0v3k8VP8V"
      },
      "execution_count": 57,
      "outputs": []
    },
    {
      "cell_type": "code",
      "source": [
        "geo$year = as.integer(geo$year)\n",
        "price$year = as.integer(price$year)\n",
        "income$year = as.integer(income$year)\n",
        "age$year = as.integer(age$year)\n",
        "unemployment$year = as.integer(unemployment$year)"
      ],
      "metadata": {
        "id": "5OPE3uXjZoTG"
      },
      "execution_count": 58,
      "outputs": []
    },
    {
      "cell_type": "code",
      "source": [
        "head(geo)\n",
        "head(price)\n",
        "head(income)\n",
        "head(age)\n",
        "head(unemployment)"
      ],
      "metadata": {
        "colab": {
          "base_uri": "https://localhost:8080/",
          "height": 1000
        },
        "id": "uu9j-n2SUvlS",
        "outputId": "0aa9e15c-a4c1-4c90-c7ee-1b04e1210dc6"
      },
      "execution_count": 59,
      "outputs": [
        {
          "output_type": "display_data",
          "data": {
            "text/html": [
              "<table class=\"dataframe\">\n",
              "<caption>A tibble: 6 × 3</caption>\n",
              "<thead>\n",
              "\t<tr><th scope=col>city</th><th scope=col>year</th><th scope=col>geo</th></tr>\n",
              "\t<tr><th scope=col>&lt;chr&gt;</th><th scope=col>&lt;int&gt;</th><th scope=col>&lt;dbl&gt;</th></tr>\n",
              "</thead>\n",
              "<tbody>\n",
              "\t<tr><td>Albuquerque, NM</td><td>2005</td><td>482442</td></tr>\n",
              "\t<tr><td>Albuquerque, NM</td><td>2006</td><td>485982</td></tr>\n",
              "\t<tr><td>Albuquerque, NM</td><td>2007</td><td>505490</td></tr>\n",
              "\t<tr><td>Albuquerque, NM</td><td>2008</td><td>506706</td></tr>\n",
              "\t<tr><td>Albuquerque, NM</td><td>2009</td><td>519532</td></tr>\n",
              "\t<tr><td>Albuquerque, NM</td><td>2010</td><td>540574</td></tr>\n",
              "</tbody>\n",
              "</table>\n"
            ],
            "text/markdown": "\nA tibble: 6 × 3\n\n| city &lt;chr&gt; | year &lt;int&gt; | geo &lt;dbl&gt; |\n|---|---|---|\n| Albuquerque, NM | 2005 | 482442 |\n| Albuquerque, NM | 2006 | 485982 |\n| Albuquerque, NM | 2007 | 505490 |\n| Albuquerque, NM | 2008 | 506706 |\n| Albuquerque, NM | 2009 | 519532 |\n| Albuquerque, NM | 2010 | 540574 |\n\n",
            "text/latex": "A tibble: 6 × 3\n\\begin{tabular}{lll}\n city & year & geo\\\\\n <chr> & <int> & <dbl>\\\\\n\\hline\n\t Albuquerque, NM & 2005 & 482442\\\\\n\t Albuquerque, NM & 2006 & 485982\\\\\n\t Albuquerque, NM & 2007 & 505490\\\\\n\t Albuquerque, NM & 2008 & 506706\\\\\n\t Albuquerque, NM & 2009 & 519532\\\\\n\t Albuquerque, NM & 2010 & 540574\\\\\n\\end{tabular}\n",
            "text/plain": [
              "  city            year geo   \n",
              "1 Albuquerque, NM 2005 482442\n",
              "2 Albuquerque, NM 2006 485982\n",
              "3 Albuquerque, NM 2007 505490\n",
              "4 Albuquerque, NM 2008 506706\n",
              "5 Albuquerque, NM 2009 519532\n",
              "6 Albuquerque, NM 2010 540574"
            ]
          },
          "metadata": {}
        },
        {
          "output_type": "display_data",
          "data": {
            "text/html": [
              "<table class=\"dataframe\">\n",
              "<caption>A tibble: 6 × 3</caption>\n",
              "<thead>\n",
              "\t<tr><th scope=col>city</th><th scope=col>year</th><th scope=col>price</th></tr>\n",
              "\t<tr><th scope=col>&lt;chr&gt;</th><th scope=col>&lt;int&gt;</th><th scope=col>&lt;dbl&gt;</th></tr>\n",
              "</thead>\n",
              "<tbody>\n",
              "\t<tr><td>Albuquerque, NM</td><td>2005</td><td>153134.1</td></tr>\n",
              "\t<tr><td>Albuquerque, NM</td><td>2006</td><td>170259.0</td></tr>\n",
              "\t<tr><td>Albuquerque, NM</td><td>2007</td><td>193305.9</td></tr>\n",
              "\t<tr><td>Albuquerque, NM</td><td>2008</td><td>200215.2</td></tr>\n",
              "\t<tr><td>Albuquerque, NM</td><td>2009</td><td>187486.9</td></tr>\n",
              "\t<tr><td>Albuquerque, NM</td><td>2010</td><td>180903.8</td></tr>\n",
              "</tbody>\n",
              "</table>\n"
            ],
            "text/markdown": "\nA tibble: 6 × 3\n\n| city &lt;chr&gt; | year &lt;int&gt; | price &lt;dbl&gt; |\n|---|---|---|\n| Albuquerque, NM | 2005 | 153134.1 |\n| Albuquerque, NM | 2006 | 170259.0 |\n| Albuquerque, NM | 2007 | 193305.9 |\n| Albuquerque, NM | 2008 | 200215.2 |\n| Albuquerque, NM | 2009 | 187486.9 |\n| Albuquerque, NM | 2010 | 180903.8 |\n\n",
            "text/latex": "A tibble: 6 × 3\n\\begin{tabular}{lll}\n city & year & price\\\\\n <chr> & <int> & <dbl>\\\\\n\\hline\n\t Albuquerque, NM & 2005 & 153134.1\\\\\n\t Albuquerque, NM & 2006 & 170259.0\\\\\n\t Albuquerque, NM & 2007 & 193305.9\\\\\n\t Albuquerque, NM & 2008 & 200215.2\\\\\n\t Albuquerque, NM & 2009 & 187486.9\\\\\n\t Albuquerque, NM & 2010 & 180903.8\\\\\n\\end{tabular}\n",
            "text/plain": [
              "  city            year price   \n",
              "1 Albuquerque, NM 2005 153134.1\n",
              "2 Albuquerque, NM 2006 170259.0\n",
              "3 Albuquerque, NM 2007 193305.9\n",
              "4 Albuquerque, NM 2008 200215.2\n",
              "5 Albuquerque, NM 2009 187486.9\n",
              "6 Albuquerque, NM 2010 180903.8"
            ]
          },
          "metadata": {}
        },
        {
          "output_type": "display_data",
          "data": {
            "text/html": [
              "<table class=\"dataframe\">\n",
              "<caption>A tibble: 6 × 3</caption>\n",
              "<thead>\n",
              "\t<tr><th scope=col>city</th><th scope=col>year</th><th scope=col>income</th></tr>\n",
              "\t<tr><th scope=col>&lt;chr&gt;</th><th scope=col>&lt;int&gt;</th><th scope=col>&lt;dbl&gt;</th></tr>\n",
              "</thead>\n",
              "<tbody>\n",
              "\t<tr><td>Albuquerque, NM</td><td>2005</td><td>41820</td></tr>\n",
              "\t<tr><td>Albuquerque, NM</td><td>2006</td><td>43021</td></tr>\n",
              "\t<tr><td>Albuquerque, NM</td><td>2007</td><td>43677</td></tr>\n",
              "\t<tr><td>Albuquerque, NM</td><td>2008</td><td>46437</td></tr>\n",
              "\t<tr><td>Albuquerque, NM</td><td>2009</td><td>44594</td></tr>\n",
              "\t<tr><td>Albuquerque, NM</td><td>2010</td><td>46079</td></tr>\n",
              "</tbody>\n",
              "</table>\n"
            ],
            "text/markdown": "\nA tibble: 6 × 3\n\n| city &lt;chr&gt; | year &lt;int&gt; | income &lt;dbl&gt; |\n|---|---|---|\n| Albuquerque, NM | 2005 | 41820 |\n| Albuquerque, NM | 2006 | 43021 |\n| Albuquerque, NM | 2007 | 43677 |\n| Albuquerque, NM | 2008 | 46437 |\n| Albuquerque, NM | 2009 | 44594 |\n| Albuquerque, NM | 2010 | 46079 |\n\n",
            "text/latex": "A tibble: 6 × 3\n\\begin{tabular}{lll}\n city & year & income\\\\\n <chr> & <int> & <dbl>\\\\\n\\hline\n\t Albuquerque, NM & 2005 & 41820\\\\\n\t Albuquerque, NM & 2006 & 43021\\\\\n\t Albuquerque, NM & 2007 & 43677\\\\\n\t Albuquerque, NM & 2008 & 46437\\\\\n\t Albuquerque, NM & 2009 & 44594\\\\\n\t Albuquerque, NM & 2010 & 46079\\\\\n\\end{tabular}\n",
            "text/plain": [
              "  city            year income\n",
              "1 Albuquerque, NM 2005 41820 \n",
              "2 Albuquerque, NM 2006 43021 \n",
              "3 Albuquerque, NM 2007 43677 \n",
              "4 Albuquerque, NM 2008 46437 \n",
              "5 Albuquerque, NM 2009 44594 \n",
              "6 Albuquerque, NM 2010 46079 "
            ]
          },
          "metadata": {}
        },
        {
          "output_type": "display_data",
          "data": {
            "text/html": [
              "<table class=\"dataframe\">\n",
              "<caption>A tibble: 6 × 3</caption>\n",
              "<thead>\n",
              "\t<tr><th scope=col>city</th><th scope=col>year</th><th scope=col>age</th></tr>\n",
              "\t<tr><th scope=col>&lt;chr&gt;</th><th scope=col>&lt;int&gt;</th><th scope=col>&lt;dbl&gt;</th></tr>\n",
              "</thead>\n",
              "<tbody>\n",
              "\t<tr><td>Albuquerque, NM</td><td>2005</td><td>35.8</td></tr>\n",
              "\t<tr><td>Albuquerque, NM</td><td>2006</td><td>35.3</td></tr>\n",
              "\t<tr><td>Albuquerque, NM</td><td>2007</td><td>35.2</td></tr>\n",
              "\t<tr><td>Albuquerque, NM</td><td>2008</td><td>35.5</td></tr>\n",
              "\t<tr><td>Albuquerque, NM</td><td>2009</td><td>34.0</td></tr>\n",
              "\t<tr><td>Albuquerque, NM</td><td>2010</td><td>35.2</td></tr>\n",
              "</tbody>\n",
              "</table>\n"
            ],
            "text/markdown": "\nA tibble: 6 × 3\n\n| city &lt;chr&gt; | year &lt;int&gt; | age &lt;dbl&gt; |\n|---|---|---|\n| Albuquerque, NM | 2005 | 35.8 |\n| Albuquerque, NM | 2006 | 35.3 |\n| Albuquerque, NM | 2007 | 35.2 |\n| Albuquerque, NM | 2008 | 35.5 |\n| Albuquerque, NM | 2009 | 34.0 |\n| Albuquerque, NM | 2010 | 35.2 |\n\n",
            "text/latex": "A tibble: 6 × 3\n\\begin{tabular}{lll}\n city & year & age\\\\\n <chr> & <int> & <dbl>\\\\\n\\hline\n\t Albuquerque, NM & 2005 & 35.8\\\\\n\t Albuquerque, NM & 2006 & 35.3\\\\\n\t Albuquerque, NM & 2007 & 35.2\\\\\n\t Albuquerque, NM & 2008 & 35.5\\\\\n\t Albuquerque, NM & 2009 & 34.0\\\\\n\t Albuquerque, NM & 2010 & 35.2\\\\\n\\end{tabular}\n",
            "text/plain": [
              "  city            year age \n",
              "1 Albuquerque, NM 2005 35.8\n",
              "2 Albuquerque, NM 2006 35.3\n",
              "3 Albuquerque, NM 2007 35.2\n",
              "4 Albuquerque, NM 2008 35.5\n",
              "5 Albuquerque, NM 2009 34.0\n",
              "6 Albuquerque, NM 2010 35.2"
            ]
          },
          "metadata": {}
        },
        {
          "output_type": "display_data",
          "data": {
            "text/html": [
              "<table class=\"dataframe\">\n",
              "<caption>A tibble: 6 × 3</caption>\n",
              "<thead>\n",
              "\t<tr><th scope=col>city</th><th scope=col>year</th><th scope=col>unemployment</th></tr>\n",
              "\t<tr><th scope=col>&lt;chr&gt;</th><th scope=col>&lt;int&gt;</th><th scope=col>&lt;dbl&gt;</th></tr>\n",
              "</thead>\n",
              "<tbody>\n",
              "\t<tr><td>Albuquerque, NM</td><td>2005</td><td>14.53370</td></tr>\n",
              "\t<tr><td>Albuquerque, NM</td><td>2006</td><td>18.78602</td></tr>\n",
              "\t<tr><td>Albuquerque, NM</td><td>2007</td><td>19.91113</td></tr>\n",
              "\t<tr><td>Albuquerque, NM</td><td>2008</td><td>19.15097</td></tr>\n",
              "\t<tr><td>Albuquerque, NM</td><td>2009</td><td>13.87797</td></tr>\n",
              "\t<tr><td>Albuquerque, NM</td><td>2010</td><td>12.43643</td></tr>\n",
              "</tbody>\n",
              "</table>\n"
            ],
            "text/markdown": "\nA tibble: 6 × 3\n\n| city &lt;chr&gt; | year &lt;int&gt; | unemployment &lt;dbl&gt; |\n|---|---|---|\n| Albuquerque, NM | 2005 | 14.53370 |\n| Albuquerque, NM | 2006 | 18.78602 |\n| Albuquerque, NM | 2007 | 19.91113 |\n| Albuquerque, NM | 2008 | 19.15097 |\n| Albuquerque, NM | 2009 | 13.87797 |\n| Albuquerque, NM | 2010 | 12.43643 |\n\n",
            "text/latex": "A tibble: 6 × 3\n\\begin{tabular}{lll}\n city & year & unemployment\\\\\n <chr> & <int> & <dbl>\\\\\n\\hline\n\t Albuquerque, NM & 2005 & 14.53370\\\\\n\t Albuquerque, NM & 2006 & 18.78602\\\\\n\t Albuquerque, NM & 2007 & 19.91113\\\\\n\t Albuquerque, NM & 2008 & 19.15097\\\\\n\t Albuquerque, NM & 2009 & 13.87797\\\\\n\t Albuquerque, NM & 2010 & 12.43643\\\\\n\\end{tabular}\n",
            "text/plain": [
              "  city            year unemployment\n",
              "1 Albuquerque, NM 2005 14.53370    \n",
              "2 Albuquerque, NM 2006 18.78602    \n",
              "3 Albuquerque, NM 2007 19.91113    \n",
              "4 Albuquerque, NM 2008 19.15097    \n",
              "5 Albuquerque, NM 2009 13.87797    \n",
              "6 Albuquerque, NM 2010 12.43643    "
            ]
          },
          "metadata": {}
        }
      ]
    },
    {
      "cell_type": "code",
      "source": [
        "df_list <- list(geo, price, income, age, unemployment)\n",
        "merged_data <- Reduce(function(x, y) merge(x, y, by = c('city', 'year')), df_list)"
      ],
      "metadata": {
        "id": "yiQ_6lViaJm6"
      },
      "execution_count": 61,
      "outputs": []
    },
    {
      "cell_type": "code",
      "source": [
        "colnames(merged_data) = c('city', 'year', 'geomobility', 'housing_price', 'income', 'median_age', 'unemployment')"
      ],
      "metadata": {
        "id": "9emmI5l1aua2"
      },
      "execution_count": 62,
      "outputs": []
    },
    {
      "cell_type": "code",
      "source": [
        "merged_data"
      ],
      "metadata": {
        "colab": {
          "base_uri": "https://localhost:8080/",
          "height": 1000
        },
        "id": "U4C_Y2iieI9n",
        "outputId": "79c1557c-dd7e-439a-b4b4-c27122b09f16"
      },
      "execution_count": 63,
      "outputs": [
        {
          "output_type": "display_data",
          "data": {
            "text/html": [
              "<table class=\"dataframe\">\n",
              "<caption>A data.frame: 912 × 7</caption>\n",
              "<thead>\n",
              "\t<tr><th scope=col>city</th><th scope=col>year</th><th scope=col>geomobility</th><th scope=col>housing_price</th><th scope=col>income</th><th scope=col>median_age</th><th scope=col>unemployment</th></tr>\n",
              "\t<tr><th scope=col>&lt;chr&gt;</th><th scope=col>&lt;int&gt;</th><th scope=col>&lt;dbl&gt;</th><th scope=col>&lt;dbl&gt;</th><th scope=col>&lt;dbl&gt;</th><th scope=col>&lt;dbl&gt;</th><th scope=col>&lt;dbl&gt;</th></tr>\n",
              "</thead>\n",
              "<tbody>\n",
              "\t<tr><td>Albuquerque, NM</td><td>2005</td><td>482442</td><td>153134.1</td><td>41820</td><td>35.8</td><td>14.533702</td></tr>\n",
              "\t<tr><td>Albuquerque, NM</td><td>2006</td><td>485982</td><td>170259.0</td><td>43021</td><td>35.3</td><td>18.786019</td></tr>\n",
              "\t<tr><td>Albuquerque, NM</td><td>2007</td><td>505490</td><td>193305.9</td><td>43677</td><td>35.2</td><td>19.911130</td></tr>\n",
              "\t<tr><td>Albuquerque, NM</td><td>2008</td><td>506706</td><td>200215.2</td><td>46437</td><td>35.5</td><td>19.150972</td></tr>\n",
              "\t<tr><td>Albuquerque, NM</td><td>2009</td><td>519532</td><td>187486.9</td><td>44594</td><td>34.0</td><td>13.877965</td></tr>\n",
              "\t<tr><td>Albuquerque, NM</td><td>2010</td><td>540574</td><td>180903.8</td><td>46079</td><td>35.2</td><td>12.436434</td></tr>\n",
              "\t<tr><td>Albuquerque, NM</td><td>2011</td><td>544579</td><td>171329.0</td><td>43606</td><td>35.5</td><td>10.542100</td></tr>\n",
              "\t<tr><td>Albuquerque, NM</td><td>2012</td><td>548340</td><td>164757.2</td><td>45373</td><td>35.3</td><td> 8.817330</td></tr>\n",
              "\t<tr><td>Albuquerque, NM</td><td>2013</td><td>549629</td><td>163877.8</td><td>48357</td><td>35.8</td><td> 7.260191</td></tr>\n",
              "\t<tr><td>Albuquerque, NM</td><td>2014</td><td>550317</td><td>166668.6</td><td>46433</td><td>35.7</td><td> 8.308843</td></tr>\n",
              "\t<tr><td>Albuquerque, NM</td><td>2015</td><td>552275</td><td>169546.4</td><td>47096</td><td>36.0</td><td> 6.681222</td></tr>\n",
              "\t<tr><td>Albuquerque, NM</td><td>2016</td><td>553849</td><td>176038.3</td><td>50522</td><td>36.5</td><td> 5.212342</td></tr>\n",
              "\t<tr><td>Albuquerque, NM</td><td>2017</td><td>551049</td><td>183130.7</td><td>50456</td><td>37.0</td><td> 4.805098</td></tr>\n",
              "\t<tr><td>Albuquerque, NM</td><td>2018</td><td>553759</td><td>189542.2</td><td>51099</td><td>37.2</td><td> 5.734425</td></tr>\n",
              "\t<tr><td>Albuquerque, NM</td><td>2019</td><td>553804</td><td>198026.6</td><td>55567</td><td>37.3</td><td> 5.082790</td></tr>\n",
              "\t<tr><td>Albuquerque, NM</td><td>2020</td><td>554784</td><td>212967.8</td><td>53936</td><td>37.1</td><td> 5.594741</td></tr>\n",
              "\t<tr><td>Albuquerque, NM</td><td>2021</td><td>558997</td><td>241066.3</td><td>58512</td><td>38.9</td><td> 6.105605</td></tr>\n",
              "\t<tr><td>Albuquerque, NM</td><td>2022</td><td>554890</td><td>280587.6</td><td>64757</td><td>38.4</td><td> 4.188383</td></tr>\n",
              "\t<tr><td>Albuquerque, NM</td><td>2023</td><td>555391</td><td>308189.9</td><td>67907</td><td>39.2</td><td> 4.337847</td></tr>\n",
              "\t<tr><td>Anchorage, AK  </td><td>2005</td><td>262394</td><td>207175.8</td><td>61217</td><td>33.8</td><td>12.813669</td></tr>\n",
              "\t<tr><td>Anchorage, AK  </td><td>2006</td><td>273891</td><td>226903.5</td><td>63656</td><td>33.5</td><td>12.609018</td></tr>\n",
              "\t<tr><td>Anchorage, AK  </td><td>2007</td><td>275489</td><td>243855.7</td><td>68726</td><td>33.3</td><td>14.652567</td></tr>\n",
              "\t<tr><td>Anchorage, AK  </td><td>2008</td><td>274493</td><td>253043.7</td><td>75637</td><td>33.4</td><td>16.511551</td></tr>\n",
              "\t<tr><td>Anchorage, AK  </td><td>2009</td><td>281658</td><td>253020.6</td><td>72832</td><td>32.3</td><td>13.173254</td></tr>\n",
              "\t<tr><td>Anchorage, AK  </td><td>2010</td><td>287257</td><td>253109.2</td><td>72128</td><td>32.7</td><td>11.754007</td></tr>\n",
              "\t<tr><td>Anchorage, AK  </td><td>2011</td><td>291302</td><td>252404.0</td><td>72813</td><td>32.9</td><td> 7.661335</td></tr>\n",
              "\t<tr><td>Anchorage, AK  </td><td>2012</td><td>294856</td><td>249462.3</td><td>72575</td><td>33.0</td><td> 6.494628</td></tr>\n",
              "\t<tr><td>Anchorage, AK  </td><td>2013</td><td>297153</td><td>264355.9</td><td>79045</td><td>32.4</td><td> 6.606993</td></tr>\n",
              "\t<tr><td>Anchorage, AK  </td><td>2014</td><td>295739</td><td>271296.9</td><td>76337</td><td>32.1</td><td> 5.718332</td></tr>\n",
              "\t<tr><td>Anchorage, AK  </td><td>2015</td><td>293923</td><td>281376.3</td><td>78662</td><td>32.2</td><td> 6.380028</td></tr>\n",
              "\t<tr><td>⋮</td><td>⋮</td><td>⋮</td><td>⋮</td><td>⋮</td><td>⋮</td><td>⋮</td></tr>\n",
              "\t<tr><td>Washington, DC</td><td>2013</td><td>636535</td><td>336099.6</td><td> 67572</td><td>33.8</td><td>10.446569</td></tr>\n",
              "\t<tr><td>Washington, DC</td><td>2014</td><td>648586</td><td>362697.9</td><td> 71648</td><td>33.8</td><td> 8.859504</td></tr>\n",
              "\t<tr><td>Washington, DC</td><td>2015</td><td>663006</td><td>373022.7</td><td> 75628</td><td>33.8</td><td> 7.250638</td></tr>\n",
              "\t<tr><td>Washington, DC</td><td>2016</td><td>672022</td><td>383018.4</td><td> 75506</td><td>33.9</td><td> 6.919595</td></tr>\n",
              "\t<tr><td>Washington, DC</td><td>2017</td><td>684810</td><td>391994.5</td><td> 82372</td><td>34.0</td><td> 6.590778</td></tr>\n",
              "\t<tr><td>Washington, DC</td><td>2018</td><td>693798</td><td>405671.3</td><td> 85203</td><td>33.9</td><td> 7.541190</td></tr>\n",
              "\t<tr><td>Washington, DC</td><td>2019</td><td>697556</td><td>418772.4</td><td> 92266</td><td>34.3</td><td> 6.263807</td></tr>\n",
              "\t<tr><td>Washington, DC</td><td>2020</td><td>693253</td><td>434866.2</td><td> 90842</td><td>34.1</td><td> 7.119626</td></tr>\n",
              "\t<tr><td>Washington, DC</td><td>2021</td><td>661026</td><td>473189.9</td><td> 90088</td><td>34.8</td><td> 8.200761</td></tr>\n",
              "\t<tr><td>Washington, DC</td><td>2022</td><td>660942</td><td>514291.0</td><td>101027</td><td>34.9</td><td> 5.112622</td></tr>\n",
              "\t<tr><td>Washington, DC</td><td>2023</td><td>670127</td><td>532275.5</td><td>108210</td><td>34.9</td><td> 5.258939</td></tr>\n",
              "\t<tr><td>Wichita, KS   </td><td>2005</td><td>347984</td><td>109902.9</td><td> 40115</td><td>34.2</td><td>12.318049</td></tr>\n",
              "\t<tr><td>Wichita, KS   </td><td>2006</td><td>351349</td><td>107354.1</td><td> 41089</td><td>34.8</td><td>13.096823</td></tr>\n",
              "\t<tr><td>Wichita, KS   </td><td>2007</td><td>355266</td><td>111378.1</td><td> 42696</td><td>35.0</td><td>15.245344</td></tr>\n",
              "\t<tr><td>Wichita, KS   </td><td>2008</td><td>358047</td><td>114261.8</td><td> 44211</td><td>34.0</td><td>16.408939</td></tr>\n",
              "\t<tr><td>Wichita, KS   </td><td>2009</td><td>364108</td><td>115047.3</td><td> 44405</td><td>34.3</td><td> 9.897806</td></tr>\n",
              "\t<tr><td>Wichita, KS   </td><td>2010</td><td>378148</td><td>117629.0</td><td> 42694</td><td>33.9</td><td> 8.734963</td></tr>\n",
              "\t<tr><td>Wichita, KS   </td><td>2011</td><td>379792</td><td>114371.6</td><td> 44184</td><td>34.3</td><td>10.462393</td></tr>\n",
              "\t<tr><td>Wichita, KS   </td><td>2012</td><td>380372</td><td>110632.7</td><td> 43776</td><td>35.1</td><td> 8.034788</td></tr>\n",
              "\t<tr><td>Wichita, KS   </td><td>2013</td><td>380784</td><td>111972.3</td><td> 43538</td><td>34.0</td><td> 7.482116</td></tr>\n",
              "\t<tr><td>Wichita, KS   </td><td>2014</td><td>382385</td><td>112149.6</td><td> 45477</td><td>34.0</td><td> 6.848021</td></tr>\n",
              "\t<tr><td>Wichita, KS   </td><td>2015</td><td>383590</td><td>115130.5</td><td> 46894</td><td>34.6</td><td> 4.994331</td></tr>\n",
              "\t<tr><td>Wichita, KS   </td><td>2016</td><td>385045</td><td>121298.5</td><td> 49202</td><td>34.7</td><td> 5.754310</td></tr>\n",
              "\t<tr><td>Wichita, KS   </td><td>2017</td><td>385843</td><td>124458.6</td><td> 50504</td><td>35.9</td><td> 6.689720</td></tr>\n",
              "\t<tr><td>Wichita, KS   </td><td>2018</td><td>382995</td><td>128795.6</td><td> 51051</td><td>35.3</td><td> 4.901292</td></tr>\n",
              "\t<tr><td>Wichita, KS   </td><td>2019</td><td>384278</td><td>134578.1</td><td> 55056</td><td>35.3</td><td> 5.507219</td></tr>\n",
              "\t<tr><td>Wichita, KS   </td><td>2020</td><td>385454</td><td>144699.0</td><td> 53466</td><td>35.3</td><td> 5.570981</td></tr>\n",
              "\t<tr><td>Wichita, KS   </td><td>2021</td><td>390384</td><td>158485.9</td><td> 56293</td><td>35.6</td><td> 7.203338</td></tr>\n",
              "\t<tr><td>Wichita, KS   </td><td>2022</td><td>393547</td><td>177256.4</td><td> 59277</td><td>36.2</td><td> 6.025616</td></tr>\n",
              "\t<tr><td>Wichita, KS   </td><td>2023</td><td>392189</td><td>194398.3</td><td> 61281</td><td>36.8</td><td> 4.093885</td></tr>\n",
              "</tbody>\n",
              "</table>\n"
            ],
            "text/markdown": "\nA data.frame: 912 × 7\n\n| city &lt;chr&gt; | year &lt;int&gt; | geomobility &lt;dbl&gt; | housing_price &lt;dbl&gt; | income &lt;dbl&gt; | median_age &lt;dbl&gt; | unemployment &lt;dbl&gt; |\n|---|---|---|---|---|---|---|\n| Albuquerque, NM | 2005 | 482442 | 153134.1 | 41820 | 35.8 | 14.533702 |\n| Albuquerque, NM | 2006 | 485982 | 170259.0 | 43021 | 35.3 | 18.786019 |\n| Albuquerque, NM | 2007 | 505490 | 193305.9 | 43677 | 35.2 | 19.911130 |\n| Albuquerque, NM | 2008 | 506706 | 200215.2 | 46437 | 35.5 | 19.150972 |\n| Albuquerque, NM | 2009 | 519532 | 187486.9 | 44594 | 34.0 | 13.877965 |\n| Albuquerque, NM | 2010 | 540574 | 180903.8 | 46079 | 35.2 | 12.436434 |\n| Albuquerque, NM | 2011 | 544579 | 171329.0 | 43606 | 35.5 | 10.542100 |\n| Albuquerque, NM | 2012 | 548340 | 164757.2 | 45373 | 35.3 |  8.817330 |\n| Albuquerque, NM | 2013 | 549629 | 163877.8 | 48357 | 35.8 |  7.260191 |\n| Albuquerque, NM | 2014 | 550317 | 166668.6 | 46433 | 35.7 |  8.308843 |\n| Albuquerque, NM | 2015 | 552275 | 169546.4 | 47096 | 36.0 |  6.681222 |\n| Albuquerque, NM | 2016 | 553849 | 176038.3 | 50522 | 36.5 |  5.212342 |\n| Albuquerque, NM | 2017 | 551049 | 183130.7 | 50456 | 37.0 |  4.805098 |\n| Albuquerque, NM | 2018 | 553759 | 189542.2 | 51099 | 37.2 |  5.734425 |\n| Albuquerque, NM | 2019 | 553804 | 198026.6 | 55567 | 37.3 |  5.082790 |\n| Albuquerque, NM | 2020 | 554784 | 212967.8 | 53936 | 37.1 |  5.594741 |\n| Albuquerque, NM | 2021 | 558997 | 241066.3 | 58512 | 38.9 |  6.105605 |\n| Albuquerque, NM | 2022 | 554890 | 280587.6 | 64757 | 38.4 |  4.188383 |\n| Albuquerque, NM | 2023 | 555391 | 308189.9 | 67907 | 39.2 |  4.337847 |\n| Anchorage, AK   | 2005 | 262394 | 207175.8 | 61217 | 33.8 | 12.813669 |\n| Anchorage, AK   | 2006 | 273891 | 226903.5 | 63656 | 33.5 | 12.609018 |\n| Anchorage, AK   | 2007 | 275489 | 243855.7 | 68726 | 33.3 | 14.652567 |\n| Anchorage, AK   | 2008 | 274493 | 253043.7 | 75637 | 33.4 | 16.511551 |\n| Anchorage, AK   | 2009 | 281658 | 253020.6 | 72832 | 32.3 | 13.173254 |\n| Anchorage, AK   | 2010 | 287257 | 253109.2 | 72128 | 32.7 | 11.754007 |\n| Anchorage, AK   | 2011 | 291302 | 252404.0 | 72813 | 32.9 |  7.661335 |\n| Anchorage, AK   | 2012 | 294856 | 249462.3 | 72575 | 33.0 |  6.494628 |\n| Anchorage, AK   | 2013 | 297153 | 264355.9 | 79045 | 32.4 |  6.606993 |\n| Anchorage, AK   | 2014 | 295739 | 271296.9 | 76337 | 32.1 |  5.718332 |\n| Anchorage, AK   | 2015 | 293923 | 281376.3 | 78662 | 32.2 |  6.380028 |\n| ⋮ | ⋮ | ⋮ | ⋮ | ⋮ | ⋮ | ⋮ |\n| Washington, DC | 2013 | 636535 | 336099.6 |  67572 | 33.8 | 10.446569 |\n| Washington, DC | 2014 | 648586 | 362697.9 |  71648 | 33.8 |  8.859504 |\n| Washington, DC | 2015 | 663006 | 373022.7 |  75628 | 33.8 |  7.250638 |\n| Washington, DC | 2016 | 672022 | 383018.4 |  75506 | 33.9 |  6.919595 |\n| Washington, DC | 2017 | 684810 | 391994.5 |  82372 | 34.0 |  6.590778 |\n| Washington, DC | 2018 | 693798 | 405671.3 |  85203 | 33.9 |  7.541190 |\n| Washington, DC | 2019 | 697556 | 418772.4 |  92266 | 34.3 |  6.263807 |\n| Washington, DC | 2020 | 693253 | 434866.2 |  90842 | 34.1 |  7.119626 |\n| Washington, DC | 2021 | 661026 | 473189.9 |  90088 | 34.8 |  8.200761 |\n| Washington, DC | 2022 | 660942 | 514291.0 | 101027 | 34.9 |  5.112622 |\n| Washington, DC | 2023 | 670127 | 532275.5 | 108210 | 34.9 |  5.258939 |\n| Wichita, KS    | 2005 | 347984 | 109902.9 |  40115 | 34.2 | 12.318049 |\n| Wichita, KS    | 2006 | 351349 | 107354.1 |  41089 | 34.8 | 13.096823 |\n| Wichita, KS    | 2007 | 355266 | 111378.1 |  42696 | 35.0 | 15.245344 |\n| Wichita, KS    | 2008 | 358047 | 114261.8 |  44211 | 34.0 | 16.408939 |\n| Wichita, KS    | 2009 | 364108 | 115047.3 |  44405 | 34.3 |  9.897806 |\n| Wichita, KS    | 2010 | 378148 | 117629.0 |  42694 | 33.9 |  8.734963 |\n| Wichita, KS    | 2011 | 379792 | 114371.6 |  44184 | 34.3 | 10.462393 |\n| Wichita, KS    | 2012 | 380372 | 110632.7 |  43776 | 35.1 |  8.034788 |\n| Wichita, KS    | 2013 | 380784 | 111972.3 |  43538 | 34.0 |  7.482116 |\n| Wichita, KS    | 2014 | 382385 | 112149.6 |  45477 | 34.0 |  6.848021 |\n| Wichita, KS    | 2015 | 383590 | 115130.5 |  46894 | 34.6 |  4.994331 |\n| Wichita, KS    | 2016 | 385045 | 121298.5 |  49202 | 34.7 |  5.754310 |\n| Wichita, KS    | 2017 | 385843 | 124458.6 |  50504 | 35.9 |  6.689720 |\n| Wichita, KS    | 2018 | 382995 | 128795.6 |  51051 | 35.3 |  4.901292 |\n| Wichita, KS    | 2019 | 384278 | 134578.1 |  55056 | 35.3 |  5.507219 |\n| Wichita, KS    | 2020 | 385454 | 144699.0 |  53466 | 35.3 |  5.570981 |\n| Wichita, KS    | 2021 | 390384 | 158485.9 |  56293 | 35.6 |  7.203338 |\n| Wichita, KS    | 2022 | 393547 | 177256.4 |  59277 | 36.2 |  6.025616 |\n| Wichita, KS    | 2023 | 392189 | 194398.3 |  61281 | 36.8 |  4.093885 |\n\n",
            "text/latex": "A data.frame: 912 × 7\n\\begin{tabular}{lllllll}\n city & year & geomobility & housing\\_price & income & median\\_age & unemployment\\\\\n <chr> & <int> & <dbl> & <dbl> & <dbl> & <dbl> & <dbl>\\\\\n\\hline\n\t Albuquerque, NM & 2005 & 482442 & 153134.1 & 41820 & 35.8 & 14.533702\\\\\n\t Albuquerque, NM & 2006 & 485982 & 170259.0 & 43021 & 35.3 & 18.786019\\\\\n\t Albuquerque, NM & 2007 & 505490 & 193305.9 & 43677 & 35.2 & 19.911130\\\\\n\t Albuquerque, NM & 2008 & 506706 & 200215.2 & 46437 & 35.5 & 19.150972\\\\\n\t Albuquerque, NM & 2009 & 519532 & 187486.9 & 44594 & 34.0 & 13.877965\\\\\n\t Albuquerque, NM & 2010 & 540574 & 180903.8 & 46079 & 35.2 & 12.436434\\\\\n\t Albuquerque, NM & 2011 & 544579 & 171329.0 & 43606 & 35.5 & 10.542100\\\\\n\t Albuquerque, NM & 2012 & 548340 & 164757.2 & 45373 & 35.3 &  8.817330\\\\\n\t Albuquerque, NM & 2013 & 549629 & 163877.8 & 48357 & 35.8 &  7.260191\\\\\n\t Albuquerque, NM & 2014 & 550317 & 166668.6 & 46433 & 35.7 &  8.308843\\\\\n\t Albuquerque, NM & 2015 & 552275 & 169546.4 & 47096 & 36.0 &  6.681222\\\\\n\t Albuquerque, NM & 2016 & 553849 & 176038.3 & 50522 & 36.5 &  5.212342\\\\\n\t Albuquerque, NM & 2017 & 551049 & 183130.7 & 50456 & 37.0 &  4.805098\\\\\n\t Albuquerque, NM & 2018 & 553759 & 189542.2 & 51099 & 37.2 &  5.734425\\\\\n\t Albuquerque, NM & 2019 & 553804 & 198026.6 & 55567 & 37.3 &  5.082790\\\\\n\t Albuquerque, NM & 2020 & 554784 & 212967.8 & 53936 & 37.1 &  5.594741\\\\\n\t Albuquerque, NM & 2021 & 558997 & 241066.3 & 58512 & 38.9 &  6.105605\\\\\n\t Albuquerque, NM & 2022 & 554890 & 280587.6 & 64757 & 38.4 &  4.188383\\\\\n\t Albuquerque, NM & 2023 & 555391 & 308189.9 & 67907 & 39.2 &  4.337847\\\\\n\t Anchorage, AK   & 2005 & 262394 & 207175.8 & 61217 & 33.8 & 12.813669\\\\\n\t Anchorage, AK   & 2006 & 273891 & 226903.5 & 63656 & 33.5 & 12.609018\\\\\n\t Anchorage, AK   & 2007 & 275489 & 243855.7 & 68726 & 33.3 & 14.652567\\\\\n\t Anchorage, AK   & 2008 & 274493 & 253043.7 & 75637 & 33.4 & 16.511551\\\\\n\t Anchorage, AK   & 2009 & 281658 & 253020.6 & 72832 & 32.3 & 13.173254\\\\\n\t Anchorage, AK   & 2010 & 287257 & 253109.2 & 72128 & 32.7 & 11.754007\\\\\n\t Anchorage, AK   & 2011 & 291302 & 252404.0 & 72813 & 32.9 &  7.661335\\\\\n\t Anchorage, AK   & 2012 & 294856 & 249462.3 & 72575 & 33.0 &  6.494628\\\\\n\t Anchorage, AK   & 2013 & 297153 & 264355.9 & 79045 & 32.4 &  6.606993\\\\\n\t Anchorage, AK   & 2014 & 295739 & 271296.9 & 76337 & 32.1 &  5.718332\\\\\n\t Anchorage, AK   & 2015 & 293923 & 281376.3 & 78662 & 32.2 &  6.380028\\\\\n\t ⋮ & ⋮ & ⋮ & ⋮ & ⋮ & ⋮ & ⋮\\\\\n\t Washington, DC & 2013 & 636535 & 336099.6 &  67572 & 33.8 & 10.446569\\\\\n\t Washington, DC & 2014 & 648586 & 362697.9 &  71648 & 33.8 &  8.859504\\\\\n\t Washington, DC & 2015 & 663006 & 373022.7 &  75628 & 33.8 &  7.250638\\\\\n\t Washington, DC & 2016 & 672022 & 383018.4 &  75506 & 33.9 &  6.919595\\\\\n\t Washington, DC & 2017 & 684810 & 391994.5 &  82372 & 34.0 &  6.590778\\\\\n\t Washington, DC & 2018 & 693798 & 405671.3 &  85203 & 33.9 &  7.541190\\\\\n\t Washington, DC & 2019 & 697556 & 418772.4 &  92266 & 34.3 &  6.263807\\\\\n\t Washington, DC & 2020 & 693253 & 434866.2 &  90842 & 34.1 &  7.119626\\\\\n\t Washington, DC & 2021 & 661026 & 473189.9 &  90088 & 34.8 &  8.200761\\\\\n\t Washington, DC & 2022 & 660942 & 514291.0 & 101027 & 34.9 &  5.112622\\\\\n\t Washington, DC & 2023 & 670127 & 532275.5 & 108210 & 34.9 &  5.258939\\\\\n\t Wichita, KS    & 2005 & 347984 & 109902.9 &  40115 & 34.2 & 12.318049\\\\\n\t Wichita, KS    & 2006 & 351349 & 107354.1 &  41089 & 34.8 & 13.096823\\\\\n\t Wichita, KS    & 2007 & 355266 & 111378.1 &  42696 & 35.0 & 15.245344\\\\\n\t Wichita, KS    & 2008 & 358047 & 114261.8 &  44211 & 34.0 & 16.408939\\\\\n\t Wichita, KS    & 2009 & 364108 & 115047.3 &  44405 & 34.3 &  9.897806\\\\\n\t Wichita, KS    & 2010 & 378148 & 117629.0 &  42694 & 33.9 &  8.734963\\\\\n\t Wichita, KS    & 2011 & 379792 & 114371.6 &  44184 & 34.3 & 10.462393\\\\\n\t Wichita, KS    & 2012 & 380372 & 110632.7 &  43776 & 35.1 &  8.034788\\\\\n\t Wichita, KS    & 2013 & 380784 & 111972.3 &  43538 & 34.0 &  7.482116\\\\\n\t Wichita, KS    & 2014 & 382385 & 112149.6 &  45477 & 34.0 &  6.848021\\\\\n\t Wichita, KS    & 2015 & 383590 & 115130.5 &  46894 & 34.6 &  4.994331\\\\\n\t Wichita, KS    & 2016 & 385045 & 121298.5 &  49202 & 34.7 &  5.754310\\\\\n\t Wichita, KS    & 2017 & 385843 & 124458.6 &  50504 & 35.9 &  6.689720\\\\\n\t Wichita, KS    & 2018 & 382995 & 128795.6 &  51051 & 35.3 &  4.901292\\\\\n\t Wichita, KS    & 2019 & 384278 & 134578.1 &  55056 & 35.3 &  5.507219\\\\\n\t Wichita, KS    & 2020 & 385454 & 144699.0 &  53466 & 35.3 &  5.570981\\\\\n\t Wichita, KS    & 2021 & 390384 & 158485.9 &  56293 & 35.6 &  7.203338\\\\\n\t Wichita, KS    & 2022 & 393547 & 177256.4 &  59277 & 36.2 &  6.025616\\\\\n\t Wichita, KS    & 2023 & 392189 & 194398.3 &  61281 & 36.8 &  4.093885\\\\\n\\end{tabular}\n",
            "text/plain": [
              "    city            year geomobility housing_price income median_age\n",
              "1   Albuquerque, NM 2005 482442      153134.1      41820  35.8      \n",
              "2   Albuquerque, NM 2006 485982      170259.0      43021  35.3      \n",
              "3   Albuquerque, NM 2007 505490      193305.9      43677  35.2      \n",
              "4   Albuquerque, NM 2008 506706      200215.2      46437  35.5      \n",
              "5   Albuquerque, NM 2009 519532      187486.9      44594  34.0      \n",
              "6   Albuquerque, NM 2010 540574      180903.8      46079  35.2      \n",
              "7   Albuquerque, NM 2011 544579      171329.0      43606  35.5      \n",
              "8   Albuquerque, NM 2012 548340      164757.2      45373  35.3      \n",
              "9   Albuquerque, NM 2013 549629      163877.8      48357  35.8      \n",
              "10  Albuquerque, NM 2014 550317      166668.6      46433  35.7      \n",
              "11  Albuquerque, NM 2015 552275      169546.4      47096  36.0      \n",
              "12  Albuquerque, NM 2016 553849      176038.3      50522  36.5      \n",
              "13  Albuquerque, NM 2017 551049      183130.7      50456  37.0      \n",
              "14  Albuquerque, NM 2018 553759      189542.2      51099  37.2      \n",
              "15  Albuquerque, NM 2019 553804      198026.6      55567  37.3      \n",
              "16  Albuquerque, NM 2020 554784      212967.8      53936  37.1      \n",
              "17  Albuquerque, NM 2021 558997      241066.3      58512  38.9      \n",
              "18  Albuquerque, NM 2022 554890      280587.6      64757  38.4      \n",
              "19  Albuquerque, NM 2023 555391      308189.9      67907  39.2      \n",
              "20  Anchorage, AK   2005 262394      207175.8      61217  33.8      \n",
              "21  Anchorage, AK   2006 273891      226903.5      63656  33.5      \n",
              "22  Anchorage, AK   2007 275489      243855.7      68726  33.3      \n",
              "23  Anchorage, AK   2008 274493      253043.7      75637  33.4      \n",
              "24  Anchorage, AK   2009 281658      253020.6      72832  32.3      \n",
              "25  Anchorage, AK   2010 287257      253109.2      72128  32.7      \n",
              "26  Anchorage, AK   2011 291302      252404.0      72813  32.9      \n",
              "27  Anchorage, AK   2012 294856      249462.3      72575  33.0      \n",
              "28  Anchorage, AK   2013 297153      264355.9      79045  32.4      \n",
              "29  Anchorage, AK   2014 295739      271296.9      76337  32.1      \n",
              "30  Anchorage, AK   2015 293923      281376.3      78662  32.2      \n",
              "⋮   ⋮               ⋮    ⋮           ⋮             ⋮      ⋮         \n",
              "883 Washington, DC  2013 636535      336099.6       67572 33.8      \n",
              "884 Washington, DC  2014 648586      362697.9       71648 33.8      \n",
              "885 Washington, DC  2015 663006      373022.7       75628 33.8      \n",
              "886 Washington, DC  2016 672022      383018.4       75506 33.9      \n",
              "887 Washington, DC  2017 684810      391994.5       82372 34.0      \n",
              "888 Washington, DC  2018 693798      405671.3       85203 33.9      \n",
              "889 Washington, DC  2019 697556      418772.4       92266 34.3      \n",
              "890 Washington, DC  2020 693253      434866.2       90842 34.1      \n",
              "891 Washington, DC  2021 661026      473189.9       90088 34.8      \n",
              "892 Washington, DC  2022 660942      514291.0      101027 34.9      \n",
              "893 Washington, DC  2023 670127      532275.5      108210 34.9      \n",
              "894 Wichita, KS     2005 347984      109902.9       40115 34.2      \n",
              "895 Wichita, KS     2006 351349      107354.1       41089 34.8      \n",
              "896 Wichita, KS     2007 355266      111378.1       42696 35.0      \n",
              "897 Wichita, KS     2008 358047      114261.8       44211 34.0      \n",
              "898 Wichita, KS     2009 364108      115047.3       44405 34.3      \n",
              "899 Wichita, KS     2010 378148      117629.0       42694 33.9      \n",
              "900 Wichita, KS     2011 379792      114371.6       44184 34.3      \n",
              "901 Wichita, KS     2012 380372      110632.7       43776 35.1      \n",
              "902 Wichita, KS     2013 380784      111972.3       43538 34.0      \n",
              "903 Wichita, KS     2014 382385      112149.6       45477 34.0      \n",
              "904 Wichita, KS     2015 383590      115130.5       46894 34.6      \n",
              "905 Wichita, KS     2016 385045      121298.5       49202 34.7      \n",
              "906 Wichita, KS     2017 385843      124458.6       50504 35.9      \n",
              "907 Wichita, KS     2018 382995      128795.6       51051 35.3      \n",
              "908 Wichita, KS     2019 384278      134578.1       55056 35.3      \n",
              "909 Wichita, KS     2020 385454      144699.0       53466 35.3      \n",
              "910 Wichita, KS     2021 390384      158485.9       56293 35.6      \n",
              "911 Wichita, KS     2022 393547      177256.4       59277 36.2      \n",
              "912 Wichita, KS     2023 392189      194398.3       61281 36.8      \n",
              "    unemployment\n",
              "1   14.533702   \n",
              "2   18.786019   \n",
              "3   19.911130   \n",
              "4   19.150972   \n",
              "5   13.877965   \n",
              "6   12.436434   \n",
              "7   10.542100   \n",
              "8    8.817330   \n",
              "9    7.260191   \n",
              "10   8.308843   \n",
              "11   6.681222   \n",
              "12   5.212342   \n",
              "13   4.805098   \n",
              "14   5.734425   \n",
              "15   5.082790   \n",
              "16   5.594741   \n",
              "17   6.105605   \n",
              "18   4.188383   \n",
              "19   4.337847   \n",
              "20  12.813669   \n",
              "21  12.609018   \n",
              "22  14.652567   \n",
              "23  16.511551   \n",
              "24  13.173254   \n",
              "25  11.754007   \n",
              "26   7.661335   \n",
              "27   6.494628   \n",
              "28   6.606993   \n",
              "29   5.718332   \n",
              "30   6.380028   \n",
              "⋮   ⋮           \n",
              "883 10.446569   \n",
              "884  8.859504   \n",
              "885  7.250638   \n",
              "886  6.919595   \n",
              "887  6.590778   \n",
              "888  7.541190   \n",
              "889  6.263807   \n",
              "890  7.119626   \n",
              "891  8.200761   \n",
              "892  5.112622   \n",
              "893  5.258939   \n",
              "894 12.318049   \n",
              "895 13.096823   \n",
              "896 15.245344   \n",
              "897 16.408939   \n",
              "898  9.897806   \n",
              "899  8.734963   \n",
              "900 10.462393   \n",
              "901  8.034788   \n",
              "902  7.482116   \n",
              "903  6.848021   \n",
              "904  4.994331   \n",
              "905  5.754310   \n",
              "906  6.689720   \n",
              "907  4.901292   \n",
              "908  5.507219   \n",
              "909  5.570981   \n",
              "910  7.203338   \n",
              "911  6.025616   \n",
              "912  4.093885   "
            ]
          },
          "metadata": {}
        }
      ]
    },
    {
      "cell_type": "code",
      "source": [
        "write.csv(merged_data, \"merged_data.csv\")"
      ],
      "metadata": {
        "id": "PsGwyTT6eLwy"
      },
      "execution_count": 64,
      "outputs": []
    }
  ]
}