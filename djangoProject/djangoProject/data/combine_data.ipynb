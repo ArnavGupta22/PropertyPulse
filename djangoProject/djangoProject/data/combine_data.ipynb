{
  "nbformat": 4,
  "nbformat_minor": 0,
  "metadata": {
    "colab": {
      "provenance": []
    },
    "kernelspec": {
      "name": "ir",
      "display_name": "R"
    },
    "language_info": {
      "name": "R"
    }
  },
  "cells": [
    {
      "cell_type": "code",
      "execution_count": 95,
      "metadata": {
        "id": "J2e6SjYiQgP-"
      },
      "outputs": [],
      "source": [
        "library(tidyverse)"
      ]
    },
    {
      "cell_type": "code",
      "source": [
        "geo <- read.csv(\"geomob.csv\")\n",
        "price <- read.csv(\"housingprice.csv\")\n",
        "income <- read.csv(\"income.csv\")\n",
        "age <- read.csv(\"medianage.csv\")\n",
        "unemployment <- read.csv(\"unemployment.csv\")"
      ],
      "metadata": {
        "id": "37BXeT1qUMwS"
      },
      "execution_count": 96,
      "outputs": []
    },
    {
      "cell_type": "code",
      "source": [
        "geo <- select(geo, -X)\n",
        "price <- select(price, -X, -X2020.1)\n",
        "income <- select(income, -X)\n",
        "age <- select(age, -X)\n",
        "unemployment <- select(unemployment, -X)"
      ],
      "metadata": {
        "id": "TZNvUWehUgFM"
      },
      "execution_count": 98,
      "outputs": []
    },
    {
      "cell_type": "code",
      "source": [
        "colnames(geo) <- c('city', '2005','2006','2007','2008','2009','2010','2011','2012','2013','2014','2015', '2016', '2017', '2018', '2019', '2020', '2021', '2022', '2023')\n",
        "colnames(price) <- c('city', '2005','2006','2007','2008','2009','2010','2011','2012','2013','2014','2015', '2016', '2017', '2018', '2019', '2020', '2021', '2022', '2023')\n",
        "colnames(income) <- c('city', '2005','2006','2007','2008','2009','2010','2011','2012','2013','2014','2015', '2016', '2017', '2018', '2019', '2020', '2021', '2022', '2023')\n",
        "colnames(age) <- c('city', '2005','2006','2007','2008','2009','2010','2011','2012','2013','2014','2015', '2016', '2017', '2018', '2019', '2020', '2021', '2022', '2023')\n",
        "colnames(unemployment) <- c('city', '2005','2006','2007','2008','2009','2010','2011','2012','2013','2014','2015', '2016', '2017', '2018', '2019', '2020', '2021', '2022', '2023')"
      ],
      "metadata": {
        "id": "UCyx93BTXDDW"
      },
      "execution_count": 100,
      "outputs": []
    },
    {
      "cell_type": "code",
      "source": [
        "geo <- pivot_longer(geo, cols = c('2005','2006','2007','2008','2009','2010','2011','2012','2013','2014','2015', '2016', '2017', '2018', '2019', '2020', '2021', '2022', '2023'), names_to = \"year\", values_to = \"geo\")\n",
        "price <- pivot_longer(price, cols = c('2005','2006','2007','2008','2009','2010','2011','2012','2013','2014','2015', '2016', '2017', '2018', '2019', '2020', '2021', '2022', '2023'), names_to = \"year\", values_to = \"price\")\n",
        "income <- pivot_longer(income, cols = c('2005','2006','2007','2008','2009','2010','2011','2012','2013','2014','2015', '2016', '2017', '2018', '2019', '2020', '2021', '2022', '2023'), names_to = \"year\", values_to = \"income\")\n",
        "age <- pivot_longer(age, cols = c('2005','2006','2007','2008','2009','2010','2011','2012','2013','2014','2015', '2016', '2017', '2018', '2019', '2020', '2021', '2022', '2023'), names_to = \"year\", values_to = \"age\")\n",
        "unemployment <- pivot_longer(unemployment, cols = c('2005','2006','2007','2008','2009','2010','2011','2012','2013','2014','2015', '2016', '2017', '2018', '2019', '2020', '2021', '2022', '2023'), names_to = \"year\", values_to = \"unemployment\")"
      ],
      "metadata": {
        "id": "O_E0v3k8VP8V"
      },
      "execution_count": 101,
      "outputs": []
    },
    {
      "cell_type": "code",
      "source": [
        "geo$year = as.integer(geo$year)\n",
        "price$year = as.integer(price$year)\n",
        "income$year = as.integer(income$year)\n",
        "age$year = as.integer(age$year)\n",
        "unemployment$year = as.integer(unemployment$year)"
      ],
      "metadata": {
        "id": "5OPE3uXjZoTG"
      },
      "execution_count": 102,
      "outputs": []
    },
    {
      "cell_type": "code",
      "source": [
        "head(geo)\n",
        "head(price)\n",
        "head(income)\n",
        "head(age)\n",
        "head(unemployment)"
      ],
      "metadata": {
        "colab": {
          "base_uri": "https://localhost:8080/",
          "height": 1000
        },
        "id": "uu9j-n2SUvlS",
        "outputId": "556a6b6c-87f9-42b5-ae47-6cdfcaa22bef"
      },
      "execution_count": 103,
      "outputs": [
        {
          "output_type": "display_data",
          "data": {
            "text/html": [
              "<table class=\"dataframe\">\n",
              "<caption>A tibble: 6 × 3</caption>\n",
              "<thead>\n",
              "\t<tr><th scope=col>city</th><th scope=col>year</th><th scope=col>geo</th></tr>\n",
              "\t<tr><th scope=col>&lt;chr&gt;</th><th scope=col>&lt;int&gt;</th><th scope=col>&lt;dbl&gt;</th></tr>\n",
              "</thead>\n",
              "<tbody>\n",
              "\t<tr><td>Albuquerque, NM</td><td>2005</td><td>482442</td></tr>\n",
              "\t<tr><td>Albuquerque, NM</td><td>2006</td><td>485982</td></tr>\n",
              "\t<tr><td>Albuquerque, NM</td><td>2007</td><td>505490</td></tr>\n",
              "\t<tr><td>Albuquerque, NM</td><td>2008</td><td>506706</td></tr>\n",
              "\t<tr><td>Albuquerque, NM</td><td>2009</td><td>519532</td></tr>\n",
              "\t<tr><td>Albuquerque, NM</td><td>2010</td><td>540574</td></tr>\n",
              "</tbody>\n",
              "</table>\n"
            ],
            "text/markdown": "\nA tibble: 6 × 3\n\n| city &lt;chr&gt; | year &lt;int&gt; | geo &lt;dbl&gt; |\n|---|---|---|\n| Albuquerque, NM | 2005 | 482442 |\n| Albuquerque, NM | 2006 | 485982 |\n| Albuquerque, NM | 2007 | 505490 |\n| Albuquerque, NM | 2008 | 506706 |\n| Albuquerque, NM | 2009 | 519532 |\n| Albuquerque, NM | 2010 | 540574 |\n\n",
            "text/latex": "A tibble: 6 × 3\n\\begin{tabular}{lll}\n city & year & geo\\\\\n <chr> & <int> & <dbl>\\\\\n\\hline\n\t Albuquerque, NM & 2005 & 482442\\\\\n\t Albuquerque, NM & 2006 & 485982\\\\\n\t Albuquerque, NM & 2007 & 505490\\\\\n\t Albuquerque, NM & 2008 & 506706\\\\\n\t Albuquerque, NM & 2009 & 519532\\\\\n\t Albuquerque, NM & 2010 & 540574\\\\\n\\end{tabular}\n",
            "text/plain": [
              "  city            year geo   \n",
              "1 Albuquerque, NM 2005 482442\n",
              "2 Albuquerque, NM 2006 485982\n",
              "3 Albuquerque, NM 2007 505490\n",
              "4 Albuquerque, NM 2008 506706\n",
              "5 Albuquerque, NM 2009 519532\n",
              "6 Albuquerque, NM 2010 540574"
            ]
          },
          "metadata": {}
        },
        {
          "output_type": "display_data",
          "data": {
            "text/html": [
              "<table class=\"dataframe\">\n",
              "<caption>A tibble: 6 × 3</caption>\n",
              "<thead>\n",
              "\t<tr><th scope=col>city</th><th scope=col>year</th><th scope=col>price</th></tr>\n",
              "\t<tr><th scope=col>&lt;chr&gt;</th><th scope=col>&lt;int&gt;</th><th scope=col>&lt;dbl&gt;</th></tr>\n",
              "</thead>\n",
              "<tbody>\n",
              "\t<tr><td>Albuquerque, NM</td><td>2005</td><td>153134.1</td></tr>\n",
              "\t<tr><td>Albuquerque, NM</td><td>2006</td><td>170259.0</td></tr>\n",
              "\t<tr><td>Albuquerque, NM</td><td>2007</td><td>193305.9</td></tr>\n",
              "\t<tr><td>Albuquerque, NM</td><td>2008</td><td>200215.2</td></tr>\n",
              "\t<tr><td>Albuquerque, NM</td><td>2009</td><td>187486.9</td></tr>\n",
              "\t<tr><td>Albuquerque, NM</td><td>2010</td><td>180903.8</td></tr>\n",
              "</tbody>\n",
              "</table>\n"
            ],
            "text/markdown": "\nA tibble: 6 × 3\n\n| city &lt;chr&gt; | year &lt;int&gt; | price &lt;dbl&gt; |\n|---|---|---|\n| Albuquerque, NM | 2005 | 153134.1 |\n| Albuquerque, NM | 2006 | 170259.0 |\n| Albuquerque, NM | 2007 | 193305.9 |\n| Albuquerque, NM | 2008 | 200215.2 |\n| Albuquerque, NM | 2009 | 187486.9 |\n| Albuquerque, NM | 2010 | 180903.8 |\n\n",
            "text/latex": "A tibble: 6 × 3\n\\begin{tabular}{lll}\n city & year & price\\\\\n <chr> & <int> & <dbl>\\\\\n\\hline\n\t Albuquerque, NM & 2005 & 153134.1\\\\\n\t Albuquerque, NM & 2006 & 170259.0\\\\\n\t Albuquerque, NM & 2007 & 193305.9\\\\\n\t Albuquerque, NM & 2008 & 200215.2\\\\\n\t Albuquerque, NM & 2009 & 187486.9\\\\\n\t Albuquerque, NM & 2010 & 180903.8\\\\\n\\end{tabular}\n",
            "text/plain": [
              "  city            year price   \n",
              "1 Albuquerque, NM 2005 153134.1\n",
              "2 Albuquerque, NM 2006 170259.0\n",
              "3 Albuquerque, NM 2007 193305.9\n",
              "4 Albuquerque, NM 2008 200215.2\n",
              "5 Albuquerque, NM 2009 187486.9\n",
              "6 Albuquerque, NM 2010 180903.8"
            ]
          },
          "metadata": {}
        },
        {
          "output_type": "display_data",
          "data": {
            "text/html": [
              "<table class=\"dataframe\">\n",
              "<caption>A tibble: 6 × 3</caption>\n",
              "<thead>\n",
              "\t<tr><th scope=col>city</th><th scope=col>year</th><th scope=col>income</th></tr>\n",
              "\t<tr><th scope=col>&lt;chr&gt;</th><th scope=col>&lt;int&gt;</th><th scope=col>&lt;dbl&gt;</th></tr>\n",
              "</thead>\n",
              "<tbody>\n",
              "\t<tr><td>Albuquerque, NM</td><td>2005</td><td>41820</td></tr>\n",
              "\t<tr><td>Albuquerque, NM</td><td>2006</td><td>43021</td></tr>\n",
              "\t<tr><td>Albuquerque, NM</td><td>2007</td><td>43677</td></tr>\n",
              "\t<tr><td>Albuquerque, NM</td><td>2008</td><td>46437</td></tr>\n",
              "\t<tr><td>Albuquerque, NM</td><td>2009</td><td>44594</td></tr>\n",
              "\t<tr><td>Albuquerque, NM</td><td>2010</td><td>46079</td></tr>\n",
              "</tbody>\n",
              "</table>\n"
            ],
            "text/markdown": "\nA tibble: 6 × 3\n\n| city &lt;chr&gt; | year &lt;int&gt; | income &lt;dbl&gt; |\n|---|---|---|\n| Albuquerque, NM | 2005 | 41820 |\n| Albuquerque, NM | 2006 | 43021 |\n| Albuquerque, NM | 2007 | 43677 |\n| Albuquerque, NM | 2008 | 46437 |\n| Albuquerque, NM | 2009 | 44594 |\n| Albuquerque, NM | 2010 | 46079 |\n\n",
            "text/latex": "A tibble: 6 × 3\n\\begin{tabular}{lll}\n city & year & income\\\\\n <chr> & <int> & <dbl>\\\\\n\\hline\n\t Albuquerque, NM & 2005 & 41820\\\\\n\t Albuquerque, NM & 2006 & 43021\\\\\n\t Albuquerque, NM & 2007 & 43677\\\\\n\t Albuquerque, NM & 2008 & 46437\\\\\n\t Albuquerque, NM & 2009 & 44594\\\\\n\t Albuquerque, NM & 2010 & 46079\\\\\n\\end{tabular}\n",
            "text/plain": [
              "  city            year income\n",
              "1 Albuquerque, NM 2005 41820 \n",
              "2 Albuquerque, NM 2006 43021 \n",
              "3 Albuquerque, NM 2007 43677 \n",
              "4 Albuquerque, NM 2008 46437 \n",
              "5 Albuquerque, NM 2009 44594 \n",
              "6 Albuquerque, NM 2010 46079 "
            ]
          },
          "metadata": {}
        },
        {
          "output_type": "display_data",
          "data": {
            "text/html": [
              "<table class=\"dataframe\">\n",
              "<caption>A tibble: 6 × 3</caption>\n",
              "<thead>\n",
              "\t<tr><th scope=col>city</th><th scope=col>year</th><th scope=col>age</th></tr>\n",
              "\t<tr><th scope=col>&lt;chr&gt;</th><th scope=col>&lt;int&gt;</th><th scope=col>&lt;dbl&gt;</th></tr>\n",
              "</thead>\n",
              "<tbody>\n",
              "\t<tr><td>Albuquerque, NM</td><td>2005</td><td>35.8</td></tr>\n",
              "\t<tr><td>Albuquerque, NM</td><td>2006</td><td>35.3</td></tr>\n",
              "\t<tr><td>Albuquerque, NM</td><td>2007</td><td>35.2</td></tr>\n",
              "\t<tr><td>Albuquerque, NM</td><td>2008</td><td>35.5</td></tr>\n",
              "\t<tr><td>Albuquerque, NM</td><td>2009</td><td>34.0</td></tr>\n",
              "\t<tr><td>Albuquerque, NM</td><td>2010</td><td>35.2</td></tr>\n",
              "</tbody>\n",
              "</table>\n"
            ],
            "text/markdown": "\nA tibble: 6 × 3\n\n| city &lt;chr&gt; | year &lt;int&gt; | age &lt;dbl&gt; |\n|---|---|---|\n| Albuquerque, NM | 2005 | 35.8 |\n| Albuquerque, NM | 2006 | 35.3 |\n| Albuquerque, NM | 2007 | 35.2 |\n| Albuquerque, NM | 2008 | 35.5 |\n| Albuquerque, NM | 2009 | 34.0 |\n| Albuquerque, NM | 2010 | 35.2 |\n\n",
            "text/latex": "A tibble: 6 × 3\n\\begin{tabular}{lll}\n city & year & age\\\\\n <chr> & <int> & <dbl>\\\\\n\\hline\n\t Albuquerque, NM & 2005 & 35.8\\\\\n\t Albuquerque, NM & 2006 & 35.3\\\\\n\t Albuquerque, NM & 2007 & 35.2\\\\\n\t Albuquerque, NM & 2008 & 35.5\\\\\n\t Albuquerque, NM & 2009 & 34.0\\\\\n\t Albuquerque, NM & 2010 & 35.2\\\\\n\\end{tabular}\n",
            "text/plain": [
              "  city            year age \n",
              "1 Albuquerque, NM 2005 35.8\n",
              "2 Albuquerque, NM 2006 35.3\n",
              "3 Albuquerque, NM 2007 35.2\n",
              "4 Albuquerque, NM 2008 35.5\n",
              "5 Albuquerque, NM 2009 34.0\n",
              "6 Albuquerque, NM 2010 35.2"
            ]
          },
          "metadata": {}
        },
        {
          "output_type": "display_data",
          "data": {
            "text/html": [
              "<table class=\"dataframe\">\n",
              "<caption>A tibble: 6 × 3</caption>\n",
              "<thead>\n",
              "\t<tr><th scope=col>city</th><th scope=col>year</th><th scope=col>unemployment</th></tr>\n",
              "\t<tr><th scope=col>&lt;chr&gt;</th><th scope=col>&lt;int&gt;</th><th scope=col>&lt;dbl&gt;</th></tr>\n",
              "</thead>\n",
              "<tbody>\n",
              "\t<tr><td>Albuquerque, NM</td><td>2005</td><td>14.53370</td></tr>\n",
              "\t<tr><td>Albuquerque, NM</td><td>2006</td><td>18.78602</td></tr>\n",
              "\t<tr><td>Albuquerque, NM</td><td>2007</td><td>19.91113</td></tr>\n",
              "\t<tr><td>Albuquerque, NM</td><td>2008</td><td>19.15097</td></tr>\n",
              "\t<tr><td>Albuquerque, NM</td><td>2009</td><td>13.87797</td></tr>\n",
              "\t<tr><td>Albuquerque, NM</td><td>2010</td><td>12.43643</td></tr>\n",
              "</tbody>\n",
              "</table>\n"
            ],
            "text/markdown": "\nA tibble: 6 × 3\n\n| city &lt;chr&gt; | year &lt;int&gt; | unemployment &lt;dbl&gt; |\n|---|---|---|\n| Albuquerque, NM | 2005 | 14.53370 |\n| Albuquerque, NM | 2006 | 18.78602 |\n| Albuquerque, NM | 2007 | 19.91113 |\n| Albuquerque, NM | 2008 | 19.15097 |\n| Albuquerque, NM | 2009 | 13.87797 |\n| Albuquerque, NM | 2010 | 12.43643 |\n\n",
            "text/latex": "A tibble: 6 × 3\n\\begin{tabular}{lll}\n city & year & unemployment\\\\\n <chr> & <int> & <dbl>\\\\\n\\hline\n\t Albuquerque, NM & 2005 & 14.53370\\\\\n\t Albuquerque, NM & 2006 & 18.78602\\\\\n\t Albuquerque, NM & 2007 & 19.91113\\\\\n\t Albuquerque, NM & 2008 & 19.15097\\\\\n\t Albuquerque, NM & 2009 & 13.87797\\\\\n\t Albuquerque, NM & 2010 & 12.43643\\\\\n\\end{tabular}\n",
            "text/plain": [
              "  city            year unemployment\n",
              "1 Albuquerque, NM 2005 14.53370    \n",
              "2 Albuquerque, NM 2006 18.78602    \n",
              "3 Albuquerque, NM 2007 19.91113    \n",
              "4 Albuquerque, NM 2008 19.15097    \n",
              "5 Albuquerque, NM 2009 13.87797    \n",
              "6 Albuquerque, NM 2010 12.43643    "
            ]
          },
          "metadata": {}
        }
      ]
    },
    {
      "cell_type": "code",
      "source": [
        "df_list <- list(geo, price, income, age, unemployment)\n",
        "merged_data <- Reduce(function(x, y) merge(x, y, by = c('city', 'year')), df_list)"
      ],
      "metadata": {
        "id": "yiQ_6lViaJm6"
      },
      "execution_count": 104,
      "outputs": []
    },
    {
      "cell_type": "code",
      "source": [
        "colnames(merged_data) = c('city', 'year', 'geomobility', 'housing_price', 'income', 'median_age', 'unemployment')"
      ],
      "metadata": {
        "id": "9emmI5l1aua2"
      },
      "execution_count": 105,
      "outputs": []
    },
    {
      "cell_type": "code",
      "source": [
        "merged_data"
      ],
      "metadata": {
        "colab": {
          "base_uri": "https://localhost:8080/",
          "height": 1000
        },
        "id": "U4C_Y2iieI9n",
        "outputId": "8922f74c-9340-48b0-b42d-91a44dd19b77"
      },
      "execution_count": 106,
      "outputs": [
        {
          "output_type": "display_data",
          "data": {
            "text/html": [
              "<table class=\"dataframe\">\n",
              "<caption>A data.frame: 627 × 7</caption>\n",
              "<thead>\n",
              "\t<tr><th scope=col>city</th><th scope=col>year</th><th scope=col>geomobility</th><th scope=col>housing_price</th><th scope=col>income</th><th scope=col>median_age</th><th scope=col>unemployment</th></tr>\n",
              "\t<tr><th scope=col>&lt;chr&gt;</th><th scope=col>&lt;int&gt;</th><th scope=col>&lt;dbl&gt;</th><th scope=col>&lt;dbl&gt;</th><th scope=col>&lt;dbl&gt;</th><th scope=col>&lt;dbl&gt;</th><th scope=col>&lt;dbl&gt;</th></tr>\n",
              "</thead>\n",
              "<tbody>\n",
              "\t<tr><td>Albuquerque, NM</td><td>2005</td><td>482442</td><td>153134.1</td><td>41820</td><td>35.8</td><td>14.533702</td></tr>\n",
              "\t<tr><td>Albuquerque, NM</td><td>2006</td><td>485982</td><td>170259.0</td><td>43021</td><td>35.3</td><td>18.786019</td></tr>\n",
              "\t<tr><td>Albuquerque, NM</td><td>2007</td><td>505490</td><td>193305.9</td><td>43677</td><td>35.2</td><td>19.911130</td></tr>\n",
              "\t<tr><td>Albuquerque, NM</td><td>2008</td><td>506706</td><td>200215.2</td><td>46437</td><td>35.5</td><td>19.150972</td></tr>\n",
              "\t<tr><td>Albuquerque, NM</td><td>2009</td><td>519532</td><td>187486.9</td><td>44594</td><td>34.0</td><td>13.877965</td></tr>\n",
              "\t<tr><td>Albuquerque, NM</td><td>2010</td><td>540574</td><td>180903.8</td><td>46079</td><td>35.2</td><td>12.436434</td></tr>\n",
              "\t<tr><td>Albuquerque, NM</td><td>2011</td><td>544579</td><td>171329.0</td><td>43606</td><td>35.5</td><td>10.542100</td></tr>\n",
              "\t<tr><td>Albuquerque, NM</td><td>2012</td><td>548340</td><td>164757.2</td><td>45373</td><td>35.3</td><td> 8.817330</td></tr>\n",
              "\t<tr><td>Albuquerque, NM</td><td>2013</td><td>549629</td><td>163877.8</td><td>48357</td><td>35.8</td><td> 7.260191</td></tr>\n",
              "\t<tr><td>Albuquerque, NM</td><td>2014</td><td>550317</td><td>166668.6</td><td>46433</td><td>35.7</td><td> 8.308843</td></tr>\n",
              "\t<tr><td>Albuquerque, NM</td><td>2015</td><td>552275</td><td>169546.4</td><td>47096</td><td>36.0</td><td> 6.681222</td></tr>\n",
              "\t<tr><td>Albuquerque, NM</td><td>2016</td><td>553849</td><td>176038.3</td><td>50522</td><td>36.5</td><td> 5.212342</td></tr>\n",
              "\t<tr><td>Albuquerque, NM</td><td>2017</td><td>551049</td><td>183130.7</td><td>50456</td><td>37.0</td><td> 4.805098</td></tr>\n",
              "\t<tr><td>Albuquerque, NM</td><td>2018</td><td>553759</td><td>189542.2</td><td>51099</td><td>37.2</td><td> 5.734425</td></tr>\n",
              "\t<tr><td>Albuquerque, NM</td><td>2019</td><td>553804</td><td>198026.6</td><td>55567</td><td>37.3</td><td> 5.082790</td></tr>\n",
              "\t<tr><td>Albuquerque, NM</td><td>2020</td><td>554784</td><td>212967.8</td><td>53936</td><td>37.1</td><td> 5.594741</td></tr>\n",
              "\t<tr><td>Albuquerque, NM</td><td>2021</td><td>558997</td><td>241066.3</td><td>58512</td><td>38.9</td><td> 6.105605</td></tr>\n",
              "\t<tr><td>Albuquerque, NM</td><td>2022</td><td>554890</td><td>280587.6</td><td>64757</td><td>38.4</td><td> 4.188383</td></tr>\n",
              "\t<tr><td>Albuquerque, NM</td><td>2023</td><td>555391</td><td>308189.9</td><td>67907</td><td>39.2</td><td> 4.337847</td></tr>\n",
              "\t<tr><td>Atlanta, GA    </td><td>2005</td><td>388422</td><td>179505.7</td><td>39752</td><td>34.7</td><td>10.534444</td></tr>\n",
              "\t<tr><td>Atlanta, GA    </td><td>2006</td><td>438135</td><td>186545.6</td><td>41612</td><td>35.0</td><td>10.190236</td></tr>\n",
              "\t<tr><td>Atlanta, GA    </td><td>2007</td><td>425366</td><td>192300.5</td><td>47153</td><td>35.0</td><td>10.807414</td></tr>\n",
              "\t<tr><td>Atlanta, GA    </td><td>2008</td><td>447703</td><td>191047.2</td><td>48865</td><td>35.7</td><td>11.776196</td></tr>\n",
              "\t<tr><td>Atlanta, GA    </td><td>2009</td><td>532685</td><td>171838.8</td><td>49981</td><td>33.4</td><td> 7.966137</td></tr>\n",
              "\t<tr><td>Atlanta, GA    </td><td>2010</td><td>416670</td><td>152781.2</td><td>41631</td><td>33.2</td><td> 6.696835</td></tr>\n",
              "\t<tr><td>Atlanta, GA    </td><td>2011</td><td>427164</td><td>139138.9</td><td>43903</td><td>32.7</td><td>13.222761</td></tr>\n",
              "\t<tr><td>Atlanta, GA    </td><td>2012</td><td>438201</td><td>125489.5</td><td>46466</td><td>33.1</td><td>14.661379</td></tr>\n",
              "\t<tr><td>Atlanta, GA    </td><td>2013</td><td>441997</td><td>131061.1</td><td>46485</td><td>33.1</td><td>11.253640</td></tr>\n",
              "\t<tr><td>Atlanta, GA    </td><td>2014</td><td>449800</td><td>154395.4</td><td>46777</td><td>33.5</td><td>10.482968</td></tr>\n",
              "\t<tr><td>Atlanta, GA    </td><td>2015</td><td>460327</td><td>169023.9</td><td>50210</td><td>33.8</td><td> 7.382863</td></tr>\n",
              "\t<tr><td>⋮</td><td>⋮</td><td>⋮</td><td>⋮</td><td>⋮</td><td>⋮</td><td>⋮</td></tr>\n",
              "\t<tr><td>Washington, DC</td><td>2013</td><td>636535</td><td>336099.6</td><td> 67572</td><td>33.8</td><td>10.446569</td></tr>\n",
              "\t<tr><td>Washington, DC</td><td>2014</td><td>648586</td><td>362697.9</td><td> 71648</td><td>33.8</td><td> 8.859504</td></tr>\n",
              "\t<tr><td>Washington, DC</td><td>2015</td><td>663006</td><td>373022.7</td><td> 75628</td><td>33.8</td><td> 7.250638</td></tr>\n",
              "\t<tr><td>Washington, DC</td><td>2016</td><td>672022</td><td>383018.4</td><td> 75506</td><td>33.9</td><td> 6.919595</td></tr>\n",
              "\t<tr><td>Washington, DC</td><td>2017</td><td>684810</td><td>391994.5</td><td> 82372</td><td>34.0</td><td> 6.590778</td></tr>\n",
              "\t<tr><td>Washington, DC</td><td>2018</td><td>693798</td><td>405671.3</td><td> 85203</td><td>33.9</td><td> 7.541190</td></tr>\n",
              "\t<tr><td>Washington, DC</td><td>2019</td><td>697556</td><td>418772.4</td><td> 92266</td><td>34.3</td><td> 6.263807</td></tr>\n",
              "\t<tr><td>Washington, DC</td><td>2020</td><td>693253</td><td>434866.2</td><td> 90842</td><td>34.1</td><td> 7.119626</td></tr>\n",
              "\t<tr><td>Washington, DC</td><td>2021</td><td>661026</td><td>473189.9</td><td> 90088</td><td>34.8</td><td> 8.200761</td></tr>\n",
              "\t<tr><td>Washington, DC</td><td>2022</td><td>660942</td><td>514291.0</td><td>101027</td><td>34.9</td><td> 5.112622</td></tr>\n",
              "\t<tr><td>Washington, DC</td><td>2023</td><td>670127</td><td>532275.5</td><td>108210</td><td>34.9</td><td> 5.258939</td></tr>\n",
              "\t<tr><td>Wichita, KS   </td><td>2005</td><td>347984</td><td>109902.9</td><td> 40115</td><td>34.2</td><td>12.318049</td></tr>\n",
              "\t<tr><td>Wichita, KS   </td><td>2006</td><td>351349</td><td>107354.1</td><td> 41089</td><td>34.8</td><td>13.096823</td></tr>\n",
              "\t<tr><td>Wichita, KS   </td><td>2007</td><td>355266</td><td>111378.1</td><td> 42696</td><td>35.0</td><td>15.245344</td></tr>\n",
              "\t<tr><td>Wichita, KS   </td><td>2008</td><td>358047</td><td>114261.8</td><td> 44211</td><td>34.0</td><td>16.408939</td></tr>\n",
              "\t<tr><td>Wichita, KS   </td><td>2009</td><td>364108</td><td>115047.3</td><td> 44405</td><td>34.3</td><td> 9.897806</td></tr>\n",
              "\t<tr><td>Wichita, KS   </td><td>2010</td><td>378148</td><td>117629.0</td><td> 42694</td><td>33.9</td><td> 8.734963</td></tr>\n",
              "\t<tr><td>Wichita, KS   </td><td>2011</td><td>379792</td><td>114371.6</td><td> 44184</td><td>34.3</td><td>10.462393</td></tr>\n",
              "\t<tr><td>Wichita, KS   </td><td>2012</td><td>380372</td><td>110632.7</td><td> 43776</td><td>35.1</td><td> 8.034788</td></tr>\n",
              "\t<tr><td>Wichita, KS   </td><td>2013</td><td>380784</td><td>111972.3</td><td> 43538</td><td>34.0</td><td> 7.482116</td></tr>\n",
              "\t<tr><td>Wichita, KS   </td><td>2014</td><td>382385</td><td>112149.6</td><td> 45477</td><td>34.0</td><td> 6.848021</td></tr>\n",
              "\t<tr><td>Wichita, KS   </td><td>2015</td><td>383590</td><td>115130.5</td><td> 46894</td><td>34.6</td><td> 4.994331</td></tr>\n",
              "\t<tr><td>Wichita, KS   </td><td>2016</td><td>385045</td><td>121298.5</td><td> 49202</td><td>34.7</td><td> 5.754310</td></tr>\n",
              "\t<tr><td>Wichita, KS   </td><td>2017</td><td>385843</td><td>124458.6</td><td> 50504</td><td>35.9</td><td> 6.689720</td></tr>\n",
              "\t<tr><td>Wichita, KS   </td><td>2018</td><td>382995</td><td>128795.6</td><td> 51051</td><td>35.3</td><td> 4.901292</td></tr>\n",
              "\t<tr><td>Wichita, KS   </td><td>2019</td><td>384278</td><td>134578.1</td><td> 55056</td><td>35.3</td><td> 5.507219</td></tr>\n",
              "\t<tr><td>Wichita, KS   </td><td>2020</td><td>385454</td><td>144699.0</td><td> 53466</td><td>35.3</td><td> 5.570981</td></tr>\n",
              "\t<tr><td>Wichita, KS   </td><td>2021</td><td>390384</td><td>158485.9</td><td> 56293</td><td>35.6</td><td> 7.203338</td></tr>\n",
              "\t<tr><td>Wichita, KS   </td><td>2022</td><td>393547</td><td>177256.4</td><td> 59277</td><td>36.2</td><td> 6.025616</td></tr>\n",
              "\t<tr><td>Wichita, KS   </td><td>2023</td><td>392189</td><td>194398.3</td><td> 61281</td><td>36.8</td><td> 4.093885</td></tr>\n",
              "</tbody>\n",
              "</table>\n"
            ],
            "text/markdown": "\nA data.frame: 627 × 7\n\n| city &lt;chr&gt; | year &lt;int&gt; | geomobility &lt;dbl&gt; | housing_price &lt;dbl&gt; | income &lt;dbl&gt; | median_age &lt;dbl&gt; | unemployment &lt;dbl&gt; |\n|---|---|---|---|---|---|---|\n| Albuquerque, NM | 2005 | 482442 | 153134.1 | 41820 | 35.8 | 14.533702 |\n| Albuquerque, NM | 2006 | 485982 | 170259.0 | 43021 | 35.3 | 18.786019 |\n| Albuquerque, NM | 2007 | 505490 | 193305.9 | 43677 | 35.2 | 19.911130 |\n| Albuquerque, NM | 2008 | 506706 | 200215.2 | 46437 | 35.5 | 19.150972 |\n| Albuquerque, NM | 2009 | 519532 | 187486.9 | 44594 | 34.0 | 13.877965 |\n| Albuquerque, NM | 2010 | 540574 | 180903.8 | 46079 | 35.2 | 12.436434 |\n| Albuquerque, NM | 2011 | 544579 | 171329.0 | 43606 | 35.5 | 10.542100 |\n| Albuquerque, NM | 2012 | 548340 | 164757.2 | 45373 | 35.3 |  8.817330 |\n| Albuquerque, NM | 2013 | 549629 | 163877.8 | 48357 | 35.8 |  7.260191 |\n| Albuquerque, NM | 2014 | 550317 | 166668.6 | 46433 | 35.7 |  8.308843 |\n| Albuquerque, NM | 2015 | 552275 | 169546.4 | 47096 | 36.0 |  6.681222 |\n| Albuquerque, NM | 2016 | 553849 | 176038.3 | 50522 | 36.5 |  5.212342 |\n| Albuquerque, NM | 2017 | 551049 | 183130.7 | 50456 | 37.0 |  4.805098 |\n| Albuquerque, NM | 2018 | 553759 | 189542.2 | 51099 | 37.2 |  5.734425 |\n| Albuquerque, NM | 2019 | 553804 | 198026.6 | 55567 | 37.3 |  5.082790 |\n| Albuquerque, NM | 2020 | 554784 | 212967.8 | 53936 | 37.1 |  5.594741 |\n| Albuquerque, NM | 2021 | 558997 | 241066.3 | 58512 | 38.9 |  6.105605 |\n| Albuquerque, NM | 2022 | 554890 | 280587.6 | 64757 | 38.4 |  4.188383 |\n| Albuquerque, NM | 2023 | 555391 | 308189.9 | 67907 | 39.2 |  4.337847 |\n| Atlanta, GA     | 2005 | 388422 | 179505.7 | 39752 | 34.7 | 10.534444 |\n| Atlanta, GA     | 2006 | 438135 | 186545.6 | 41612 | 35.0 | 10.190236 |\n| Atlanta, GA     | 2007 | 425366 | 192300.5 | 47153 | 35.0 | 10.807414 |\n| Atlanta, GA     | 2008 | 447703 | 191047.2 | 48865 | 35.7 | 11.776196 |\n| Atlanta, GA     | 2009 | 532685 | 171838.8 | 49981 | 33.4 |  7.966137 |\n| Atlanta, GA     | 2010 | 416670 | 152781.2 | 41631 | 33.2 |  6.696835 |\n| Atlanta, GA     | 2011 | 427164 | 139138.9 | 43903 | 32.7 | 13.222761 |\n| Atlanta, GA     | 2012 | 438201 | 125489.5 | 46466 | 33.1 | 14.661379 |\n| Atlanta, GA     | 2013 | 441997 | 131061.1 | 46485 | 33.1 | 11.253640 |\n| Atlanta, GA     | 2014 | 449800 | 154395.4 | 46777 | 33.5 | 10.482968 |\n| Atlanta, GA     | 2015 | 460327 | 169023.9 | 50210 | 33.8 |  7.382863 |\n| ⋮ | ⋮ | ⋮ | ⋮ | ⋮ | ⋮ | ⋮ |\n| Washington, DC | 2013 | 636535 | 336099.6 |  67572 | 33.8 | 10.446569 |\n| Washington, DC | 2014 | 648586 | 362697.9 |  71648 | 33.8 |  8.859504 |\n| Washington, DC | 2015 | 663006 | 373022.7 |  75628 | 33.8 |  7.250638 |\n| Washington, DC | 2016 | 672022 | 383018.4 |  75506 | 33.9 |  6.919595 |\n| Washington, DC | 2017 | 684810 | 391994.5 |  82372 | 34.0 |  6.590778 |\n| Washington, DC | 2018 | 693798 | 405671.3 |  85203 | 33.9 |  7.541190 |\n| Washington, DC | 2019 | 697556 | 418772.4 |  92266 | 34.3 |  6.263807 |\n| Washington, DC | 2020 | 693253 | 434866.2 |  90842 | 34.1 |  7.119626 |\n| Washington, DC | 2021 | 661026 | 473189.9 |  90088 | 34.8 |  8.200761 |\n| Washington, DC | 2022 | 660942 | 514291.0 | 101027 | 34.9 |  5.112622 |\n| Washington, DC | 2023 | 670127 | 532275.5 | 108210 | 34.9 |  5.258939 |\n| Wichita, KS    | 2005 | 347984 | 109902.9 |  40115 | 34.2 | 12.318049 |\n| Wichita, KS    | 2006 | 351349 | 107354.1 |  41089 | 34.8 | 13.096823 |\n| Wichita, KS    | 2007 | 355266 | 111378.1 |  42696 | 35.0 | 15.245344 |\n| Wichita, KS    | 2008 | 358047 | 114261.8 |  44211 | 34.0 | 16.408939 |\n| Wichita, KS    | 2009 | 364108 | 115047.3 |  44405 | 34.3 |  9.897806 |\n| Wichita, KS    | 2010 | 378148 | 117629.0 |  42694 | 33.9 |  8.734963 |\n| Wichita, KS    | 2011 | 379792 | 114371.6 |  44184 | 34.3 | 10.462393 |\n| Wichita, KS    | 2012 | 380372 | 110632.7 |  43776 | 35.1 |  8.034788 |\n| Wichita, KS    | 2013 | 380784 | 111972.3 |  43538 | 34.0 |  7.482116 |\n| Wichita, KS    | 2014 | 382385 | 112149.6 |  45477 | 34.0 |  6.848021 |\n| Wichita, KS    | 2015 | 383590 | 115130.5 |  46894 | 34.6 |  4.994331 |\n| Wichita, KS    | 2016 | 385045 | 121298.5 |  49202 | 34.7 |  5.754310 |\n| Wichita, KS    | 2017 | 385843 | 124458.6 |  50504 | 35.9 |  6.689720 |\n| Wichita, KS    | 2018 | 382995 | 128795.6 |  51051 | 35.3 |  4.901292 |\n| Wichita, KS    | 2019 | 384278 | 134578.1 |  55056 | 35.3 |  5.507219 |\n| Wichita, KS    | 2020 | 385454 | 144699.0 |  53466 | 35.3 |  5.570981 |\n| Wichita, KS    | 2021 | 390384 | 158485.9 |  56293 | 35.6 |  7.203338 |\n| Wichita, KS    | 2022 | 393547 | 177256.4 |  59277 | 36.2 |  6.025616 |\n| Wichita, KS    | 2023 | 392189 | 194398.3 |  61281 | 36.8 |  4.093885 |\n\n",
            "text/latex": "A data.frame: 627 × 7\n\\begin{tabular}{lllllll}\n city & year & geomobility & housing\\_price & income & median\\_age & unemployment\\\\\n <chr> & <int> & <dbl> & <dbl> & <dbl> & <dbl> & <dbl>\\\\\n\\hline\n\t Albuquerque, NM & 2005 & 482442 & 153134.1 & 41820 & 35.8 & 14.533702\\\\\n\t Albuquerque, NM & 2006 & 485982 & 170259.0 & 43021 & 35.3 & 18.786019\\\\\n\t Albuquerque, NM & 2007 & 505490 & 193305.9 & 43677 & 35.2 & 19.911130\\\\\n\t Albuquerque, NM & 2008 & 506706 & 200215.2 & 46437 & 35.5 & 19.150972\\\\\n\t Albuquerque, NM & 2009 & 519532 & 187486.9 & 44594 & 34.0 & 13.877965\\\\\n\t Albuquerque, NM & 2010 & 540574 & 180903.8 & 46079 & 35.2 & 12.436434\\\\\n\t Albuquerque, NM & 2011 & 544579 & 171329.0 & 43606 & 35.5 & 10.542100\\\\\n\t Albuquerque, NM & 2012 & 548340 & 164757.2 & 45373 & 35.3 &  8.817330\\\\\n\t Albuquerque, NM & 2013 & 549629 & 163877.8 & 48357 & 35.8 &  7.260191\\\\\n\t Albuquerque, NM & 2014 & 550317 & 166668.6 & 46433 & 35.7 &  8.308843\\\\\n\t Albuquerque, NM & 2015 & 552275 & 169546.4 & 47096 & 36.0 &  6.681222\\\\\n\t Albuquerque, NM & 2016 & 553849 & 176038.3 & 50522 & 36.5 &  5.212342\\\\\n\t Albuquerque, NM & 2017 & 551049 & 183130.7 & 50456 & 37.0 &  4.805098\\\\\n\t Albuquerque, NM & 2018 & 553759 & 189542.2 & 51099 & 37.2 &  5.734425\\\\\n\t Albuquerque, NM & 2019 & 553804 & 198026.6 & 55567 & 37.3 &  5.082790\\\\\n\t Albuquerque, NM & 2020 & 554784 & 212967.8 & 53936 & 37.1 &  5.594741\\\\\n\t Albuquerque, NM & 2021 & 558997 & 241066.3 & 58512 & 38.9 &  6.105605\\\\\n\t Albuquerque, NM & 2022 & 554890 & 280587.6 & 64757 & 38.4 &  4.188383\\\\\n\t Albuquerque, NM & 2023 & 555391 & 308189.9 & 67907 & 39.2 &  4.337847\\\\\n\t Atlanta, GA     & 2005 & 388422 & 179505.7 & 39752 & 34.7 & 10.534444\\\\\n\t Atlanta, GA     & 2006 & 438135 & 186545.6 & 41612 & 35.0 & 10.190236\\\\\n\t Atlanta, GA     & 2007 & 425366 & 192300.5 & 47153 & 35.0 & 10.807414\\\\\n\t Atlanta, GA     & 2008 & 447703 & 191047.2 & 48865 & 35.7 & 11.776196\\\\\n\t Atlanta, GA     & 2009 & 532685 & 171838.8 & 49981 & 33.4 &  7.966137\\\\\n\t Atlanta, GA     & 2010 & 416670 & 152781.2 & 41631 & 33.2 &  6.696835\\\\\n\t Atlanta, GA     & 2011 & 427164 & 139138.9 & 43903 & 32.7 & 13.222761\\\\\n\t Atlanta, GA     & 2012 & 438201 & 125489.5 & 46466 & 33.1 & 14.661379\\\\\n\t Atlanta, GA     & 2013 & 441997 & 131061.1 & 46485 & 33.1 & 11.253640\\\\\n\t Atlanta, GA     & 2014 & 449800 & 154395.4 & 46777 & 33.5 & 10.482968\\\\\n\t Atlanta, GA     & 2015 & 460327 & 169023.9 & 50210 & 33.8 &  7.382863\\\\\n\t ⋮ & ⋮ & ⋮ & ⋮ & ⋮ & ⋮ & ⋮\\\\\n\t Washington, DC & 2013 & 636535 & 336099.6 &  67572 & 33.8 & 10.446569\\\\\n\t Washington, DC & 2014 & 648586 & 362697.9 &  71648 & 33.8 &  8.859504\\\\\n\t Washington, DC & 2015 & 663006 & 373022.7 &  75628 & 33.8 &  7.250638\\\\\n\t Washington, DC & 2016 & 672022 & 383018.4 &  75506 & 33.9 &  6.919595\\\\\n\t Washington, DC & 2017 & 684810 & 391994.5 &  82372 & 34.0 &  6.590778\\\\\n\t Washington, DC & 2018 & 693798 & 405671.3 &  85203 & 33.9 &  7.541190\\\\\n\t Washington, DC & 2019 & 697556 & 418772.4 &  92266 & 34.3 &  6.263807\\\\\n\t Washington, DC & 2020 & 693253 & 434866.2 &  90842 & 34.1 &  7.119626\\\\\n\t Washington, DC & 2021 & 661026 & 473189.9 &  90088 & 34.8 &  8.200761\\\\\n\t Washington, DC & 2022 & 660942 & 514291.0 & 101027 & 34.9 &  5.112622\\\\\n\t Washington, DC & 2023 & 670127 & 532275.5 & 108210 & 34.9 &  5.258939\\\\\n\t Wichita, KS    & 2005 & 347984 & 109902.9 &  40115 & 34.2 & 12.318049\\\\\n\t Wichita, KS    & 2006 & 351349 & 107354.1 &  41089 & 34.8 & 13.096823\\\\\n\t Wichita, KS    & 2007 & 355266 & 111378.1 &  42696 & 35.0 & 15.245344\\\\\n\t Wichita, KS    & 2008 & 358047 & 114261.8 &  44211 & 34.0 & 16.408939\\\\\n\t Wichita, KS    & 2009 & 364108 & 115047.3 &  44405 & 34.3 &  9.897806\\\\\n\t Wichita, KS    & 2010 & 378148 & 117629.0 &  42694 & 33.9 &  8.734963\\\\\n\t Wichita, KS    & 2011 & 379792 & 114371.6 &  44184 & 34.3 & 10.462393\\\\\n\t Wichita, KS    & 2012 & 380372 & 110632.7 &  43776 & 35.1 &  8.034788\\\\\n\t Wichita, KS    & 2013 & 380784 & 111972.3 &  43538 & 34.0 &  7.482116\\\\\n\t Wichita, KS    & 2014 & 382385 & 112149.6 &  45477 & 34.0 &  6.848021\\\\\n\t Wichita, KS    & 2015 & 383590 & 115130.5 &  46894 & 34.6 &  4.994331\\\\\n\t Wichita, KS    & 2016 & 385045 & 121298.5 &  49202 & 34.7 &  5.754310\\\\\n\t Wichita, KS    & 2017 & 385843 & 124458.6 &  50504 & 35.9 &  6.689720\\\\\n\t Wichita, KS    & 2018 & 382995 & 128795.6 &  51051 & 35.3 &  4.901292\\\\\n\t Wichita, KS    & 2019 & 384278 & 134578.1 &  55056 & 35.3 &  5.507219\\\\\n\t Wichita, KS    & 2020 & 385454 & 144699.0 &  53466 & 35.3 &  5.570981\\\\\n\t Wichita, KS    & 2021 & 390384 & 158485.9 &  56293 & 35.6 &  7.203338\\\\\n\t Wichita, KS    & 2022 & 393547 & 177256.4 &  59277 & 36.2 &  6.025616\\\\\n\t Wichita, KS    & 2023 & 392189 & 194398.3 &  61281 & 36.8 &  4.093885\\\\\n\\end{tabular}\n",
            "text/plain": [
              "    city            year geomobility housing_price income median_age\n",
              "1   Albuquerque, NM 2005 482442      153134.1      41820  35.8      \n",
              "2   Albuquerque, NM 2006 485982      170259.0      43021  35.3      \n",
              "3   Albuquerque, NM 2007 505490      193305.9      43677  35.2      \n",
              "4   Albuquerque, NM 2008 506706      200215.2      46437  35.5      \n",
              "5   Albuquerque, NM 2009 519532      187486.9      44594  34.0      \n",
              "6   Albuquerque, NM 2010 540574      180903.8      46079  35.2      \n",
              "7   Albuquerque, NM 2011 544579      171329.0      43606  35.5      \n",
              "8   Albuquerque, NM 2012 548340      164757.2      45373  35.3      \n",
              "9   Albuquerque, NM 2013 549629      163877.8      48357  35.8      \n",
              "10  Albuquerque, NM 2014 550317      166668.6      46433  35.7      \n",
              "11  Albuquerque, NM 2015 552275      169546.4      47096  36.0      \n",
              "12  Albuquerque, NM 2016 553849      176038.3      50522  36.5      \n",
              "13  Albuquerque, NM 2017 551049      183130.7      50456  37.0      \n",
              "14  Albuquerque, NM 2018 553759      189542.2      51099  37.2      \n",
              "15  Albuquerque, NM 2019 553804      198026.6      55567  37.3      \n",
              "16  Albuquerque, NM 2020 554784      212967.8      53936  37.1      \n",
              "17  Albuquerque, NM 2021 558997      241066.3      58512  38.9      \n",
              "18  Albuquerque, NM 2022 554890      280587.6      64757  38.4      \n",
              "19  Albuquerque, NM 2023 555391      308189.9      67907  39.2      \n",
              "20  Atlanta, GA     2005 388422      179505.7      39752  34.7      \n",
              "21  Atlanta, GA     2006 438135      186545.6      41612  35.0      \n",
              "22  Atlanta, GA     2007 425366      192300.5      47153  35.0      \n",
              "23  Atlanta, GA     2008 447703      191047.2      48865  35.7      \n",
              "24  Atlanta, GA     2009 532685      171838.8      49981  33.4      \n",
              "25  Atlanta, GA     2010 416670      152781.2      41631  33.2      \n",
              "26  Atlanta, GA     2011 427164      139138.9      43903  32.7      \n",
              "27  Atlanta, GA     2012 438201      125489.5      46466  33.1      \n",
              "28  Atlanta, GA     2013 441997      131061.1      46485  33.1      \n",
              "29  Atlanta, GA     2014 449800      154395.4      46777  33.5      \n",
              "30  Atlanta, GA     2015 460327      169023.9      50210  33.8      \n",
              "⋮   ⋮               ⋮    ⋮           ⋮             ⋮      ⋮         \n",
              "598 Washington, DC  2013 636535      336099.6       67572 33.8      \n",
              "599 Washington, DC  2014 648586      362697.9       71648 33.8      \n",
              "600 Washington, DC  2015 663006      373022.7       75628 33.8      \n",
              "601 Washington, DC  2016 672022      383018.4       75506 33.9      \n",
              "602 Washington, DC  2017 684810      391994.5       82372 34.0      \n",
              "603 Washington, DC  2018 693798      405671.3       85203 33.9      \n",
              "604 Washington, DC  2019 697556      418772.4       92266 34.3      \n",
              "605 Washington, DC  2020 693253      434866.2       90842 34.1      \n",
              "606 Washington, DC  2021 661026      473189.9       90088 34.8      \n",
              "607 Washington, DC  2022 660942      514291.0      101027 34.9      \n",
              "608 Washington, DC  2023 670127      532275.5      108210 34.9      \n",
              "609 Wichita, KS     2005 347984      109902.9       40115 34.2      \n",
              "610 Wichita, KS     2006 351349      107354.1       41089 34.8      \n",
              "611 Wichita, KS     2007 355266      111378.1       42696 35.0      \n",
              "612 Wichita, KS     2008 358047      114261.8       44211 34.0      \n",
              "613 Wichita, KS     2009 364108      115047.3       44405 34.3      \n",
              "614 Wichita, KS     2010 378148      117629.0       42694 33.9      \n",
              "615 Wichita, KS     2011 379792      114371.6       44184 34.3      \n",
              "616 Wichita, KS     2012 380372      110632.7       43776 35.1      \n",
              "617 Wichita, KS     2013 380784      111972.3       43538 34.0      \n",
              "618 Wichita, KS     2014 382385      112149.6       45477 34.0      \n",
              "619 Wichita, KS     2015 383590      115130.5       46894 34.6      \n",
              "620 Wichita, KS     2016 385045      121298.5       49202 34.7      \n",
              "621 Wichita, KS     2017 385843      124458.6       50504 35.9      \n",
              "622 Wichita, KS     2018 382995      128795.6       51051 35.3      \n",
              "623 Wichita, KS     2019 384278      134578.1       55056 35.3      \n",
              "624 Wichita, KS     2020 385454      144699.0       53466 35.3      \n",
              "625 Wichita, KS     2021 390384      158485.9       56293 35.6      \n",
              "626 Wichita, KS     2022 393547      177256.4       59277 36.2      \n",
              "627 Wichita, KS     2023 392189      194398.3       61281 36.8      \n",
              "    unemployment\n",
              "1   14.533702   \n",
              "2   18.786019   \n",
              "3   19.911130   \n",
              "4   19.150972   \n",
              "5   13.877965   \n",
              "6   12.436434   \n",
              "7   10.542100   \n",
              "8    8.817330   \n",
              "9    7.260191   \n",
              "10   8.308843   \n",
              "11   6.681222   \n",
              "12   5.212342   \n",
              "13   4.805098   \n",
              "14   5.734425   \n",
              "15   5.082790   \n",
              "16   5.594741   \n",
              "17   6.105605   \n",
              "18   4.188383   \n",
              "19   4.337847   \n",
              "20  10.534444   \n",
              "21  10.190236   \n",
              "22  10.807414   \n",
              "23  11.776196   \n",
              "24   7.966137   \n",
              "25   6.696835   \n",
              "26  13.222761   \n",
              "27  14.661379   \n",
              "28  11.253640   \n",
              "29  10.482968   \n",
              "30   7.382863   \n",
              "⋮   ⋮           \n",
              "598 10.446569   \n",
              "599  8.859504   \n",
              "600  7.250638   \n",
              "601  6.919595   \n",
              "602  6.590778   \n",
              "603  7.541190   \n",
              "604  6.263807   \n",
              "605  7.119626   \n",
              "606  8.200761   \n",
              "607  5.112622   \n",
              "608  5.258939   \n",
              "609 12.318049   \n",
              "610 13.096823   \n",
              "611 15.245344   \n",
              "612 16.408939   \n",
              "613  9.897806   \n",
              "614  8.734963   \n",
              "615 10.462393   \n",
              "616  8.034788   \n",
              "617  7.482116   \n",
              "618  6.848021   \n",
              "619  4.994331   \n",
              "620  5.754310   \n",
              "621  6.689720   \n",
              "622  4.901292   \n",
              "623  5.507219   \n",
              "624  5.570981   \n",
              "625  7.203338   \n",
              "626  6.025616   \n",
              "627  4.093885   "
            ]
          },
          "metadata": {}
        }
      ]
    },
    {
      "cell_type": "code",
      "source": [
        "truck <- read.csv(\"truckcost.csv\")"
      ],
      "metadata": {
        "id": "mzqdMf-Jx2nn"
      },
      "execution_count": 116,
      "outputs": []
    },
    {
      "cell_type": "code",
      "source": [
        "truck <- select(truck, -X)"
      ],
      "metadata": {
        "id": "LrIvBqobx8gF"
      },
      "execution_count": 118,
      "outputs": []
    },
    {
      "cell_type": "code",
      "source": [
        "colnames(truck) <- c('city', 'year', 'truck_cost')"
      ],
      "metadata": {
        "id": "C7MOXkE9yA4B"
      },
      "execution_count": 120,
      "outputs": []
    },
    {
      "cell_type": "code",
      "source": [
        "head(truck)"
      ],
      "metadata": {
        "colab": {
          "base_uri": "https://localhost:8080/",
          "height": 286
        },
        "id": "YqC7ATAdx5fL",
        "outputId": "ae028c99-7b84-449c-c4bb-9a65b52bce4f"
      },
      "execution_count": 121,
      "outputs": [
        {
          "output_type": "display_data",
          "data": {
            "text/html": [
              "<table class=\"dataframe\">\n",
              "<caption>A data.frame: 6 × 3</caption>\n",
              "<thead>\n",
              "\t<tr><th></th><th scope=col>city</th><th scope=col>year</th><th scope=col>truck_cost</th></tr>\n",
              "\t<tr><th></th><th scope=col>&lt;chr&gt;</th><th scope=col>&lt;int&gt;</th><th scope=col>&lt;dbl&gt;</th></tr>\n",
              "</thead>\n",
              "<tbody>\n",
              "\t<tr><th scope=row>1</th><td>Albuquerque, NM</td><td>2005</td><td>2110.948</td></tr>\n",
              "\t<tr><th scope=row>2</th><td>Albuquerque, NM</td><td>2006</td><td>2183.914</td></tr>\n",
              "\t<tr><th scope=row>3</th><td>Albuquerque, NM</td><td>2007</td><td>2136.401</td></tr>\n",
              "\t<tr><th scope=row>4</th><td>Albuquerque, NM</td><td>2008</td><td>1914.107</td></tr>\n",
              "\t<tr><th scope=row>5</th><td>Albuquerque, NM</td><td>2009</td><td>1568.787</td></tr>\n",
              "\t<tr><th scope=row>6</th><td>Albuquerque, NM</td><td>2010</td><td>1750.356</td></tr>\n",
              "</tbody>\n",
              "</table>\n"
            ],
            "text/markdown": "\nA data.frame: 6 × 3\n\n| <!--/--> | city &lt;chr&gt; | year &lt;int&gt; | truck_cost &lt;dbl&gt; |\n|---|---|---|---|\n| 1 | Albuquerque, NM | 2005 | 2110.948 |\n| 2 | Albuquerque, NM | 2006 | 2183.914 |\n| 3 | Albuquerque, NM | 2007 | 2136.401 |\n| 4 | Albuquerque, NM | 2008 | 1914.107 |\n| 5 | Albuquerque, NM | 2009 | 1568.787 |\n| 6 | Albuquerque, NM | 2010 | 1750.356 |\n\n",
            "text/latex": "A data.frame: 6 × 3\n\\begin{tabular}{r|lll}\n  & city & year & truck\\_cost\\\\\n  & <chr> & <int> & <dbl>\\\\\n\\hline\n\t1 & Albuquerque, NM & 2005 & 2110.948\\\\\n\t2 & Albuquerque, NM & 2006 & 2183.914\\\\\n\t3 & Albuquerque, NM & 2007 & 2136.401\\\\\n\t4 & Albuquerque, NM & 2008 & 1914.107\\\\\n\t5 & Albuquerque, NM & 2009 & 1568.787\\\\\n\t6 & Albuquerque, NM & 2010 & 1750.356\\\\\n\\end{tabular}\n",
            "text/plain": [
              "  city            year truck_cost\n",
              "1 Albuquerque, NM 2005 2110.948  \n",
              "2 Albuquerque, NM 2006 2183.914  \n",
              "3 Albuquerque, NM 2007 2136.401  \n",
              "4 Albuquerque, NM 2008 1914.107  \n",
              "5 Albuquerque, NM 2009 1568.787  \n",
              "6 Albuquerque, NM 2010 1750.356  "
            ]
          },
          "metadata": {}
        }
      ]
    },
    {
      "cell_type": "code",
      "source": [
        "merged_data <- merge(merged_data, truck, by = c('city', 'year'))"
      ],
      "metadata": {
        "id": "iSH2evK3ZPBX"
      },
      "execution_count": 122,
      "outputs": []
    },
    {
      "cell_type": "code",
      "source": [
        "merged_data"
      ],
      "metadata": {
        "colab": {
          "base_uri": "https://localhost:8080/",
          "height": 1000
        },
        "id": "7drVYqXZaNZ4",
        "outputId": "2c77bd74-2592-4bc7-fd61-68d4874f1a88"
      },
      "execution_count": 123,
      "outputs": [
        {
          "output_type": "display_data",
          "data": {
            "text/html": [
              "<table class=\"dataframe\">\n",
              "<caption>A data.frame: 627 × 8</caption>\n",
              "<thead>\n",
              "\t<tr><th scope=col>city</th><th scope=col>year</th><th scope=col>geomobility</th><th scope=col>housing_price</th><th scope=col>income</th><th scope=col>median_age</th><th scope=col>unemployment</th><th scope=col>truck_cost</th></tr>\n",
              "\t<tr><th scope=col>&lt;chr&gt;</th><th scope=col>&lt;int&gt;</th><th scope=col>&lt;dbl&gt;</th><th scope=col>&lt;dbl&gt;</th><th scope=col>&lt;dbl&gt;</th><th scope=col>&lt;dbl&gt;</th><th scope=col>&lt;dbl&gt;</th><th scope=col>&lt;dbl&gt;</th></tr>\n",
              "</thead>\n",
              "<tbody>\n",
              "\t<tr><td>Albuquerque, NM</td><td>2005</td><td>482442</td><td>153134.1</td><td>41820</td><td>35.8</td><td>14.533702</td><td>2110.948</td></tr>\n",
              "\t<tr><td>Albuquerque, NM</td><td>2006</td><td>485982</td><td>170259.0</td><td>43021</td><td>35.3</td><td>18.786019</td><td>2183.914</td></tr>\n",
              "\t<tr><td>Albuquerque, NM</td><td>2007</td><td>505490</td><td>193305.9</td><td>43677</td><td>35.2</td><td>19.911130</td><td>2136.401</td></tr>\n",
              "\t<tr><td>Albuquerque, NM</td><td>2008</td><td>506706</td><td>200215.2</td><td>46437</td><td>35.5</td><td>19.150972</td><td>1914.107</td></tr>\n",
              "\t<tr><td>Albuquerque, NM</td><td>2009</td><td>519532</td><td>187486.9</td><td>44594</td><td>34.0</td><td>13.877965</td><td>1568.787</td></tr>\n",
              "\t<tr><td>Albuquerque, NM</td><td>2010</td><td>540574</td><td>180903.8</td><td>46079</td><td>35.2</td><td>12.436434</td><td>1750.356</td></tr>\n",
              "\t<tr><td>Albuquerque, NM</td><td>2011</td><td>544579</td><td>171329.0</td><td>43606</td><td>35.5</td><td>10.542100</td><td>1882.714</td></tr>\n",
              "\t<tr><td>Albuquerque, NM</td><td>2012</td><td>548340</td><td>164757.2</td><td>45373</td><td>35.3</td><td> 8.817330</td><td>1904.774</td></tr>\n",
              "\t<tr><td>Albuquerque, NM</td><td>2013</td><td>549629</td><td>163877.8</td><td>48357</td><td>35.8</td><td> 7.260191</td><td>1886.108</td></tr>\n",
              "\t<tr><td>Albuquerque, NM</td><td>2014</td><td>550317</td><td>166668.6</td><td>46433</td><td>35.7</td><td> 8.308843</td><td>1957.378</td></tr>\n",
              "\t<tr><td>Albuquerque, NM</td><td>2015</td><td>552275</td><td>169546.4</td><td>47096</td><td>36.0</td><td> 6.681222</td><td>1882.714</td></tr>\n",
              "\t<tr><td>Albuquerque, NM</td><td>2016</td><td>553849</td><td>176038.3</td><td>50522</td><td>36.5</td><td> 5.212342</td><td>1847.928</td></tr>\n",
              "\t<tr><td>Albuquerque, NM</td><td>2017</td><td>551049</td><td>183130.7</td><td>50456</td><td>37.0</td><td> 4.805098</td><td>1949.742</td></tr>\n",
              "\t<tr><td>Albuquerque, NM</td><td>2018</td><td>553759</td><td>189542.2</td><td>51099</td><td>37.2</td><td> 5.734425</td><td>2079.555</td></tr>\n",
              "\t<tr><td>Albuquerque, NM</td><td>2019</td><td>553804</td><td>198026.6</td><td>55567</td><td>37.3</td><td> 5.082790</td><td>1997.255</td></tr>\n",
              "\t<tr><td>Albuquerque, NM</td><td>2020</td><td>554784</td><td>212967.8</td><td>53936</td><td>37.1</td><td> 5.594741</td><td>1842.837</td></tr>\n",
              "\t<tr><td>Albuquerque, NM</td><td>2021</td><td>558997</td><td>241066.3</td><td>58512</td><td>38.9</td><td> 6.105605</td><td>2023.557</td></tr>\n",
              "\t<tr><td>Albuquerque, NM</td><td>2022</td><td>554890</td><td>280587.6</td><td>64757</td><td>38.4</td><td> 4.188383</td><td>2041.375</td></tr>\n",
              "\t<tr><td>Albuquerque, NM</td><td>2023</td><td>555391</td><td>308189.9</td><td>67907</td><td>39.2</td><td> 4.337847</td><td>1940.409</td></tr>\n",
              "\t<tr><td>Atlanta, GA    </td><td>2005</td><td>388422</td><td>179505.7</td><td>39752</td><td>34.7</td><td>10.534444</td><td>2039.852</td></tr>\n",
              "\t<tr><td>Atlanta, GA    </td><td>2006</td><td>438135</td><td>186545.6</td><td>41612</td><td>35.0</td><td>10.190236</td><td>2110.361</td></tr>\n",
              "\t<tr><td>Atlanta, GA    </td><td>2007</td><td>425366</td><td>192300.5</td><td>47153</td><td>35.0</td><td>10.807414</td><td>2064.448</td></tr>\n",
              "\t<tr><td>Atlanta, GA    </td><td>2008</td><td>447703</td><td>191047.2</td><td>48865</td><td>35.7</td><td>11.776196</td><td>1849.640</td></tr>\n",
              "\t<tr><td>Atlanta, GA    </td><td>2009</td><td>532685</td><td>171838.8</td><td>49981</td><td>33.4</td><td> 7.966137</td><td>1515.951</td></tr>\n",
              "\t<tr><td>Atlanta, GA    </td><td>2010</td><td>416670</td><td>152781.2</td><td>41631</td><td>33.2</td><td> 6.696835</td><td>1691.404</td></tr>\n",
              "\t<tr><td>Atlanta, GA    </td><td>2011</td><td>427164</td><td>139138.9</td><td>43903</td><td>32.7</td><td>13.222761</td><td>1819.305</td></tr>\n",
              "\t<tr><td>Atlanta, GA    </td><td>2012</td><td>438201</td><td>125489.5</td><td>46466</td><td>33.1</td><td>14.661379</td><td>1840.622</td></tr>\n",
              "\t<tr><td>Atlanta, GA    </td><td>2013</td><td>441997</td><td>131061.1</td><td>46485</td><td>33.1</td><td>11.253640</td><td>1822.584</td></tr>\n",
              "\t<tr><td>Atlanta, GA    </td><td>2014</td><td>449800</td><td>154395.4</td><td>46777</td><td>33.5</td><td>10.482968</td><td>1891.454</td></tr>\n",
              "\t<tr><td>Atlanta, GA    </td><td>2015</td><td>460327</td><td>169023.9</td><td>50210</td><td>33.8</td><td> 7.382863</td><td>1819.305</td></tr>\n",
              "\t<tr><td>⋮</td><td>⋮</td><td>⋮</td><td>⋮</td><td>⋮</td><td>⋮</td><td>⋮</td><td>⋮</td></tr>\n",
              "\t<tr><td>Washington, DC</td><td>2013</td><td>636535</td><td>336099.6</td><td> 67572</td><td>33.8</td><td>10.446569</td><td>2093.422</td></tr>\n",
              "\t<tr><td>Washington, DC</td><td>2014</td><td>648586</td><td>362697.9</td><td> 71648</td><td>33.8</td><td> 8.859504</td><td>2172.526</td></tr>\n",
              "\t<tr><td>Washington, DC</td><td>2015</td><td>663006</td><td>373022.7</td><td> 75628</td><td>33.8</td><td> 7.250638</td><td>2089.656</td></tr>\n",
              "\t<tr><td>Washington, DC</td><td>2016</td><td>672022</td><td>383018.4</td><td> 75506</td><td>33.9</td><td> 6.919595</td><td>2051.046</td></tr>\n",
              "\t<tr><td>Washington, DC</td><td>2017</td><td>684810</td><td>391994.5</td><td> 82372</td><td>34.0</td><td> 6.590778</td><td>2164.051</td></tr>\n",
              "\t<tr><td>Washington, DC</td><td>2018</td><td>693798</td><td>405671.3</td><td> 85203</td><td>33.9</td><td> 7.541190</td><td>2308.133</td></tr>\n",
              "\t<tr><td>Washington, DC</td><td>2019</td><td>697556</td><td>418772.4</td><td> 92266</td><td>34.3</td><td> 6.263807</td><td>2216.787</td></tr>\n",
              "\t<tr><td>Washington, DC</td><td>2020</td><td>693253</td><td>434866.2</td><td> 90842</td><td>34.1</td><td> 7.119626</td><td>2045.395</td></tr>\n",
              "\t<tr><td>Washington, DC</td><td>2021</td><td>661026</td><td>473189.9</td><td> 90088</td><td>34.8</td><td> 8.200761</td><td>2245.980</td></tr>\n",
              "\t<tr><td>Washington, DC</td><td>2022</td><td>660942</td><td>514291.0</td><td>101027</td><td>34.9</td><td> 5.112622</td><td>2265.756</td></tr>\n",
              "\t<tr><td>Washington, DC</td><td>2023</td><td>670127</td><td>532275.5</td><td>108210</td><td>34.9</td><td> 5.258939</td><td>2153.692</td></tr>\n",
              "\t<tr><td>Wichita, KS   </td><td>2005</td><td>347984</td><td>109902.9</td><td> 40115</td><td>34.2</td><td>12.318049</td><td>1981.809</td></tr>\n",
              "\t<tr><td>Wichita, KS   </td><td>2006</td><td>351349</td><td>107354.1</td><td> 41089</td><td>34.8</td><td>13.096823</td><td>2050.312</td></tr>\n",
              "\t<tr><td>Wichita, KS   </td><td>2007</td><td>355266</td><td>111378.1</td><td> 42696</td><td>35.0</td><td>15.245344</td><td>2005.705</td></tr>\n",
              "\t<tr><td>Wichita, KS   </td><td>2008</td><td>358047</td><td>114261.8</td><td> 44211</td><td>34.0</td><td>16.408939</td><td>1797.010</td></tr>\n",
              "\t<tr><td>Wichita, KS   </td><td>2009</td><td>364108</td><td>115047.3</td><td> 44405</td><td>34.3</td><td> 9.897806</td><td>1472.815</td></tr>\n",
              "\t<tr><td>Wichita, KS   </td><td>2010</td><td>378148</td><td>117629.0</td><td> 42694</td><td>33.9</td><td> 8.734963</td><td>1643.276</td></tr>\n",
              "\t<tr><td>Wichita, KS   </td><td>2011</td><td>379792</td><td>114371.6</td><td> 44184</td><td>34.3</td><td>10.462393</td><td>1767.538</td></tr>\n",
              "\t<tr><td>Wichita, KS   </td><td>2012</td><td>380372</td><td>110632.7</td><td> 43776</td><td>35.1</td><td> 8.034788</td><td>1788.248</td></tr>\n",
              "\t<tr><td>Wichita, KS   </td><td>2013</td><td>380784</td><td>111972.3</td><td> 43538</td><td>34.0</td><td> 7.482116</td><td>1770.724</td></tr>\n",
              "\t<tr><td>Wichita, KS   </td><td>2014</td><td>382385</td><td>112149.6</td><td> 45477</td><td>34.0</td><td> 6.848021</td><td>1837.634</td></tr>\n",
              "\t<tr><td>Wichita, KS   </td><td>2015</td><td>383590</td><td>115130.5</td><td> 46894</td><td>34.6</td><td> 4.994331</td><td>1767.538</td></tr>\n",
              "\t<tr><td>Wichita, KS   </td><td>2016</td><td>385045</td><td>121298.5</td><td> 49202</td><td>34.7</td><td> 5.754310</td><td>1734.879</td></tr>\n",
              "\t<tr><td>Wichita, KS   </td><td>2017</td><td>385843</td><td>124458.6</td><td> 50504</td><td>35.9</td><td> 6.689720</td><td>1830.465</td></tr>\n",
              "\t<tr><td>Wichita, KS   </td><td>2018</td><td>382995</td><td>128795.6</td><td> 51051</td><td>35.3</td><td> 4.901292</td><td>1952.336</td></tr>\n",
              "\t<tr><td>Wichita, KS   </td><td>2019</td><td>384278</td><td>134578.1</td><td> 55056</td><td>35.3</td><td> 5.507219</td><td>1875.071</td></tr>\n",
              "\t<tr><td>Wichita, KS   </td><td>2020</td><td>385454</td><td>144699.0</td><td> 53466</td><td>35.3</td><td> 5.570981</td><td>1730.100</td></tr>\n",
              "\t<tr><td>Wichita, KS   </td><td>2021</td><td>390384</td><td>158485.9</td><td> 56293</td><td>35.6</td><td> 7.203338</td><td>1899.764</td></tr>\n",
              "\t<tr><td>Wichita, KS   </td><td>2022</td><td>393547</td><td>177256.4</td><td> 59277</td><td>36.2</td><td> 6.025616</td><td>1916.492</td></tr>\n",
              "\t<tr><td>Wichita, KS   </td><td>2023</td><td>392189</td><td>194398.3</td><td> 61281</td><td>36.8</td><td> 4.093885</td><td>1821.703</td></tr>\n",
              "</tbody>\n",
              "</table>\n"
            ],
            "text/markdown": "\nA data.frame: 627 × 8\n\n| city &lt;chr&gt; | year &lt;int&gt; | geomobility &lt;dbl&gt; | housing_price &lt;dbl&gt; | income &lt;dbl&gt; | median_age &lt;dbl&gt; | unemployment &lt;dbl&gt; | truck_cost &lt;dbl&gt; |\n|---|---|---|---|---|---|---|---|\n| Albuquerque, NM | 2005 | 482442 | 153134.1 | 41820 | 35.8 | 14.533702 | 2110.948 |\n| Albuquerque, NM | 2006 | 485982 | 170259.0 | 43021 | 35.3 | 18.786019 | 2183.914 |\n| Albuquerque, NM | 2007 | 505490 | 193305.9 | 43677 | 35.2 | 19.911130 | 2136.401 |\n| Albuquerque, NM | 2008 | 506706 | 200215.2 | 46437 | 35.5 | 19.150972 | 1914.107 |\n| Albuquerque, NM | 2009 | 519532 | 187486.9 | 44594 | 34.0 | 13.877965 | 1568.787 |\n| Albuquerque, NM | 2010 | 540574 | 180903.8 | 46079 | 35.2 | 12.436434 | 1750.356 |\n| Albuquerque, NM | 2011 | 544579 | 171329.0 | 43606 | 35.5 | 10.542100 | 1882.714 |\n| Albuquerque, NM | 2012 | 548340 | 164757.2 | 45373 | 35.3 |  8.817330 | 1904.774 |\n| Albuquerque, NM | 2013 | 549629 | 163877.8 | 48357 | 35.8 |  7.260191 | 1886.108 |\n| Albuquerque, NM | 2014 | 550317 | 166668.6 | 46433 | 35.7 |  8.308843 | 1957.378 |\n| Albuquerque, NM | 2015 | 552275 | 169546.4 | 47096 | 36.0 |  6.681222 | 1882.714 |\n| Albuquerque, NM | 2016 | 553849 | 176038.3 | 50522 | 36.5 |  5.212342 | 1847.928 |\n| Albuquerque, NM | 2017 | 551049 | 183130.7 | 50456 | 37.0 |  4.805098 | 1949.742 |\n| Albuquerque, NM | 2018 | 553759 | 189542.2 | 51099 | 37.2 |  5.734425 | 2079.555 |\n| Albuquerque, NM | 2019 | 553804 | 198026.6 | 55567 | 37.3 |  5.082790 | 1997.255 |\n| Albuquerque, NM | 2020 | 554784 | 212967.8 | 53936 | 37.1 |  5.594741 | 1842.837 |\n| Albuquerque, NM | 2021 | 558997 | 241066.3 | 58512 | 38.9 |  6.105605 | 2023.557 |\n| Albuquerque, NM | 2022 | 554890 | 280587.6 | 64757 | 38.4 |  4.188383 | 2041.375 |\n| Albuquerque, NM | 2023 | 555391 | 308189.9 | 67907 | 39.2 |  4.337847 | 1940.409 |\n| Atlanta, GA     | 2005 | 388422 | 179505.7 | 39752 | 34.7 | 10.534444 | 2039.852 |\n| Atlanta, GA     | 2006 | 438135 | 186545.6 | 41612 | 35.0 | 10.190236 | 2110.361 |\n| Atlanta, GA     | 2007 | 425366 | 192300.5 | 47153 | 35.0 | 10.807414 | 2064.448 |\n| Atlanta, GA     | 2008 | 447703 | 191047.2 | 48865 | 35.7 | 11.776196 | 1849.640 |\n| Atlanta, GA     | 2009 | 532685 | 171838.8 | 49981 | 33.4 |  7.966137 | 1515.951 |\n| Atlanta, GA     | 2010 | 416670 | 152781.2 | 41631 | 33.2 |  6.696835 | 1691.404 |\n| Atlanta, GA     | 2011 | 427164 | 139138.9 | 43903 | 32.7 | 13.222761 | 1819.305 |\n| Atlanta, GA     | 2012 | 438201 | 125489.5 | 46466 | 33.1 | 14.661379 | 1840.622 |\n| Atlanta, GA     | 2013 | 441997 | 131061.1 | 46485 | 33.1 | 11.253640 | 1822.584 |\n| Atlanta, GA     | 2014 | 449800 | 154395.4 | 46777 | 33.5 | 10.482968 | 1891.454 |\n| Atlanta, GA     | 2015 | 460327 | 169023.9 | 50210 | 33.8 |  7.382863 | 1819.305 |\n| ⋮ | ⋮ | ⋮ | ⋮ | ⋮ | ⋮ | ⋮ | ⋮ |\n| Washington, DC | 2013 | 636535 | 336099.6 |  67572 | 33.8 | 10.446569 | 2093.422 |\n| Washington, DC | 2014 | 648586 | 362697.9 |  71648 | 33.8 |  8.859504 | 2172.526 |\n| Washington, DC | 2015 | 663006 | 373022.7 |  75628 | 33.8 |  7.250638 | 2089.656 |\n| Washington, DC | 2016 | 672022 | 383018.4 |  75506 | 33.9 |  6.919595 | 2051.046 |\n| Washington, DC | 2017 | 684810 | 391994.5 |  82372 | 34.0 |  6.590778 | 2164.051 |\n| Washington, DC | 2018 | 693798 | 405671.3 |  85203 | 33.9 |  7.541190 | 2308.133 |\n| Washington, DC | 2019 | 697556 | 418772.4 |  92266 | 34.3 |  6.263807 | 2216.787 |\n| Washington, DC | 2020 | 693253 | 434866.2 |  90842 | 34.1 |  7.119626 | 2045.395 |\n| Washington, DC | 2021 | 661026 | 473189.9 |  90088 | 34.8 |  8.200761 | 2245.980 |\n| Washington, DC | 2022 | 660942 | 514291.0 | 101027 | 34.9 |  5.112622 | 2265.756 |\n| Washington, DC | 2023 | 670127 | 532275.5 | 108210 | 34.9 |  5.258939 | 2153.692 |\n| Wichita, KS    | 2005 | 347984 | 109902.9 |  40115 | 34.2 | 12.318049 | 1981.809 |\n| Wichita, KS    | 2006 | 351349 | 107354.1 |  41089 | 34.8 | 13.096823 | 2050.312 |\n| Wichita, KS    | 2007 | 355266 | 111378.1 |  42696 | 35.0 | 15.245344 | 2005.705 |\n| Wichita, KS    | 2008 | 358047 | 114261.8 |  44211 | 34.0 | 16.408939 | 1797.010 |\n| Wichita, KS    | 2009 | 364108 | 115047.3 |  44405 | 34.3 |  9.897806 | 1472.815 |\n| Wichita, KS    | 2010 | 378148 | 117629.0 |  42694 | 33.9 |  8.734963 | 1643.276 |\n| Wichita, KS    | 2011 | 379792 | 114371.6 |  44184 | 34.3 | 10.462393 | 1767.538 |\n| Wichita, KS    | 2012 | 380372 | 110632.7 |  43776 | 35.1 |  8.034788 | 1788.248 |\n| Wichita, KS    | 2013 | 380784 | 111972.3 |  43538 | 34.0 |  7.482116 | 1770.724 |\n| Wichita, KS    | 2014 | 382385 | 112149.6 |  45477 | 34.0 |  6.848021 | 1837.634 |\n| Wichita, KS    | 2015 | 383590 | 115130.5 |  46894 | 34.6 |  4.994331 | 1767.538 |\n| Wichita, KS    | 2016 | 385045 | 121298.5 |  49202 | 34.7 |  5.754310 | 1734.879 |\n| Wichita, KS    | 2017 | 385843 | 124458.6 |  50504 | 35.9 |  6.689720 | 1830.465 |\n| Wichita, KS    | 2018 | 382995 | 128795.6 |  51051 | 35.3 |  4.901292 | 1952.336 |\n| Wichita, KS    | 2019 | 384278 | 134578.1 |  55056 | 35.3 |  5.507219 | 1875.071 |\n| Wichita, KS    | 2020 | 385454 | 144699.0 |  53466 | 35.3 |  5.570981 | 1730.100 |\n| Wichita, KS    | 2021 | 390384 | 158485.9 |  56293 | 35.6 |  7.203338 | 1899.764 |\n| Wichita, KS    | 2022 | 393547 | 177256.4 |  59277 | 36.2 |  6.025616 | 1916.492 |\n| Wichita, KS    | 2023 | 392189 | 194398.3 |  61281 | 36.8 |  4.093885 | 1821.703 |\n\n",
            "text/latex": "A data.frame: 627 × 8\n\\begin{tabular}{llllllll}\n city & year & geomobility & housing\\_price & income & median\\_age & unemployment & truck\\_cost\\\\\n <chr> & <int> & <dbl> & <dbl> & <dbl> & <dbl> & <dbl> & <dbl>\\\\\n\\hline\n\t Albuquerque, NM & 2005 & 482442 & 153134.1 & 41820 & 35.8 & 14.533702 & 2110.948\\\\\n\t Albuquerque, NM & 2006 & 485982 & 170259.0 & 43021 & 35.3 & 18.786019 & 2183.914\\\\\n\t Albuquerque, NM & 2007 & 505490 & 193305.9 & 43677 & 35.2 & 19.911130 & 2136.401\\\\\n\t Albuquerque, NM & 2008 & 506706 & 200215.2 & 46437 & 35.5 & 19.150972 & 1914.107\\\\\n\t Albuquerque, NM & 2009 & 519532 & 187486.9 & 44594 & 34.0 & 13.877965 & 1568.787\\\\\n\t Albuquerque, NM & 2010 & 540574 & 180903.8 & 46079 & 35.2 & 12.436434 & 1750.356\\\\\n\t Albuquerque, NM & 2011 & 544579 & 171329.0 & 43606 & 35.5 & 10.542100 & 1882.714\\\\\n\t Albuquerque, NM & 2012 & 548340 & 164757.2 & 45373 & 35.3 &  8.817330 & 1904.774\\\\\n\t Albuquerque, NM & 2013 & 549629 & 163877.8 & 48357 & 35.8 &  7.260191 & 1886.108\\\\\n\t Albuquerque, NM & 2014 & 550317 & 166668.6 & 46433 & 35.7 &  8.308843 & 1957.378\\\\\n\t Albuquerque, NM & 2015 & 552275 & 169546.4 & 47096 & 36.0 &  6.681222 & 1882.714\\\\\n\t Albuquerque, NM & 2016 & 553849 & 176038.3 & 50522 & 36.5 &  5.212342 & 1847.928\\\\\n\t Albuquerque, NM & 2017 & 551049 & 183130.7 & 50456 & 37.0 &  4.805098 & 1949.742\\\\\n\t Albuquerque, NM & 2018 & 553759 & 189542.2 & 51099 & 37.2 &  5.734425 & 2079.555\\\\\n\t Albuquerque, NM & 2019 & 553804 & 198026.6 & 55567 & 37.3 &  5.082790 & 1997.255\\\\\n\t Albuquerque, NM & 2020 & 554784 & 212967.8 & 53936 & 37.1 &  5.594741 & 1842.837\\\\\n\t Albuquerque, NM & 2021 & 558997 & 241066.3 & 58512 & 38.9 &  6.105605 & 2023.557\\\\\n\t Albuquerque, NM & 2022 & 554890 & 280587.6 & 64757 & 38.4 &  4.188383 & 2041.375\\\\\n\t Albuquerque, NM & 2023 & 555391 & 308189.9 & 67907 & 39.2 &  4.337847 & 1940.409\\\\\n\t Atlanta, GA     & 2005 & 388422 & 179505.7 & 39752 & 34.7 & 10.534444 & 2039.852\\\\\n\t Atlanta, GA     & 2006 & 438135 & 186545.6 & 41612 & 35.0 & 10.190236 & 2110.361\\\\\n\t Atlanta, GA     & 2007 & 425366 & 192300.5 & 47153 & 35.0 & 10.807414 & 2064.448\\\\\n\t Atlanta, GA     & 2008 & 447703 & 191047.2 & 48865 & 35.7 & 11.776196 & 1849.640\\\\\n\t Atlanta, GA     & 2009 & 532685 & 171838.8 & 49981 & 33.4 &  7.966137 & 1515.951\\\\\n\t Atlanta, GA     & 2010 & 416670 & 152781.2 & 41631 & 33.2 &  6.696835 & 1691.404\\\\\n\t Atlanta, GA     & 2011 & 427164 & 139138.9 & 43903 & 32.7 & 13.222761 & 1819.305\\\\\n\t Atlanta, GA     & 2012 & 438201 & 125489.5 & 46466 & 33.1 & 14.661379 & 1840.622\\\\\n\t Atlanta, GA     & 2013 & 441997 & 131061.1 & 46485 & 33.1 & 11.253640 & 1822.584\\\\\n\t Atlanta, GA     & 2014 & 449800 & 154395.4 & 46777 & 33.5 & 10.482968 & 1891.454\\\\\n\t Atlanta, GA     & 2015 & 460327 & 169023.9 & 50210 & 33.8 &  7.382863 & 1819.305\\\\\n\t ⋮ & ⋮ & ⋮ & ⋮ & ⋮ & ⋮ & ⋮ & ⋮\\\\\n\t Washington, DC & 2013 & 636535 & 336099.6 &  67572 & 33.8 & 10.446569 & 2093.422\\\\\n\t Washington, DC & 2014 & 648586 & 362697.9 &  71648 & 33.8 &  8.859504 & 2172.526\\\\\n\t Washington, DC & 2015 & 663006 & 373022.7 &  75628 & 33.8 &  7.250638 & 2089.656\\\\\n\t Washington, DC & 2016 & 672022 & 383018.4 &  75506 & 33.9 &  6.919595 & 2051.046\\\\\n\t Washington, DC & 2017 & 684810 & 391994.5 &  82372 & 34.0 &  6.590778 & 2164.051\\\\\n\t Washington, DC & 2018 & 693798 & 405671.3 &  85203 & 33.9 &  7.541190 & 2308.133\\\\\n\t Washington, DC & 2019 & 697556 & 418772.4 &  92266 & 34.3 &  6.263807 & 2216.787\\\\\n\t Washington, DC & 2020 & 693253 & 434866.2 &  90842 & 34.1 &  7.119626 & 2045.395\\\\\n\t Washington, DC & 2021 & 661026 & 473189.9 &  90088 & 34.8 &  8.200761 & 2245.980\\\\\n\t Washington, DC & 2022 & 660942 & 514291.0 & 101027 & 34.9 &  5.112622 & 2265.756\\\\\n\t Washington, DC & 2023 & 670127 & 532275.5 & 108210 & 34.9 &  5.258939 & 2153.692\\\\\n\t Wichita, KS    & 2005 & 347984 & 109902.9 &  40115 & 34.2 & 12.318049 & 1981.809\\\\\n\t Wichita, KS    & 2006 & 351349 & 107354.1 &  41089 & 34.8 & 13.096823 & 2050.312\\\\\n\t Wichita, KS    & 2007 & 355266 & 111378.1 &  42696 & 35.0 & 15.245344 & 2005.705\\\\\n\t Wichita, KS    & 2008 & 358047 & 114261.8 &  44211 & 34.0 & 16.408939 & 1797.010\\\\\n\t Wichita, KS    & 2009 & 364108 & 115047.3 &  44405 & 34.3 &  9.897806 & 1472.815\\\\\n\t Wichita, KS    & 2010 & 378148 & 117629.0 &  42694 & 33.9 &  8.734963 & 1643.276\\\\\n\t Wichita, KS    & 2011 & 379792 & 114371.6 &  44184 & 34.3 & 10.462393 & 1767.538\\\\\n\t Wichita, KS    & 2012 & 380372 & 110632.7 &  43776 & 35.1 &  8.034788 & 1788.248\\\\\n\t Wichita, KS    & 2013 & 380784 & 111972.3 &  43538 & 34.0 &  7.482116 & 1770.724\\\\\n\t Wichita, KS    & 2014 & 382385 & 112149.6 &  45477 & 34.0 &  6.848021 & 1837.634\\\\\n\t Wichita, KS    & 2015 & 383590 & 115130.5 &  46894 & 34.6 &  4.994331 & 1767.538\\\\\n\t Wichita, KS    & 2016 & 385045 & 121298.5 &  49202 & 34.7 &  5.754310 & 1734.879\\\\\n\t Wichita, KS    & 2017 & 385843 & 124458.6 &  50504 & 35.9 &  6.689720 & 1830.465\\\\\n\t Wichita, KS    & 2018 & 382995 & 128795.6 &  51051 & 35.3 &  4.901292 & 1952.336\\\\\n\t Wichita, KS    & 2019 & 384278 & 134578.1 &  55056 & 35.3 &  5.507219 & 1875.071\\\\\n\t Wichita, KS    & 2020 & 385454 & 144699.0 &  53466 & 35.3 &  5.570981 & 1730.100\\\\\n\t Wichita, KS    & 2021 & 390384 & 158485.9 &  56293 & 35.6 &  7.203338 & 1899.764\\\\\n\t Wichita, KS    & 2022 & 393547 & 177256.4 &  59277 & 36.2 &  6.025616 & 1916.492\\\\\n\t Wichita, KS    & 2023 & 392189 & 194398.3 &  61281 & 36.8 &  4.093885 & 1821.703\\\\\n\\end{tabular}\n",
            "text/plain": [
              "    city            year geomobility housing_price income median_age\n",
              "1   Albuquerque, NM 2005 482442      153134.1      41820  35.8      \n",
              "2   Albuquerque, NM 2006 485982      170259.0      43021  35.3      \n",
              "3   Albuquerque, NM 2007 505490      193305.9      43677  35.2      \n",
              "4   Albuquerque, NM 2008 506706      200215.2      46437  35.5      \n",
              "5   Albuquerque, NM 2009 519532      187486.9      44594  34.0      \n",
              "6   Albuquerque, NM 2010 540574      180903.8      46079  35.2      \n",
              "7   Albuquerque, NM 2011 544579      171329.0      43606  35.5      \n",
              "8   Albuquerque, NM 2012 548340      164757.2      45373  35.3      \n",
              "9   Albuquerque, NM 2013 549629      163877.8      48357  35.8      \n",
              "10  Albuquerque, NM 2014 550317      166668.6      46433  35.7      \n",
              "11  Albuquerque, NM 2015 552275      169546.4      47096  36.0      \n",
              "12  Albuquerque, NM 2016 553849      176038.3      50522  36.5      \n",
              "13  Albuquerque, NM 2017 551049      183130.7      50456  37.0      \n",
              "14  Albuquerque, NM 2018 553759      189542.2      51099  37.2      \n",
              "15  Albuquerque, NM 2019 553804      198026.6      55567  37.3      \n",
              "16  Albuquerque, NM 2020 554784      212967.8      53936  37.1      \n",
              "17  Albuquerque, NM 2021 558997      241066.3      58512  38.9      \n",
              "18  Albuquerque, NM 2022 554890      280587.6      64757  38.4      \n",
              "19  Albuquerque, NM 2023 555391      308189.9      67907  39.2      \n",
              "20  Atlanta, GA     2005 388422      179505.7      39752  34.7      \n",
              "21  Atlanta, GA     2006 438135      186545.6      41612  35.0      \n",
              "22  Atlanta, GA     2007 425366      192300.5      47153  35.0      \n",
              "23  Atlanta, GA     2008 447703      191047.2      48865  35.7      \n",
              "24  Atlanta, GA     2009 532685      171838.8      49981  33.4      \n",
              "25  Atlanta, GA     2010 416670      152781.2      41631  33.2      \n",
              "26  Atlanta, GA     2011 427164      139138.9      43903  32.7      \n",
              "27  Atlanta, GA     2012 438201      125489.5      46466  33.1      \n",
              "28  Atlanta, GA     2013 441997      131061.1      46485  33.1      \n",
              "29  Atlanta, GA     2014 449800      154395.4      46777  33.5      \n",
              "30  Atlanta, GA     2015 460327      169023.9      50210  33.8      \n",
              "⋮   ⋮               ⋮    ⋮           ⋮             ⋮      ⋮         \n",
              "598 Washington, DC  2013 636535      336099.6       67572 33.8      \n",
              "599 Washington, DC  2014 648586      362697.9       71648 33.8      \n",
              "600 Washington, DC  2015 663006      373022.7       75628 33.8      \n",
              "601 Washington, DC  2016 672022      383018.4       75506 33.9      \n",
              "602 Washington, DC  2017 684810      391994.5       82372 34.0      \n",
              "603 Washington, DC  2018 693798      405671.3       85203 33.9      \n",
              "604 Washington, DC  2019 697556      418772.4       92266 34.3      \n",
              "605 Washington, DC  2020 693253      434866.2       90842 34.1      \n",
              "606 Washington, DC  2021 661026      473189.9       90088 34.8      \n",
              "607 Washington, DC  2022 660942      514291.0      101027 34.9      \n",
              "608 Washington, DC  2023 670127      532275.5      108210 34.9      \n",
              "609 Wichita, KS     2005 347984      109902.9       40115 34.2      \n",
              "610 Wichita, KS     2006 351349      107354.1       41089 34.8      \n",
              "611 Wichita, KS     2007 355266      111378.1       42696 35.0      \n",
              "612 Wichita, KS     2008 358047      114261.8       44211 34.0      \n",
              "613 Wichita, KS     2009 364108      115047.3       44405 34.3      \n",
              "614 Wichita, KS     2010 378148      117629.0       42694 33.9      \n",
              "615 Wichita, KS     2011 379792      114371.6       44184 34.3      \n",
              "616 Wichita, KS     2012 380372      110632.7       43776 35.1      \n",
              "617 Wichita, KS     2013 380784      111972.3       43538 34.0      \n",
              "618 Wichita, KS     2014 382385      112149.6       45477 34.0      \n",
              "619 Wichita, KS     2015 383590      115130.5       46894 34.6      \n",
              "620 Wichita, KS     2016 385045      121298.5       49202 34.7      \n",
              "621 Wichita, KS     2017 385843      124458.6       50504 35.9      \n",
              "622 Wichita, KS     2018 382995      128795.6       51051 35.3      \n",
              "623 Wichita, KS     2019 384278      134578.1       55056 35.3      \n",
              "624 Wichita, KS     2020 385454      144699.0       53466 35.3      \n",
              "625 Wichita, KS     2021 390384      158485.9       56293 35.6      \n",
              "626 Wichita, KS     2022 393547      177256.4       59277 36.2      \n",
              "627 Wichita, KS     2023 392189      194398.3       61281 36.8      \n",
              "    unemployment truck_cost\n",
              "1   14.533702    2110.948  \n",
              "2   18.786019    2183.914  \n",
              "3   19.911130    2136.401  \n",
              "4   19.150972    1914.107  \n",
              "5   13.877965    1568.787  \n",
              "6   12.436434    1750.356  \n",
              "7   10.542100    1882.714  \n",
              "8    8.817330    1904.774  \n",
              "9    7.260191    1886.108  \n",
              "10   8.308843    1957.378  \n",
              "11   6.681222    1882.714  \n",
              "12   5.212342    1847.928  \n",
              "13   4.805098    1949.742  \n",
              "14   5.734425    2079.555  \n",
              "15   5.082790    1997.255  \n",
              "16   5.594741    1842.837  \n",
              "17   6.105605    2023.557  \n",
              "18   4.188383    2041.375  \n",
              "19   4.337847    1940.409  \n",
              "20  10.534444    2039.852  \n",
              "21  10.190236    2110.361  \n",
              "22  10.807414    2064.448  \n",
              "23  11.776196    1849.640  \n",
              "24   7.966137    1515.951  \n",
              "25   6.696835    1691.404  \n",
              "26  13.222761    1819.305  \n",
              "27  14.661379    1840.622  \n",
              "28  11.253640    1822.584  \n",
              "29  10.482968    1891.454  \n",
              "30   7.382863    1819.305  \n",
              "⋮   ⋮            ⋮         \n",
              "598 10.446569    2093.422  \n",
              "599  8.859504    2172.526  \n",
              "600  7.250638    2089.656  \n",
              "601  6.919595    2051.046  \n",
              "602  6.590778    2164.051  \n",
              "603  7.541190    2308.133  \n",
              "604  6.263807    2216.787  \n",
              "605  7.119626    2045.395  \n",
              "606  8.200761    2245.980  \n",
              "607  5.112622    2265.756  \n",
              "608  5.258939    2153.692  \n",
              "609 12.318049    1981.809  \n",
              "610 13.096823    2050.312  \n",
              "611 15.245344    2005.705  \n",
              "612 16.408939    1797.010  \n",
              "613  9.897806    1472.815  \n",
              "614  8.734963    1643.276  \n",
              "615 10.462393    1767.538  \n",
              "616  8.034788    1788.248  \n",
              "617  7.482116    1770.724  \n",
              "618  6.848021    1837.634  \n",
              "619  4.994331    1767.538  \n",
              "620  5.754310    1734.879  \n",
              "621  6.689720    1830.465  \n",
              "622  4.901292    1952.336  \n",
              "623  5.507219    1875.071  \n",
              "624  5.570981    1730.100  \n",
              "625  7.203338    1899.764  \n",
              "626  6.025616    1916.492  \n",
              "627  4.093885    1821.703  "
            ]
          },
          "metadata": {}
        }
      ]
    },
    {
      "cell_type": "code",
      "source": [
        "str(merged_data)"
      ],
      "metadata": {
        "colab": {
          "base_uri": "https://localhost:8080/"
        },
        "id": "Iwnn2H2AuCjP",
        "outputId": "d6f283d0-6bc5-434f-e1db-69da0ac2c583"
      },
      "execution_count": 124,
      "outputs": [
        {
          "output_type": "stream",
          "name": "stdout",
          "text": [
            "'data.frame':\t627 obs. of  8 variables:\n",
            " $ city         : chr  \"Albuquerque, NM\" \"Albuquerque, NM\" \"Albuquerque, NM\" \"Albuquerque, NM\" ...\n",
            " $ year         : int  2005 2006 2007 2008 2009 2010 2011 2012 2013 2014 ...\n",
            " $ geomobility  : num  482442 485982 505490 506706 519532 ...\n",
            " $ housing_price: num  153134 170259 193306 200215 187487 ...\n",
            " $ income       : num  41820 43021 43677 46437 44594 ...\n",
            " $ median_age   : num  35.8 35.3 35.2 35.5 34 35.2 35.5 35.3 35.8 35.7 ...\n",
            " $ unemployment : num  14.5 18.8 19.9 19.2 13.9 ...\n",
            " $ truck_cost   : num  2111 2184 2136 1914 1569 ...\n"
          ]
        }
      ]
    },
    {
      "cell_type": "code",
      "source": [
        "write.csv(merged_data, \"merged_data.csv\")"
      ],
      "metadata": {
        "id": "PsGwyTT6eLwy"
      },
      "execution_count": 125,
      "outputs": []
    }
  ]
}