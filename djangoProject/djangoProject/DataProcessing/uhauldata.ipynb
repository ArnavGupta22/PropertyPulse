{
 "cells": [
  {
   "cell_type": "code",
   "execution_count": 2,
   "metadata": {},
   "outputs": [],
   "source": [
    "import pandas as pd"
   ]
  },
  {
   "cell_type": "code",
   "execution_count": 3,
   "metadata": {},
   "outputs": [],
   "source": [
    "uhauldata = pd.read_csv(\"../data/uhauloutput-35cities.csv\")"
   ]
  },
  {
   "cell_type": "code",
   "execution_count": 4,
   "metadata": {},
   "outputs": [],
   "source": [
    "incomedata = pd.read_csv(\"../data/income32.csv\")"
   ]
  },
  {
   "cell_type": "code",
   "execution_count": 6,
   "metadata": {},
   "outputs": [],
   "source": [
    "uhauldata_filtered = uhauldata[\n",
    "    (uhauldata['Pickup Location'].isin(incomedata[\"City\"].unique())) &\n",
    "    (uhauldata['Dropoff Location'].isin(incomedata[\"City\"].unique()))\n",
    "]"
   ]
  },
  {
   "cell_type": "code",
   "execution_count": 7,
   "metadata": {},
   "outputs": [
    {
     "data": {
      "text/html": [
       "<div>\n",
       "<style scoped>\n",
       "    .dataframe tbody tr th:only-of-type {\n",
       "        vertical-align: middle;\n",
       "    }\n",
       "\n",
       "    .dataframe tbody tr th {\n",
       "        vertical-align: top;\n",
       "    }\n",
       "\n",
       "    .dataframe thead th {\n",
       "        text-align: right;\n",
       "    }\n",
       "</style>\n",
       "<table border=\"1\" class=\"dataframe\">\n",
       "  <thead>\n",
       "    <tr style=\"text-align: right;\">\n",
       "      <th></th>\n",
       "      <th>Pickup Location</th>\n",
       "      <th>Dropoff Location</th>\n",
       "      <th>Rate</th>\n",
       "      <th>Truck Type</th>\n",
       "      <th>Moving Type</th>\n",
       "      <th>Date</th>\n",
       "    </tr>\n",
       "  </thead>\n",
       "  <tbody>\n",
       "    <tr>\n",
       "      <th>0</th>\n",
       "      <td>Atlanta, GA</td>\n",
       "      <td>Boston, MA</td>\n",
       "      <td>$2,111.00</td>\n",
       "      <td>10' Truck</td>\n",
       "      <td>Studio to 1 Bedroom Apt.</td>\n",
       "      <td>09/28/2024</td>\n",
       "    </tr>\n",
       "    <tr>\n",
       "      <th>1</th>\n",
       "      <td>Atlanta, GA</td>\n",
       "      <td>Boston, MA</td>\n",
       "      <td>$2,223.00</td>\n",
       "      <td>15' Truck</td>\n",
       "      <td>1 Bedroom Home to 2 Bedroom Apt.</td>\n",
       "      <td>09/28/2024</td>\n",
       "    </tr>\n",
       "    <tr>\n",
       "      <th>2</th>\n",
       "      <td>Atlanta, GA</td>\n",
       "      <td>Boston, MA</td>\n",
       "      <td>$2,443.00</td>\n",
       "      <td>20' Truck</td>\n",
       "      <td>2 Bedroom Home to 3 Bedroom Apt.</td>\n",
       "      <td>09/28/2024</td>\n",
       "    </tr>\n",
       "    <tr>\n",
       "      <th>3</th>\n",
       "      <td>Atlanta, GA</td>\n",
       "      <td>Boston, MA</td>\n",
       "      <td>$2,779.00</td>\n",
       "      <td>26' Truck</td>\n",
       "      <td>3 Bedroom Home to 4 Bedroom Home</td>\n",
       "      <td>09/28/2024</td>\n",
       "    </tr>\n",
       "    <tr>\n",
       "      <th>8</th>\n",
       "      <td>Atlanta, GA</td>\n",
       "      <td>Charlotte, NC</td>\n",
       "      <td>$429.00</td>\n",
       "      <td>10' Truck</td>\n",
       "      <td>Studio to 1 Bedroom Apt.</td>\n",
       "      <td>09/28/2024</td>\n",
       "    </tr>\n",
       "    <tr>\n",
       "      <th>...</th>\n",
       "      <td>...</td>\n",
       "      <td>...</td>\n",
       "      <td>...</td>\n",
       "      <td>...</td>\n",
       "      <td>...</td>\n",
       "      <td>...</td>\n",
       "    </tr>\n",
       "    <tr>\n",
       "      <th>4732</th>\n",
       "      <td>Wichita, KS</td>\n",
       "      <td>Tucson, AZ</td>\n",
       "      <td>$2,023.00</td>\n",
       "      <td>26' Truck</td>\n",
       "      <td>3 Bedroom Home to 4 Bedroom Home</td>\n",
       "      <td>09/28/2024</td>\n",
       "    </tr>\n",
       "    <tr>\n",
       "      <th>4733</th>\n",
       "      <td>Wichita, KS</td>\n",
       "      <td>Tulsa, OK</td>\n",
       "      <td>$285.00</td>\n",
       "      <td>10' Truck</td>\n",
       "      <td>Studio to 1 Bedroom Apt.</td>\n",
       "      <td>09/28/2024</td>\n",
       "    </tr>\n",
       "    <tr>\n",
       "      <th>4734</th>\n",
       "      <td>Wichita, KS</td>\n",
       "      <td>Tulsa, OK</td>\n",
       "      <td>$300.00</td>\n",
       "      <td>15' Truck</td>\n",
       "      <td>1 Bedroom Home to 2 Bedroom Apt.</td>\n",
       "      <td>09/28/2024</td>\n",
       "    </tr>\n",
       "    <tr>\n",
       "      <th>4735</th>\n",
       "      <td>Wichita, KS</td>\n",
       "      <td>Tulsa, OK</td>\n",
       "      <td>$331.00</td>\n",
       "      <td>20' Truck</td>\n",
       "      <td>2 Bedroom Home to 3 Bedroom Apt.</td>\n",
       "      <td>09/28/2024</td>\n",
       "    </tr>\n",
       "    <tr>\n",
       "      <th>4736</th>\n",
       "      <td>Wichita, KS</td>\n",
       "      <td>Tulsa, OK</td>\n",
       "      <td>$375.00</td>\n",
       "      <td>26' Truck</td>\n",
       "      <td>3 Bedroom Home to 4 Bedroom Home</td>\n",
       "      <td>09/28/2024</td>\n",
       "    </tr>\n",
       "  </tbody>\n",
       "</table>\n",
       "<p>3948 rows × 6 columns</p>\n",
       "</div>"
      ],
      "text/plain": [
       "     Pickup Location Dropoff Location       Rate Truck Type  \\\n",
       "0        Atlanta, GA       Boston, MA  $2,111.00  10' Truck   \n",
       "1        Atlanta, GA       Boston, MA  $2,223.00  15' Truck   \n",
       "2        Atlanta, GA       Boston, MA  $2,443.00  20' Truck   \n",
       "3        Atlanta, GA       Boston, MA  $2,779.00  26' Truck   \n",
       "8        Atlanta, GA    Charlotte, NC    $429.00  10' Truck   \n",
       "...              ...              ...        ...        ...   \n",
       "4732     Wichita, KS       Tucson, AZ  $2,023.00  26' Truck   \n",
       "4733     Wichita, KS        Tulsa, OK    $285.00  10' Truck   \n",
       "4734     Wichita, KS        Tulsa, OK    $300.00  15' Truck   \n",
       "4735     Wichita, KS        Tulsa, OK    $331.00  20' Truck   \n",
       "4736     Wichita, KS        Tulsa, OK    $375.00  26' Truck   \n",
       "\n",
       "                           Moving Type        Date  \n",
       "0             Studio to 1 Bedroom Apt.  09/28/2024  \n",
       "1     1 Bedroom Home to 2 Bedroom Apt.  09/28/2024  \n",
       "2     2 Bedroom Home to 3 Bedroom Apt.  09/28/2024  \n",
       "3     3 Bedroom Home to 4 Bedroom Home  09/28/2024  \n",
       "8             Studio to 1 Bedroom Apt.  09/28/2024  \n",
       "...                                ...         ...  \n",
       "4732  3 Bedroom Home to 4 Bedroom Home  09/28/2024  \n",
       "4733          Studio to 1 Bedroom Apt.  09/28/2024  \n",
       "4734  1 Bedroom Home to 2 Bedroom Apt.  09/28/2024  \n",
       "4735  2 Bedroom Home to 3 Bedroom Apt.  09/28/2024  \n",
       "4736  3 Bedroom Home to 4 Bedroom Home  09/28/2024  \n",
       "\n",
       "[3948 rows x 6 columns]"
      ]
     },
     "execution_count": 7,
     "metadata": {},
     "output_type": "execute_result"
    }
   ],
   "source": [
    "uhauldata_filtered"
   ]
  },
  {
   "cell_type": "code",
   "execution_count": 10,
   "metadata": {},
   "outputs": [
    {
     "data": {
      "text/plain": [
       "(32,)"
      ]
     },
     "execution_count": 10,
     "metadata": {},
     "output_type": "execute_result"
    }
   ],
   "source": []
  }
 ],
 "metadata": {
  "kernelspec": {
   "display_name": "venv",
   "language": "python",
   "name": "python3"
  },
  "language_info": {
   "codemirror_mode": {
    "name": "ipython",
    "version": 3
   },
   "file_extension": ".py",
   "mimetype": "text/x-python",
   "name": "python",
   "nbconvert_exporter": "python",
   "pygments_lexer": "ipython3",
   "version": "3.12.3"
  }
 },
 "nbformat": 4,
 "nbformat_minor": 2
}
