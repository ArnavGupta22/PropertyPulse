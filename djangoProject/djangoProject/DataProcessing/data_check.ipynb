{
 "cells": [
  {
   "cell_type": "code",
   "execution_count": 1,
   "metadata": {},
   "outputs": [],
   "source": [
    "import pandas as pd\n"
   ]
  },
  {
   "cell_type": "code",
   "execution_count": 12,
   "metadata": {},
   "outputs": [],
   "source": [
    "merged_data = pd.read_csv(\"../data/merged_data.csv\")"
   ]
  },
  {
   "cell_type": "code",
   "execution_count": 13,
   "metadata": {},
   "outputs": [],
   "source": [
    "merged_data.rename(columns={'year': 'city', 'city': 'year'}, inplace=True)"
   ]
  },
  {
   "cell_type": "code",
   "execution_count": 14,
   "metadata": {},
   "outputs": [],
   "source": [
    "merged_data = merged_data.drop(\"Unnamed: 0\", axis=1)"
   ]
  },
  {
   "cell_type": "code",
   "execution_count": 23,
   "metadata": {},
   "outputs": [
    {
     "data": {
      "text/plain": [
       "array(['Albuquerque, NM', 'Sacramento, CA', 'Seattle, WA', 'Raleigh, NC',\n",
       "       'Las Vegas, NV', 'Denver, CO', 'Wichita, KS', 'San Antonio, TX',\n",
       "       'Tulsa, OK', 'Riverside, CA', 'New Orleans, LA', 'Toledo, OH',\n",
       "       'Chicago, IL', 'Stockton, CA', 'Washington, DC', 'Greensboro, NC',\n",
       "       'Omaha, NE', 'Tucson, AZ', 'San Francisco, CA', 'Anchorage, AK',\n",
       "       'Pittsburgh, PA', 'St. Louis, MO', 'Philadelphia, PA',\n",
       "       'Lincoln, NE', 'Detroit, MI', 'Portland, OR', 'San Diego, CA',\n",
       "       'Milwaukee, WI', 'Phoenix, AZ', 'Los Angeles, CA', 'El Paso, TX',\n",
       "       'Cincinnati, OH', 'Tampa, FL', 'Minneapolis, MN', 'Houston, TX',\n",
       "       'Memphis, TN', 'Fresno, CA', 'San Jose, CA', 'Atlanta, GA',\n",
       "       'Columbus, OH', 'Jacksonville, FL', 'Corpus Christi, TX',\n",
       "       'Dallas, TX', 'Baltimore, MD', 'Austin, TX', 'Cleveland, OH',\n",
       "       'Boston, MA', 'Charlotte, NC'], dtype=object)"
      ]
     },
     "execution_count": 23,
     "metadata": {},
     "output_type": "execute_result"
    }
   ],
   "source": [
    "merged_data[\"city\"].unique()"
   ]
  },
  {
   "cell_type": "code",
   "execution_count": 24,
   "metadata": {},
   "outputs": [],
   "source": [
    "pivot = merged_data.pivot(index='city', columns='year', values='geomobility')"
   ]
  },
  {
   "cell_type": "code",
   "execution_count": 28,
   "metadata": {},
   "outputs": [],
   "source": [
    "t = pd.read_csv(\"../data/houseprice_35cities.csv\")"
   ]
  },
  {
   "cell_type": "code",
   "execution_count": 34,
   "metadata": {},
   "outputs": [
    {
     "data": {
      "text/plain": [
       "(32,)"
      ]
     },
     "execution_count": 34,
     "metadata": {},
     "output_type": "execute_result"
    }
   ],
   "source": [
    "merged_data[merged_data[\"city\"].isin(t[\"City\"].unique())][\"city\"].unique().shape"
   ]
  }
 ],
 "metadata": {
  "kernelspec": {
   "display_name": "venv",
   "language": "python",
   "name": "python3"
  },
  "language_info": {
   "codemirror_mode": {
    "name": "ipython",
    "version": 3
   },
   "file_extension": ".py",
   "mimetype": "text/x-python",
   "name": "python",
   "nbconvert_exporter": "python",
   "pygments_lexer": "ipython3",
   "version": "3.12.3"
  }
 },
 "nbformat": 4,
 "nbformat_minor": 2
}
